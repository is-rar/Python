{
 "cells": [
  {
   "cell_type": "markdown",
   "id": "dcfbb31e-f09a-4c11-8b1c-83bc95e54b06",
   "metadata": {},
   "source": [
    "#Strings\n",
    "\n",
    "* Indexing : Forward Index and Backward Index\n",
    "* Slicing\n",
    "\n",
    "Note : These are used in language pre-processing,which is inturn useful for NLP\n",
    "\n",
    "#Indexing\n",
    "\n",
    "* Python index begins with 0 from left to right\n",
    "* Backward index being with -1, from right to left.\n",
    "* Example : 12 letter : 0 to 11 for forward index and -12 to -1 for backward index\n"
   ]
  },
  {
   "cell_type": "code",
   "execution_count": 6,
   "id": "0dbf7036-3d30-4761-ad93-e6c9803d80f9",
   "metadata": {},
   "outputs": [
    {
     "data": {
      "text/plain": [
       "'hello python'"
      ]
     },
     "execution_count": 6,
     "metadata": {},
     "output_type": "execute_result"
    }
   ],
   "source": [
    "st = 'hello python'\n",
    "st"
   ]
  },
  {
   "cell_type": "code",
   "execution_count": 8,
   "id": "1652b018-ffb3-4c2f-8eb1-fc19b185c61f",
   "metadata": {},
   "outputs": [
    {
     "data": {
      "text/plain": [
       "'h'"
      ]
     },
     "execution_count": 8,
     "metadata": {},
     "output_type": "execute_result"
    }
   ],
   "source": [
    "st[0]"
   ]
  },
  {
   "cell_type": "code",
   "execution_count": 10,
   "id": "ceaaa023-8937-4afb-98d0-3450f99b1869",
   "metadata": {},
   "outputs": [
    {
     "data": {
      "text/plain": [
       "'n'"
      ]
     },
     "execution_count": 10,
     "metadata": {},
     "output_type": "execute_result"
    }
   ],
   "source": [
    "st[-1]"
   ]
  },
  {
   "cell_type": "code",
   "execution_count": 12,
   "id": "20c9104a-d8d4-41f0-8165-ebeedf8427b5",
   "metadata": {},
   "outputs": [
    {
     "ename": "IndexError",
     "evalue": "string index out of range",
     "output_type": "error",
     "traceback": [
      "\u001b[1;31m---------------------------------------------------------------------------\u001b[0m",
      "\u001b[1;31mIndexError\u001b[0m                                Traceback (most recent call last)",
      "Cell \u001b[1;32mIn[12], line 1\u001b[0m\n\u001b[1;32m----> 1\u001b[0m st[\u001b[38;5;241m20\u001b[39m]\n",
      "\u001b[1;31mIndexError\u001b[0m: string index out of range"
     ]
    }
   ],
   "source": [
    "st[20]"
   ]
  },
  {
   "cell_type": "markdown",
   "id": "f9c7a2ae-c21b-40de-9b91-62fe336a6e67",
   "metadata": {},
   "source": [
    "#Slicing\n",
    "\n",
    "* : This sign will print all elements in the entire string"
   ]
  },
  {
   "cell_type": "code",
   "execution_count": 15,
   "id": "415032a8-591c-44f9-9ac0-b83698defc2d",
   "metadata": {},
   "outputs": [
    {
     "data": {
      "text/plain": [
       "'hello python'"
      ]
     },
     "execution_count": 15,
     "metadata": {},
     "output_type": "execute_result"
    }
   ],
   "source": [
    "st"
   ]
  },
  {
   "cell_type": "code",
   "execution_count": 17,
   "id": "566c5a00-d5fc-4027-985e-75d1b900b41d",
   "metadata": {},
   "outputs": [
    {
     "data": {
      "text/plain": [
       "'hello python'"
      ]
     },
     "execution_count": 17,
     "metadata": {},
     "output_type": "execute_result"
    }
   ],
   "source": [
    "st[:]"
   ]
  },
  {
   "cell_type": "code",
   "execution_count": 21,
   "id": "04f5a3cf-8c31-4207-bea6-5356fa7068e6",
   "metadata": {},
   "outputs": [
    {
     "data": {
      "text/plain": [
       "'python'"
      ]
     },
     "execution_count": 21,
     "metadata": {},
     "output_type": "execute_result"
    }
   ],
   "source": [
    "st[6:12] #Index 6 is included and 12 is excluded"
   ]
  },
  {
   "cell_type": "code",
   "execution_count": 23,
   "id": "2f85f043-84fb-492c-9761-b3c5b4d87cbe",
   "metadata": {},
   "outputs": [
    {
     "data": {
      "text/plain": [
       "'hello'"
      ]
     },
     "execution_count": 23,
     "metadata": {},
     "output_type": "execute_result"
    }
   ],
   "source": [
    "st[0:5]"
   ]
  },
  {
   "cell_type": "code",
   "execution_count": 25,
   "id": "3d0f3b5e-102a-4c52-a5eb-ed2341c46d44",
   "metadata": {},
   "outputs": [
    {
     "data": {
      "text/plain": [
       "'fine'"
      ]
     },
     "execution_count": 25,
     "metadata": {},
     "output_type": "execute_result"
    }
   ],
   "source": [
    "st1 = 'fine'\n",
    "st1\n",
    "#Interview question - Change fine to dine"
   ]
  },
  {
   "cell_type": "code",
   "execution_count": 27,
   "id": "0777485f-49bd-4fb8-8023-671278657375",
   "metadata": {},
   "outputs": [
    {
     "data": {
      "text/plain": [
       "'ine'"
      ]
     },
     "execution_count": 27,
     "metadata": {},
     "output_type": "execute_result"
    }
   ],
   "source": [
    "st1[1:]"
   ]
  },
  {
   "cell_type": "code",
   "execution_count": 31,
   "id": "fb471ea1-0ab6-41cf-8985-ff5aee867f52",
   "metadata": {},
   "outputs": [
    {
     "data": {
      "text/plain": [
       "'dine'"
      ]
     },
     "execution_count": 31,
     "metadata": {},
     "output_type": "execute_result"
    }
   ],
   "source": [
    "'d'+ st1[1:] #Using concatenation"
   ]
  },
  {
   "cell_type": "code",
   "execution_count": 41,
   "id": "a889ff9b-8840-44f5-baec-825f3762cf59",
   "metadata": {},
   "outputs": [],
   "source": [
    "st2 = 'Nareshit'"
   ]
  },
  {
   "cell_type": "code",
   "execution_count": 43,
   "id": "e317301a-1987-4441-91c0-b7f59a6dc10a",
   "metadata": {},
   "outputs": [
    {
     "data": {
      "text/plain": [
       "'Nareshit'"
      ]
     },
     "execution_count": 43,
     "metadata": {},
     "output_type": "execute_result"
    }
   ],
   "source": [
    "st2[:]"
   ]
  },
  {
   "cell_type": "code",
   "execution_count": 47,
   "id": "01660cf3-3b1a-46db-89ec-c755bac5da62",
   "metadata": {},
   "outputs": [
    {
     "data": {
      "text/plain": [
       "'reshit'"
      ]
     },
     "execution_count": 47,
     "metadata": {},
     "output_type": "execute_result"
    }
   ],
   "source": [
    "st2[2:] #It will slice the string from 2nd index till last"
   ]
  },
  {
   "cell_type": "code",
   "execution_count": 51,
   "id": "7145d1b1-7e25-4c68-95af-58e90e46d295",
   "metadata": {},
   "outputs": [
    {
     "data": {
      "text/plain": [
       "'ares'"
      ]
     },
     "execution_count": 51,
     "metadata": {},
     "output_type": "execute_result"
    }
   ],
   "source": [
    "st2[1:5] #It will slice the string from 1st index till 4th index"
   ]
  },
  {
   "cell_type": "code",
   "execution_count": 57,
   "id": "ea0564b7-b2de-445f-b206-e83a959e1ef1",
   "metadata": {},
   "outputs": [
    {
     "data": {
      "text/plain": [
       "'Nareshit'"
      ]
     },
     "execution_count": 57,
     "metadata": {},
     "output_type": "execute_result"
    }
   ],
   "source": [
    "st2[-8:] #It will slice the string from -8th index till last"
   ]
  },
  {
   "cell_type": "code",
   "execution_count": 59,
   "id": "ba81685e-378a-47d9-8409-d40e942f6dc6",
   "metadata": {},
   "outputs": [
    {
     "name": "stdout",
     "output_type": "stream",
     "text": [
      "Nareshit\n",
      "Nareshi\n",
      "hit\n",
      "res\n",
      "Nareshi\n",
      "Nareshit\n"
     ]
    }
   ],
   "source": [
    "print(st2[:])\n",
    "print(st2[0:7])\n",
    "print(st2[5:])\n",
    "print(st2[2:5])\n",
    "print(st2[-8:-1])\n",
    "print(st2[-8:])"
   ]
  },
  {
   "cell_type": "code",
   "execution_count": 61,
   "id": "612a72ef-81e0-48ef-b277-0a021d045fde",
   "metadata": {},
   "outputs": [
    {
     "name": "stdout",
     "output_type": "stream",
     "text": [
      "Nareshit\n"
     ]
    }
   ],
   "source": [
    "print(st2[0:8])"
   ]
  },
  {
   "cell_type": "code",
   "execution_count": 65,
   "id": "8b3f86ec-9232-4d48-907d-84658b5b1f0d",
   "metadata": {},
   "outputs": [
    {
     "name": "stdout",
     "output_type": "stream",
     "text": [
      "\n"
     ]
    }
   ],
   "source": [
    "print(st2[-8:0])"
   ]
  },
  {
   "cell_type": "code",
   "execution_count": 67,
   "id": "929eab08-f3d7-4b72-b625-bc639aa5e1e8",
   "metadata": {},
   "outputs": [
    {
     "name": "stdout",
     "output_type": "stream",
     "text": [
      "Nareshi\n"
     ]
    }
   ],
   "source": [
    "print(st2[-8:-1])"
   ]
  },
  {
   "cell_type": "markdown",
   "id": "4e1b2910-4239-42a0-8dd2-3652b5db0c37",
   "metadata": {},
   "source": [
    "Advanced Slicing"
   ]
  },
  {
   "cell_type": "code",
   "execution_count": 70,
   "id": "79778ec6-2fd0-46b7-8927-40791933fb01",
   "metadata": {},
   "outputs": [
    {
     "data": {
      "text/plain": [
       "'tihseraN'"
      ]
     },
     "execution_count": 70,
     "metadata": {},
     "output_type": "execute_result"
    }
   ],
   "source": [
    "st2[::-1]"
   ]
  },
  {
   "cell_type": "code",
   "execution_count": 72,
   "id": "79bc32e8-44db-40b0-8b5d-66303b5854a3",
   "metadata": {},
   "outputs": [
    {
     "data": {
      "text/plain": [
       "'Nrsi'"
      ]
     },
     "execution_count": 72,
     "metadata": {},
     "output_type": "execute_result"
    }
   ],
   "source": [
    "st2[:8:2]"
   ]
  },
  {
   "cell_type": "code",
   "execution_count": 74,
   "id": "98aa02db-18db-4fb5-a2ab-285fdf6fcbb6",
   "metadata": {},
   "outputs": [
    {
     "data": {
      "text/plain": [
       "'Nei'"
      ]
     },
     "execution_count": 74,
     "metadata": {},
     "output_type": "execute_result"
    }
   ],
   "source": [
    "st2[:8:3]"
   ]
  },
  {
   "cell_type": "code",
   "execution_count": 76,
   "id": "b3c716cd-248a-434d-b783-4e3942c7c9b3",
   "metadata": {},
   "outputs": [
    {
     "data": {
      "text/plain": [
       "'thea'"
      ]
     },
     "execution_count": 76,
     "metadata": {},
     "output_type": "execute_result"
    }
   ],
   "source": [
    "st2[::-2]"
   ]
  },
  {
   "cell_type": "markdown",
   "id": "046e6780-d838-4c50-8722-2b58152885bc",
   "metadata": {},
   "source": [
    "Cases"
   ]
  },
  {
   "cell_type": "code",
   "execution_count": 79,
   "id": "e381b361-9eda-4ccd-9e66-c77a01d683c0",
   "metadata": {},
   "outputs": [],
   "source": [
    "s = \"NaresH IT\""
   ]
  },
  {
   "cell_type": "code",
   "execution_count": 81,
   "id": "79a279a7-d6fb-4cca-9f0e-c24b3add6859",
   "metadata": {},
   "outputs": [
    {
     "data": {
      "text/plain": [
       "'Naresh it'"
      ]
     },
     "execution_count": 81,
     "metadata": {},
     "output_type": "execute_result"
    }
   ],
   "source": [
    "s.capitalize()"
   ]
  },
  {
   "cell_type": "code",
   "execution_count": 83,
   "id": "1ee7f727-2269-467d-8071-81e787929502",
   "metadata": {},
   "outputs": [
    {
     "data": {
      "text/plain": [
       "'naresh it'"
      ]
     },
     "execution_count": 83,
     "metadata": {},
     "output_type": "execute_result"
    }
   ],
   "source": [
    "s.lower()"
   ]
  },
  {
   "cell_type": "code",
   "execution_count": 85,
   "id": "13e6cb31-ac9a-4f9f-8bf1-39585c84ede2",
   "metadata": {},
   "outputs": [
    {
     "data": {
      "text/plain": [
       "'nARESh it'"
      ]
     },
     "execution_count": 85,
     "metadata": {},
     "output_type": "execute_result"
    }
   ],
   "source": [
    "s.swapcase()"
   ]
  },
  {
   "cell_type": "code",
   "execution_count": 87,
   "id": "6e93a118-3362-41ce-8df9-73ba5b881aff",
   "metadata": {},
   "outputs": [
    {
     "data": {
      "text/plain": [
       "'Naresh It'"
      ]
     },
     "execution_count": 87,
     "metadata": {},
     "output_type": "execute_result"
    }
   ],
   "source": [
    "s.title()"
   ]
  },
  {
   "cell_type": "code",
   "execution_count": 89,
   "id": "42b3fcea-a5a5-499c-8e54-4fe2c062b785",
   "metadata": {},
   "outputs": [
    {
     "data": {
      "text/plain": [
       "'NARESH IT'"
      ]
     },
     "execution_count": 89,
     "metadata": {},
     "output_type": "execute_result"
    }
   ],
   "source": [
    "s.upper()"
   ]
  },
  {
   "cell_type": "markdown",
   "id": "9efde755-3455-440a-be42-b23ffa10134c",
   "metadata": {},
   "source": [
    "Cases - advanced"
   ]
  },
  {
   "cell_type": "code",
   "execution_count": 92,
   "id": "6b35bbbf-1421-4a66-be60-d7d921e132b2",
   "metadata": {},
   "outputs": [
    {
     "name": "stdout",
     "output_type": "stream",
     "text": [
      "Using casefold(): gross\n",
      "Using lower(): groß\n"
     ]
    }
   ],
   "source": [
    "# https://www.programiz.com/python-programming/methods/string/casefold\n",
    "# casefold is more aggressive\n",
    "text = 'groß'\n",
    "\n",
    "# convert text to lowercase using casefold()\n",
    "print('Using casefold():', text.casefold()) \n",
    "\n",
    "# convert text to lowercase using lower()\n",
    "print('Using lower():', text.lower())"
   ]
  },
  {
   "cell_type": "code",
   "execution_count": 94,
   "id": "14c14cf3-cef3-45b6-a3bb-4f91f2bf2f98",
   "metadata": {},
   "outputs": [
    {
     "data": {
      "text/plain": [
       "False"
      ]
     },
     "execution_count": 94,
     "metadata": {},
     "output_type": "execute_result"
    }
   ],
   "source": [
    "s = 'Naresh IT'\n",
    "s.islower()"
   ]
  },
  {
   "cell_type": "code",
   "execution_count": 96,
   "id": "b28d14aa-e95c-4b62-991c-17030602d5b6",
   "metadata": {},
   "outputs": [
    {
     "data": {
      "text/plain": [
       "True"
      ]
     },
     "execution_count": 96,
     "metadata": {},
     "output_type": "execute_result"
    }
   ],
   "source": [
    "s = 'naresh it'\n",
    "s.islower()"
   ]
  },
  {
   "cell_type": "code",
   "execution_count": 98,
   "id": "da1be806-36ba-4570-b3fe-6580cb2a3ef5",
   "metadata": {},
   "outputs": [
    {
     "data": {
      "text/plain": [
       "True"
      ]
     },
     "execution_count": 98,
     "metadata": {},
     "output_type": "execute_result"
    }
   ],
   "source": [
    "s = 'Naresh It'\n",
    "s.istitle()"
   ]
  },
  {
   "cell_type": "code",
   "execution_count": 100,
   "id": "41b9a43d-c91a-4d52-9e20-be4ce7319c58",
   "metadata": {},
   "outputs": [
    {
     "data": {
      "text/plain": [
       "False"
      ]
     },
     "execution_count": 100,
     "metadata": {},
     "output_type": "execute_result"
    }
   ],
   "source": [
    "s = 'Naresh it'\n",
    "s.istitle()"
   ]
  },
  {
   "cell_type": "code",
   "execution_count": 102,
   "id": "acb7d697-2996-4d35-9830-ae710b0a422b",
   "metadata": {},
   "outputs": [
    {
     "data": {
      "text/plain": [
       "False"
      ]
     },
     "execution_count": 102,
     "metadata": {},
     "output_type": "execute_result"
    }
   ],
   "source": [
    "s = 'Naresh it'\n",
    "s.isupper()"
   ]
  },
  {
   "cell_type": "code",
   "execution_count": 104,
   "id": "c2ff2300-60d2-4b30-afb6-cb982a5db30b",
   "metadata": {},
   "outputs": [
    {
     "data": {
      "text/plain": [
       "True"
      ]
     },
     "execution_count": 104,
     "metadata": {},
     "output_type": "execute_result"
    }
   ],
   "source": [
    "s = 'NARESH IT'\n",
    "s.isupper()"
   ]
  },
  {
   "cell_type": "markdown",
   "id": "e85b6c00-e95f-41ff-95fe-69a2f85725a0",
   "metadata": {},
   "source": [
    "Sequence Operations"
   ]
  },
  {
   "cell_type": "code",
   "execution_count": 111,
   "id": "e284cf9d-25c7-494d-824f-0723a76adb51",
   "metadata": {},
   "outputs": [],
   "source": [
    "s = 'Naresh It'"
   ]
  },
  {
   "cell_type": "code",
   "execution_count": 113,
   "id": "ef6702a3-27b3-4b83-9ce8-282b05c674f3",
   "metadata": {},
   "outputs": [
    {
     "data": {
      "text/plain": [
       "True"
      ]
     },
     "execution_count": 113,
     "metadata": {},
     "output_type": "execute_result"
    }
   ],
   "source": [
    "'re' in s"
   ]
  },
  {
   "cell_type": "code",
   "execution_count": 115,
   "id": "9ad3578d-1d07-4405-8a7f-17bb7bce0e60",
   "metadata": {},
   "outputs": [],
   "source": [
    "s2 = ' ds'"
   ]
  },
  {
   "cell_type": "code",
   "execution_count": 117,
   "id": "a839a4bb-bd93-49b6-bb51-a7fb681e0c65",
   "metadata": {},
   "outputs": [
    {
     "data": {
      "text/plain": [
       "'Naresh It ds'"
      ]
     },
     "execution_count": 117,
     "metadata": {},
     "output_type": "execute_result"
    }
   ],
   "source": [
    "s + s2"
   ]
  },
  {
   "cell_type": "code",
   "execution_count": 119,
   "id": "3e551c3c-cbfc-46c3-9c80-31ee8c2075b9",
   "metadata": {},
   "outputs": [
    {
     "data": {
      "text/plain": [
       "9"
      ]
     },
     "execution_count": 119,
     "metadata": {},
     "output_type": "execute_result"
    }
   ],
   "source": [
    "len(s)"
   ]
  },
  {
   "cell_type": "code",
   "execution_count": 123,
   "id": "2083fb1a-b90c-4617-b87a-15f2af68e928",
   "metadata": {},
   "outputs": [
    {
     "data": {
      "text/plain": [
       "' '"
      ]
     },
     "execution_count": 123,
     "metadata": {},
     "output_type": "execute_result"
    }
   ],
   "source": [
    "min(s) #Smallest character of s"
   ]
  },
  {
   "cell_type": "code",
   "execution_count": 127,
   "id": "c63b8fe4-2439-440e-8649-366f75d69462",
   "metadata": {},
   "outputs": [
    {
     "data": {
      "text/plain": [
       "'t'"
      ]
     },
     "execution_count": 127,
     "metadata": {},
     "output_type": "execute_result"
    }
   ],
   "source": [
    "max(s) "
   ]
  },
  {
   "cell_type": "code",
   "execution_count": 135,
   "id": "f35704eb-4c98-4df4-95a8-7158320235e7",
   "metadata": {},
   "outputs": [
    {
     "ename": "SyntaxError",
     "evalue": "invalid syntax (1974358172.py, line 1)",
     "output_type": "error",
     "traceback": [
      "\u001b[1;36m  Cell \u001b[1;32mIn[135], line 1\u001b[1;36m\u001b[0m\n\u001b[1;33m    're' NOT IN s\u001b[0m\n\u001b[1;37m         ^\u001b[0m\n\u001b[1;31mSyntaxError\u001b[0m\u001b[1;31m:\u001b[0m invalid syntax\n"
     ]
    }
   ],
   "source": [
    "'re' NOT IN s\n",
    "#since python is case sensitive"
   ]
  },
  {
   "cell_type": "code",
   "execution_count": 133,
   "id": "677dd516-6450-4b2e-8e3c-b0bfd7f3d337",
   "metadata": {},
   "outputs": [
    {
     "data": {
      "text/plain": [
       "False"
      ]
     },
     "execution_count": 133,
     "metadata": {},
     "output_type": "execute_result"
    }
   ],
   "source": [
    "'re' not in s\n",
    "#since python is case sensitive"
   ]
  },
  {
   "cell_type": "code",
   "execution_count": 137,
   "id": "a04ab97a-f6d2-41d6-bafc-71d02d7f2c4d",
   "metadata": {},
   "outputs": [
    {
     "data": {
      "text/plain": [
       "'Naresh ItNaresh It'"
      ]
     },
     "execution_count": 137,
     "metadata": {},
     "output_type": "execute_result"
    }
   ],
   "source": [
    "s*2"
   ]
  },
  {
   "cell_type": "code",
   "execution_count": 139,
   "id": "fe127cd1-8aed-4a50-b079-b953d88bb7a1",
   "metadata": {},
   "outputs": [
    {
     "data": {
      "text/plain": [
       "'a'"
      ]
     },
     "execution_count": 139,
     "metadata": {},
     "output_type": "execute_result"
    }
   ],
   "source": [
    "s[1]"
   ]
  },
  {
   "cell_type": "code",
   "execution_count": 141,
   "id": "7a83a029-8736-4c9b-89d2-38e10bbea3b6",
   "metadata": {},
   "outputs": [
    {
     "data": {
      "text/plain": [
       "'aehI'"
      ]
     },
     "execution_count": 141,
     "metadata": {},
     "output_type": "execute_result"
    }
   ],
   "source": [
    "s[1:8:2]"
   ]
  },
  {
   "cell_type": "code",
   "execution_count": 143,
   "id": "eca2266a-7b42-4dcc-8f2d-4c91c85a9ab8",
   "metadata": {},
   "outputs": [
    {
     "data": {
      "text/plain": [
       "'Nrs '"
      ]
     },
     "execution_count": 143,
     "metadata": {},
     "output_type": "execute_result"
    }
   ],
   "source": [
    "s[:8:2]"
   ]
  },
  {
   "cell_type": "code",
   "execution_count": 145,
   "id": "8c0a8ef3-5555-4601-acaf-dbdc6c6fd439",
   "metadata": {},
   "outputs": [
    {
     "data": {
      "text/plain": [
       "'Nrs t'"
      ]
     },
     "execution_count": 145,
     "metadata": {},
     "output_type": "execute_result"
    }
   ],
   "source": [
    "s[::2]"
   ]
  },
  {
   "cell_type": "code",
   "execution_count": 147,
   "id": "666f59d4-dbca-403c-91b4-5c2dd2db2970",
   "metadata": {},
   "outputs": [
    {
     "data": {
      "text/plain": [
       "1"
      ]
     },
     "execution_count": 147,
     "metadata": {},
     "output_type": "execute_result"
    }
   ],
   "source": [
    "s.count('a')"
   ]
  },
  {
   "cell_type": "markdown",
   "id": "014c25ae-c65a-4daf-a762-73f8e1a811d4",
   "metadata": {},
   "source": [
    "#Whitespace"
   ]
  },
  {
   "cell_type": "code",
   "execution_count": 156,
   "id": "1dbd6a7f-1686-4f09-a5f4-a3061e857ca7",
   "metadata": {},
   "outputs": [],
   "source": [
    "s = 'hello'"
   ]
  },
  {
   "cell_type": "code",
   "execution_count": 158,
   "id": "7429e5eb-82dd-4bb8-8fe4-8c0833d8b3b1",
   "metadata": {},
   "outputs": [
    {
     "ename": "TypeError",
     "evalue": "center expected at least 1 argument, got 0",
     "output_type": "error",
     "traceback": [
      "\u001b[1;31m---------------------------------------------------------------------------\u001b[0m",
      "\u001b[1;31mTypeError\u001b[0m                                 Traceback (most recent call last)",
      "Cell \u001b[1;32mIn[158], line 1\u001b[0m\n\u001b[1;32m----> 1\u001b[0m s\u001b[38;5;241m.\u001b[39mcenter()\n",
      "\u001b[1;31mTypeError\u001b[0m: center expected at least 1 argument, got 0"
     ]
    }
   ],
   "source": [
    "s.center()"
   ]
  },
  {
   "cell_type": "code",
   "execution_count": 160,
   "id": "247132c2-97d9-40bd-aeeb-feb98b9b1730",
   "metadata": {},
   "outputs": [
    {
     "ename": "TypeError",
     "evalue": "'str' object cannot be interpreted as an integer",
     "output_type": "error",
     "traceback": [
      "\u001b[1;31m---------------------------------------------------------------------------\u001b[0m",
      "\u001b[1;31mTypeError\u001b[0m                                 Traceback (most recent call last)",
      "Cell \u001b[1;32mIn[160], line 1\u001b[0m\n\u001b[1;32m----> 1\u001b[0m s\u001b[38;5;241m.\u001b[39mcenter(\u001b[38;5;124m'\u001b[39m\u001b[38;5;124m'\u001b[39m)\n",
      "\u001b[1;31mTypeError\u001b[0m: 'str' object cannot be interpreted as an integer"
     ]
    }
   ],
   "source": [
    "s.center('')"
   ]
  },
  {
   "cell_type": "code",
   "execution_count": 162,
   "id": "04107f8b-cc2c-42ab-8255-90e443101b89",
   "metadata": {},
   "outputs": [
    {
     "data": {
      "text/plain": [
       "'hello'"
      ]
     },
     "execution_count": 162,
     "metadata": {},
     "output_type": "execute_result"
    }
   ],
   "source": [
    "s.center(1)"
   ]
  },
  {
   "cell_type": "code",
   "execution_count": 164,
   "id": "2aa1bdb5-dd1b-4be8-bbd2-1c0611318fcf",
   "metadata": {},
   "outputs": [
    {
     "data": {
      "text/plain": [
       "'hello'"
      ]
     },
     "execution_count": 164,
     "metadata": {},
     "output_type": "execute_result"
    }
   ],
   "source": [
    "s.center(2)"
   ]
  },
  {
   "cell_type": "code",
   "execution_count": 168,
   "id": "b716e69c-2c52-47b7-ba63-33cd21b00b4b",
   "metadata": {},
   "outputs": [
    {
     "data": {
      "text/plain": [
       "'       banana       '"
      ]
     },
     "execution_count": 168,
     "metadata": {},
     "output_type": "execute_result"
    }
   ],
   "source": [
    "txt = \"banana\"\n",
    "\n",
    "x = txt.center(20)\n",
    "\n",
    "x"
   ]
  },
  {
   "cell_type": "code",
   "execution_count": 170,
   "id": "49d87b8e-93ef-4f1e-9c2b-d56515134ec4",
   "metadata": {},
   "outputs": [
    {
     "data": {
      "text/plain": [
       "'       hello        '"
      ]
     },
     "execution_count": 170,
     "metadata": {},
     "output_type": "execute_result"
    }
   ],
   "source": [
    "s = 'hello'\n",
    "s.center(20)"
   ]
  },
  {
   "cell_type": "code",
   "execution_count": 172,
   "id": "14d635d5-2913-42cb-bd25-3c609daa86d3",
   "metadata": {},
   "outputs": [
    {
     "data": {
      "text/plain": [
       "False"
      ]
     },
     "execution_count": 172,
     "metadata": {},
     "output_type": "execute_result"
    }
   ],
   "source": [
    "#The isspace() method returns True if all the characters in a string are whitespaces, otherwise False.\n",
    "s.isspace()"
   ]
  },
  {
   "cell_type": "code",
   "execution_count": 174,
   "id": "72bced82-6093-40e6-8058-d1d05827c0c9",
   "metadata": {},
   "outputs": [
    {
     "data": {
      "text/plain": [
       "False"
      ]
     },
     "execution_count": 174,
     "metadata": {},
     "output_type": "execute_result"
    }
   ],
   "source": [
    "a = ' One'\n",
    "a.isspace()"
   ]
  },
  {
   "cell_type": "code",
   "execution_count": 176,
   "id": "af96c8cf-e946-4ee2-bc75-a095013aa00b",
   "metadata": {},
   "outputs": [
    {
     "data": {
      "text/plain": [
       "False"
      ]
     },
     "execution_count": 176,
     "metadata": {},
     "output_type": "execute_result"
    }
   ],
   "source": [
    "b = ''\n",
    "b.isspace()"
   ]
  },
  {
   "cell_type": "code",
   "execution_count": 178,
   "id": "a406ecb3-3d46-41d0-900e-f19cd9074cca",
   "metadata": {},
   "outputs": [
    {
     "data": {
      "text/plain": [
       "True"
      ]
     },
     "execution_count": 178,
     "metadata": {},
     "output_type": "execute_result"
    }
   ],
   "source": [
    "c = ' '\n",
    "c.isspace()"
   ]
  },
  {
   "cell_type": "code",
   "execution_count": 180,
   "id": "cb27624b-49c1-47e4-a1d0-2baa4b002708",
   "metadata": {},
   "outputs": [
    {
     "data": {
      "text/plain": [
       "' Hello              '"
      ]
     },
     "execution_count": 180,
     "metadata": {},
     "output_type": "execute_result"
    }
   ],
   "source": [
    "d = ' Hello  '\n",
    "d.ljust(20)"
   ]
  },
  {
   "cell_type": "code",
   "execution_count": 182,
   "id": "236d1ae7-76da-4da8-91da-2349724359b7",
   "metadata": {},
   "outputs": [
    {
     "data": {
      "text/plain": [
       "'helloooooooooooooooo'"
      ]
     },
     "execution_count": 182,
     "metadata": {},
     "output_type": "execute_result"
    }
   ],
   "source": [
    "e = 'hello'\n",
    "e.ljust(20,'o')\n"
   ]
  },
  {
   "cell_type": "code",
   "execution_count": 184,
   "id": "c3ede541-499b-4ed1-a0c3-5a354ac7d20b",
   "metadata": {},
   "outputs": [
    {
     "data": {
      "text/plain": [
       "'               hello'"
      ]
     },
     "execution_count": 184,
     "metadata": {},
     "output_type": "execute_result"
    }
   ],
   "source": [
    "f = 'hello'\n",
    "f.rjust(20)"
   ]
  },
  {
   "cell_type": "code",
   "execution_count": 188,
   "id": "68cf7101-8ce0-4514-8170-0780a270a44d",
   "metadata": {},
   "outputs": [],
   "source": [
    "x = ' hello '"
   ]
  },
  {
   "cell_type": "code",
   "execution_count": 190,
   "id": "312ce036-7761-46b0-83a6-3f4080826fd0",
   "metadata": {},
   "outputs": [
    {
     "data": {
      "text/plain": [
       "'hello'"
      ]
     },
     "execution_count": 190,
     "metadata": {},
     "output_type": "execute_result"
    }
   ],
   "source": [
    "x.strip()"
   ]
  },
  {
   "cell_type": "code",
   "execution_count": 192,
   "id": "009222f4-b321-419c-a7b3-cb5efc0c0964",
   "metadata": {},
   "outputs": [
    {
     "ename": "ValueError",
     "evalue": "substring not found",
     "output_type": "error",
     "traceback": [
      "\u001b[1;31m---------------------------------------------------------------------------\u001b[0m",
      "\u001b[1;31mValueError\u001b[0m                                Traceback (most recent call last)",
      "Cell \u001b[1;32mIn[192], line 1\u001b[0m\n\u001b[1;32m----> 1\u001b[0m s\u001b[38;5;241m.\u001b[39mindex(e,\u001b[38;5;241m1\u001b[39m,\u001b[38;5;241m3\u001b[39m)\n",
      "\u001b[1;31mValueError\u001b[0m: substring not found"
     ]
    }
   ],
   "source": [
    "s.index(e,1,3)"
   ]
  },
  {
   "cell_type": "code",
   "execution_count": 194,
   "id": "0bef90aa-df01-4bd3-b772-ed46fad6a8ba",
   "metadata": {},
   "outputs": [
    {
     "data": {
      "text/plain": [
       "'helloo'"
      ]
     },
     "execution_count": 194,
     "metadata": {},
     "output_type": "execute_result"
    }
   ],
   "source": [
    "s.replace('o','oo')"
   ]
  },
  {
   "cell_type": "markdown",
   "id": "18d7f747-506e-470b-b985-86ce3095b1b6",
   "metadata": {},
   "source": [
    "Advanced Whitespace"
   ]
  },
  {
   "cell_type": "code",
   "execution_count": 197,
   "id": "f7b035f4-7110-4e2e-8762-2b3c7374a48e",
   "metadata": {},
   "outputs": [
    {
     "data": {
      "text/plain": [
       "'      srujana       '"
      ]
     },
     "execution_count": 197,
     "metadata": {},
     "output_type": "execute_result"
    }
   ],
   "source": [
    "s = 'srujana'\n",
    "s.center(20,' ')"
   ]
  },
  {
   "cell_type": "code",
   "execution_count": 199,
   "id": "18fbc496-aed7-4aec-ad8f-00a2a8331b1b",
   "metadata": {},
   "outputs": [
    {
     "ename": "TypeError",
     "evalue": "The fill character must be exactly one character long",
     "output_type": "error",
     "traceback": [
      "\u001b[1;31m---------------------------------------------------------------------------\u001b[0m",
      "\u001b[1;31mTypeError\u001b[0m                                 Traceback (most recent call last)",
      "Cell \u001b[1;32mIn[199], line 2\u001b[0m\n\u001b[0;32m      1\u001b[0m s \u001b[38;5;241m=\u001b[39m \u001b[38;5;124m'\u001b[39m\u001b[38;5;124msrujana\u001b[39m\u001b[38;5;124m'\u001b[39m\n\u001b[1;32m----> 2\u001b[0m s\u001b[38;5;241m.\u001b[39mcenter(\u001b[38;5;241m20\u001b[39m,\u001b[38;5;124m'\u001b[39m\u001b[38;5;124m'\u001b[39m)\n",
      "\u001b[1;31mTypeError\u001b[0m: The fill character must be exactly one character long"
     ]
    }
   ],
   "source": [
    "s = 'srujana'\n",
    "s.center(20,'')"
   ]
  },
  {
   "cell_type": "code",
   "execution_count": 201,
   "id": "5ec0be58-cefe-46e7-8035-fe3ecb35d3f8",
   "metadata": {},
   "outputs": [
    {
     "data": {
      "text/plain": [
       "'Srujana'"
      ]
     },
     "execution_count": 201,
     "metadata": {},
     "output_type": "execute_result"
    }
   ],
   "source": [
    "s = 'Srujana'\n",
    "s.expandtabs(1)"
   ]
  },
  {
   "cell_type": "code",
   "execution_count": 203,
   "id": "53a25c23-3576-4ae8-bbac-9245fa0a0d6a",
   "metadata": {},
   "outputs": [
    {
     "data": {
      "text/plain": [
       "'Srujana '"
      ]
     },
     "execution_count": 203,
     "metadata": {},
     "output_type": "execute_result"
    }
   ],
   "source": [
    "s = 'Srujana\\t'\n",
    "s.expandtabs(4)"
   ]
  },
  {
   "cell_type": "code",
   "execution_count": 205,
   "id": "f12da619-fe6e-40f0-a864-7ff03998bc1a",
   "metadata": {},
   "outputs": [
    {
     "data": {
      "text/plain": [
       "'Srujana '"
      ]
     },
     "execution_count": 205,
     "metadata": {},
     "output_type": "execute_result"
    }
   ],
   "source": [
    "s = 'Srujana\\t'\n",
    "s.expandtabs(1)"
   ]
  },
  {
   "cell_type": "code",
   "execution_count": 207,
   "id": "aab34a0b-1b88-468a-bee7-62e909ed7306",
   "metadata": {},
   "outputs": [
    {
     "data": {
      "text/plain": [
       "'Srujana             '"
      ]
     },
     "execution_count": 207,
     "metadata": {},
     "output_type": "execute_result"
    }
   ],
   "source": [
    "s = 'Srujana\\t'\n",
    "s.expandtabs(20)"
   ]
  },
  {
   "cell_type": "code",
   "execution_count": 209,
   "id": "8f3e2c7f-e30f-4617-a22a-2982aa217414",
   "metadata": {},
   "outputs": [
    {
     "data": {
      "text/plain": [
       "'Srujana'"
      ]
     },
     "execution_count": 209,
     "metadata": {},
     "output_type": "execute_result"
    }
   ],
   "source": [
    "s = ' Srujana'\n",
    "s.lstrip()"
   ]
  },
  {
   "cell_type": "code",
   "execution_count": 211,
   "id": "c98e8af8-2e5f-47a7-940b-510e4630bb70",
   "metadata": {},
   "outputs": [
    {
     "data": {
      "text/plain": [
       "'  Srujana'"
      ]
     },
     "execution_count": 211,
     "metadata": {},
     "output_type": "execute_result"
    }
   ],
   "source": [
    "s = '  Srujana  '\n",
    "s.rstrip()"
   ]
  },
  {
   "cell_type": "code",
   "execution_count": 213,
   "id": "0506dfa3-c1fe-459e-ade5-311450dd5a64",
   "metadata": {},
   "outputs": [
    {
     "data": {
      "text/plain": [
       "'000Srujana'"
      ]
     },
     "execution_count": 213,
     "metadata": {},
     "output_type": "execute_result"
    }
   ],
   "source": [
    "s = 'Srujana'\n",
    "s.zfill(10)"
   ]
  },
  {
   "cell_type": "code",
   "execution_count": 215,
   "id": "7d6f0e91-cb6a-4005-be0f-153f8cabc2d4",
   "metadata": {},
   "outputs": [
    {
     "data": {
      "text/plain": [
       "'00000000000000000020'"
      ]
     },
     "execution_count": 215,
     "metadata": {},
     "output_type": "execute_result"
    }
   ],
   "source": [
    "s = '20'\n",
    "s.zfill(20)"
   ]
  },
  {
   "cell_type": "markdown",
   "id": "6ed22a8b-3621-4c86-97ed-118c00706f9f",
   "metadata": {},
   "source": [
    "Find/Replace"
   ]
  },
  {
   "cell_type": "code",
   "execution_count": 218,
   "id": "93bd2511-eba6-4938-b4c5-4857dcabac39",
   "metadata": {},
   "outputs": [
    {
     "data": {
      "text/plain": [
       "4"
      ]
     },
     "execution_count": 218,
     "metadata": {},
     "output_type": "execute_result"
    }
   ],
   "source": [
    "s = 'Hello, Good Morning!'\n",
    "s.index('o',1,7)"
   ]
  },
  {
   "cell_type": "code",
   "execution_count": 220,
   "id": "add137cb-292a-4a74-9048-e6363ab25aab",
   "metadata": {},
   "outputs": [
    {
     "data": {
      "text/plain": [
       "8"
      ]
     },
     "execution_count": 220,
     "metadata": {},
     "output_type": "execute_result"
    }
   ],
   "source": [
    "s.index('o',6,14)"
   ]
  },
  {
   "cell_type": "code",
   "execution_count": 222,
   "id": "180b7d2f-bcbb-46f0-8e22-6647ca0da6ae",
   "metadata": {},
   "outputs": [
    {
     "data": {
      "text/plain": [
       "4"
      ]
     },
     "execution_count": 222,
     "metadata": {},
     "output_type": "execute_result"
    }
   ],
   "source": [
    "s.find('o')"
   ]
  },
  {
   "cell_type": "code",
   "execution_count": 224,
   "id": "ed047be3-0bad-4d1c-bd40-15ee17656a7a",
   "metadata": {},
   "outputs": [
    {
     "data": {
      "text/plain": [
       "-1"
      ]
     },
     "execution_count": 224,
     "metadata": {},
     "output_type": "execute_result"
    }
   ],
   "source": [
    "s.find('z')\n",
    "# Python find() function is used to return the lowest index value of the first occurrence of the substring \n",
    "# from the input string else it returns -1"
   ]
  },
  {
   "cell_type": "code",
   "execution_count": 226,
   "id": "1ce552ab-e015-4d83-808d-e6528f1b6e61",
   "metadata": {},
   "outputs": [
    {
     "data": {
      "text/plain": [
       "4"
      ]
     },
     "execution_count": 226,
     "metadata": {},
     "output_type": "execute_result"
    }
   ],
   "source": [
    "s.index('o')"
   ]
  },
  {
   "cell_type": "code",
   "execution_count": 228,
   "id": "920860b2-1988-4b39-b597-1324ee51658c",
   "metadata": {},
   "outputs": [
    {
     "ename": "ValueError",
     "evalue": "substring not found",
     "output_type": "error",
     "traceback": [
      "\u001b[1;31m---------------------------------------------------------------------------\u001b[0m",
      "\u001b[1;31mValueError\u001b[0m                                Traceback (most recent call last)",
      "Cell \u001b[1;32mIn[228], line 1\u001b[0m\n\u001b[1;32m----> 1\u001b[0m s\u001b[38;5;241m.\u001b[39mindex(\u001b[38;5;124m'\u001b[39m\u001b[38;5;124mz\u001b[39m\u001b[38;5;124m'\u001b[39m)\n",
      "\u001b[1;31mValueError\u001b[0m: substring not found"
     ]
    }
   ],
   "source": [
    "s.index('z')"
   ]
  },
  {
   "cell_type": "code",
   "execution_count": 230,
   "id": "973f1ca1-ff57-43da-b416-0b7ce0889dac",
   "metadata": {},
   "outputs": [
    {
     "data": {
      "text/plain": [
       "'Hell0, G00d M0rning!'"
      ]
     },
     "execution_count": 230,
     "metadata": {},
     "output_type": "execute_result"
    }
   ],
   "source": [
    "s.replace('o','0')"
   ]
  },
  {
   "cell_type": "code",
   "execution_count": 232,
   "id": "6bde81f4-c25f-4e17-9721-bb4ba470ca34",
   "metadata": {},
   "outputs": [
    {
     "data": {
      "text/plain": [
       "'Hello, Good Morning!'"
      ]
     },
     "execution_count": 232,
     "metadata": {},
     "output_type": "execute_result"
    }
   ],
   "source": [
    "s"
   ]
  },
  {
   "cell_type": "code",
   "execution_count": 234,
   "id": "2305b7c6-33dd-4513-87fc-a1a50f747978",
   "metadata": {},
   "outputs": [
    {
     "data": {
      "text/plain": [
       "'Hell0, Good Morning!'"
      ]
     },
     "execution_count": 234,
     "metadata": {},
     "output_type": "execute_result"
    }
   ],
   "source": [
    "s.replace('o','0',1)"
   ]
  },
  {
   "cell_type": "markdown",
   "id": "3563c210-a307-48ea-b499-5c5fd59de585",
   "metadata": {},
   "source": [
    "s.rfind('o')"
   ]
  },
  {
   "cell_type": "code",
   "execution_count": 239,
   "id": "7309669e-ed60-4d5d-a81e-c3ef4cf38ff4",
   "metadata": {},
   "outputs": [
    {
     "data": {
      "text/plain": [
       "'Hello, Good Morning!'"
      ]
     },
     "execution_count": 239,
     "metadata": {},
     "output_type": "execute_result"
    }
   ],
   "source": [
    "s"
   ]
  },
  {
   "cell_type": "code",
   "execution_count": 241,
   "id": "6950c223-2de3-4649-85a3-03e02ed2fbe0",
   "metadata": {},
   "outputs": [
    {
     "data": {
      "text/plain": [
       "-1"
      ]
     },
     "execution_count": 241,
     "metadata": {},
     "output_type": "execute_result"
    }
   ],
   "source": [
    "s.rfind('z')"
   ]
  },
  {
   "cell_type": "code",
   "execution_count": 243,
   "id": "d486ac14-a5ab-485d-9b12-7e6eefb805da",
   "metadata": {},
   "outputs": [
    {
     "data": {
      "text/plain": [
       "13"
      ]
     },
     "execution_count": 243,
     "metadata": {},
     "output_type": "execute_result"
    }
   ],
   "source": [
    "s.rindex('o')"
   ]
  },
  {
   "cell_type": "code",
   "execution_count": 245,
   "id": "99429c96-750d-499a-86b1-d59100ee5510",
   "metadata": {},
   "outputs": [
    {
     "ename": "ValueError",
     "evalue": "substring not found",
     "output_type": "error",
     "traceback": [
      "\u001b[1;31m---------------------------------------------------------------------------\u001b[0m",
      "\u001b[1;31mValueError\u001b[0m                                Traceback (most recent call last)",
      "Cell \u001b[1;32mIn[245], line 1\u001b[0m\n\u001b[1;32m----> 1\u001b[0m s\u001b[38;5;241m.\u001b[39mrindex(\u001b[38;5;124m'\u001b[39m\u001b[38;5;124my\u001b[39m\u001b[38;5;124m'\u001b[39m)\n",
      "\u001b[1;31mValueError\u001b[0m: substring not found"
     ]
    }
   ],
   "source": [
    "s.rindex('y')"
   ]
  },
  {
   "cell_type": "markdown",
   "id": "7d663784-630c-4529-bd00-ec17e98e22fc",
   "metadata": {},
   "source": [
    "#Inspection"
   ]
  },
  {
   "cell_type": "code",
   "execution_count": 250,
   "id": "4698b04a-5cfe-41e3-b25d-c61c2e5265ac",
   "metadata": {},
   "outputs": [],
   "source": [
    "s = 'Israr Ansari'"
   ]
  },
  {
   "cell_type": "code",
   "execution_count": 256,
   "id": "de6e77b1-5128-446d-a9a4-fec469252e60",
   "metadata": {},
   "outputs": [
    {
     "data": {
      "text/plain": [
       "True"
      ]
     },
     "execution_count": 256,
     "metadata": {},
     "output_type": "execute_result"
    }
   ],
   "source": [
    "s.endswith('ri')"
   ]
  },
  {
   "cell_type": "code",
   "execution_count": 258,
   "id": "c2a846b0-82fd-4bae-bd7c-412db248762a",
   "metadata": {},
   "outputs": [
    {
     "data": {
      "text/plain": [
       "False"
      ]
     },
     "execution_count": 258,
     "metadata": {},
     "output_type": "execute_result"
    }
   ],
   "source": [
    "s.endswith('ai')"
   ]
  },
  {
   "cell_type": "code",
   "execution_count": 262,
   "id": "2dba10bb-70b6-4386-a16b-3fea2331d2dc",
   "metadata": {},
   "outputs": [
    {
     "data": {
      "text/plain": [
       "False"
      ]
     },
     "execution_count": 262,
     "metadata": {},
     "output_type": "execute_result"
    }
   ],
   "source": [
    "s.isalnum() #True if characters are alphanumeric without spaces"
   ]
  },
  {
   "cell_type": "code",
   "execution_count": 264,
   "id": "940a0e4c-5df2-4f9d-8163-02031990c5b2",
   "metadata": {},
   "outputs": [
    {
     "data": {
      "text/plain": [
       "False"
      ]
     },
     "execution_count": 264,
     "metadata": {},
     "output_type": "execute_result"
    }
   ],
   "source": [
    "s = '123Israr Ansari'\n",
    "s.isalnum()"
   ]
  },
  {
   "cell_type": "code",
   "execution_count": 266,
   "id": "acd8a25c-fd33-497f-aa50-281f64727453",
   "metadata": {},
   "outputs": [
    {
     "data": {
      "text/plain": [
       "True"
      ]
     },
     "execution_count": 266,
     "metadata": {},
     "output_type": "execute_result"
    }
   ],
   "source": [
    "s = '123IsrarAnsari'\n",
    "s.isalnum()"
   ]
  },
  {
   "cell_type": "code",
   "execution_count": 268,
   "id": "605c8d87-51b3-464c-9c05-60760f7a4fdc",
   "metadata": {},
   "outputs": [
    {
     "data": {
      "text/plain": [
       "True"
      ]
     },
     "execution_count": 268,
     "metadata": {},
     "output_type": "execute_result"
    }
   ],
   "source": [
    "s = 'IsrarAnsari'\n",
    "s.isalnum()"
   ]
  },
  {
   "cell_type": "code",
   "execution_count": 270,
   "id": "82d54ff8-2d6d-4cab-9e06-86a70f3975c4",
   "metadata": {},
   "outputs": [
    {
     "data": {
      "text/plain": [
       "True"
      ]
     },
     "execution_count": 270,
     "metadata": {},
     "output_type": "execute_result"
    }
   ],
   "source": [
    "s = '123'\n",
    "s.isalnum()"
   ]
  },
  {
   "cell_type": "code",
   "execution_count": 272,
   "id": "5802dbbc-d439-4d39-ad2c-a980cf1e87ca",
   "metadata": {},
   "outputs": [
    {
     "data": {
      "text/plain": [
       "False"
      ]
     },
     "execution_count": 272,
     "metadata": {},
     "output_type": "execute_result"
    }
   ],
   "source": [
    "s = ''\n",
    "s.isalnum()"
   ]
  },
  {
   "cell_type": "code",
   "execution_count": 276,
   "id": "acc1a33d-9dc7-48d6-8228-3f6036956400",
   "metadata": {},
   "outputs": [
    {
     "data": {
      "text/plain": [
       "False"
      ]
     },
     "execution_count": 276,
     "metadata": {},
     "output_type": "execute_result"
    }
   ],
   "source": [
    "s = 'Israr Ansari'\n",
    "s.isalpha()"
   ]
  },
  {
   "cell_type": "code",
   "execution_count": 278,
   "id": "21d61f65-d1ac-4cbd-8cb0-1f545826d4f5",
   "metadata": {},
   "outputs": [
    {
     "data": {
      "text/plain": [
       "True"
      ]
     },
     "execution_count": 278,
     "metadata": {},
     "output_type": "execute_result"
    }
   ],
   "source": [
    "s = 'IsrarAnsari'\n",
    "s.isalpha()"
   ]
  },
  {
   "cell_type": "code",
   "execution_count": 280,
   "id": "76ced051-f297-43c7-8dbb-1a23463a2840",
   "metadata": {},
   "outputs": [
    {
     "data": {
      "text/plain": [
       "False"
      ]
     },
     "execution_count": 280,
     "metadata": {},
     "output_type": "execute_result"
    }
   ],
   "source": [
    "s = ''\n",
    "s.isalpha()"
   ]
  },
  {
   "cell_type": "code",
   "execution_count": 282,
   "id": "f7498d39-6034-4167-be96-b7d100f1269d",
   "metadata": {},
   "outputs": [
    {
     "data": {
      "text/plain": [
       "False"
      ]
     },
     "execution_count": 282,
     "metadata": {},
     "output_type": "execute_result"
    }
   ],
   "source": [
    "s = ' '\n",
    "s.isalpha()"
   ]
  },
  {
   "cell_type": "code",
   "execution_count": 284,
   "id": "0d0cb2e0-b785-4abb-afc1-e73618267f54",
   "metadata": {},
   "outputs": [
    {
     "data": {
      "text/plain": [
       "True"
      ]
     },
     "execution_count": 284,
     "metadata": {},
     "output_type": "execute_result"
    }
   ],
   "source": [
    "s = '123'\n",
    "s.isdecimal()"
   ]
  },
  {
   "cell_type": "code",
   "execution_count": 288,
   "id": "aeba53bc-3113-4f13-9691-35dc7c4e1b2b",
   "metadata": {},
   "outputs": [
    {
     "data": {
      "text/plain": [
       "False"
      ]
     },
     "execution_count": 288,
     "metadata": {},
     "output_type": "execute_result"
    }
   ],
   "source": [
    "s = '123.4'\n",
    "s.isdecimal()"
   ]
  },
  {
   "cell_type": "code",
   "execution_count": 290,
   "id": "0fd853a1-38c1-434d-b73a-5731fda207a7",
   "metadata": {},
   "outputs": [
    {
     "ename": "AttributeError",
     "evalue": "'float' object has no attribute 'isdecimal'",
     "output_type": "error",
     "traceback": [
      "\u001b[1;31m---------------------------------------------------------------------------\u001b[0m",
      "\u001b[1;31mAttributeError\u001b[0m                            Traceback (most recent call last)",
      "Cell \u001b[1;32mIn[290], line 2\u001b[0m\n\u001b[0;32m      1\u001b[0m s \u001b[38;5;241m=\u001b[39m \u001b[38;5;241m123.4\u001b[39m\n\u001b[1;32m----> 2\u001b[0m s\u001b[38;5;241m.\u001b[39misdecimal()\n",
      "\u001b[1;31mAttributeError\u001b[0m: 'float' object has no attribute 'isdecimal'"
     ]
    }
   ],
   "source": [
    "s = 123.4\n",
    "s.isdecimal()"
   ]
  },
  {
   "cell_type": "code",
   "execution_count": 293,
   "id": "4b43c779-6211-44b4-a0a4-e295531eb875",
   "metadata": {},
   "outputs": [
    {
     "name": "stdout",
     "output_type": "stream",
     "text": [
      "True\n",
      "False\n"
     ]
    }
   ],
   "source": [
    "# https://www.w3schools.com/python/ref_string_isdecimal.asp\n",
    "\n",
    "a = \"\\u0030\" #unicode for 0\n",
    "b = \"\\u0047\" #unicode for G\n",
    "\n",
    "print(a.isdecimal())\n",
    "print(b.isdecimal())"
   ]
  },
  {
   "cell_type": "code",
   "execution_count": 295,
   "id": "d98b8efd-8f7a-4982-b716-388cc4a4c246",
   "metadata": {},
   "outputs": [
    {
     "data": {
      "text/plain": [
       "False"
      ]
     },
     "execution_count": 295,
     "metadata": {},
     "output_type": "execute_result"
    }
   ],
   "source": [
    "b = \"\\u00B2\" #unicode for ² \n",
    "b.isdecimal()"
   ]
  },
  {
   "cell_type": "code",
   "execution_count": 297,
   "id": "17b89f6d-a9a5-4316-b957-76309912291f",
   "metadata": {},
   "outputs": [
    {
     "data": {
      "text/plain": [
       "True"
      ]
     },
     "execution_count": 297,
     "metadata": {},
     "output_type": "execute_result"
    }
   ],
   "source": [
    "s = '123'\n",
    "s.isnumeric()"
   ]
  },
  {
   "cell_type": "code",
   "execution_count": 299,
   "id": "63247e64-51e3-481a-8d82-6705a70fe9e6",
   "metadata": {},
   "outputs": [
    {
     "data": {
      "text/plain": [
       "False"
      ]
     },
     "execution_count": 299,
     "metadata": {},
     "output_type": "execute_result"
    }
   ],
   "source": [
    "s = '123.4'\n",
    "s.isnumeric()"
   ]
  },
  {
   "cell_type": "code",
   "execution_count": 301,
   "id": "0d0214b4-30a9-4417-8def-c2a5f903797c",
   "metadata": {},
   "outputs": [
    {
     "data": {
      "text/plain": [
       "False"
      ]
     },
     "execution_count": 301,
     "metadata": {},
     "output_type": "execute_result"
    }
   ],
   "source": [
    "# https://www.w3schools.com/python/ref_string_isnumeric.asp\n",
    "b = \"\\u00B2\" #unicode for ²\n",
    "b.isdecimal()"
   ]
  },
  {
   "cell_type": "code",
   "execution_count": 303,
   "id": "a82b3053-5278-472a-8146-09624a79ccec",
   "metadata": {},
   "outputs": [
    {
     "name": "stdout",
     "output_type": "stream",
     "text": [
      "True\n",
      "True\n",
      "False\n",
      "False\n",
      "False\n"
     ]
    }
   ],
   "source": [
    "a = \"\\u0030\" #unicode for 0\n",
    "b = \"\\u00B2\" #unicode for ²\n",
    "c = \"10km2\"\n",
    "d = \"-1\"\n",
    "e = \"1.5\"\n",
    "\n",
    "print(a.isnumeric())\n",
    "print(b.isnumeric())\n",
    "print(c.isnumeric())\n",
    "print(d.isnumeric())\n",
    "print(e.isnumeric())"
   ]
  },
  {
   "cell_type": "code",
   "execution_count": 305,
   "id": "a4d6e806-3625-4d35-9935-ac2f81e4ad41",
   "metadata": {},
   "outputs": [
    {
     "data": {
      "text/plain": [
       "True"
      ]
     },
     "execution_count": 305,
     "metadata": {},
     "output_type": "execute_result"
    }
   ],
   "source": [
    "s = 'Israr'\n",
    "s.startswith('Is')"
   ]
  },
  {
   "cell_type": "markdown",
   "id": "6cfcf726-fa88-4b23-bd7f-2b542129e85e",
   "metadata": {},
   "source": [
    "Advanced Inspection"
   ]
  },
  {
   "cell_type": "code",
   "execution_count": 308,
   "id": "9e598061-d9d3-4cad-95ed-e68c3e845cc9",
   "metadata": {},
   "outputs": [
    {
     "data": {
      "text/plain": [
       "'sr'"
      ]
     },
     "execution_count": 308,
     "metadata": {},
     "output_type": "execute_result"
    }
   ],
   "source": [
    "s = 'IsrarAlam'\n",
    "s[1:3]"
   ]
  },
  {
   "cell_type": "code",
   "execution_count": 310,
   "id": "0344adca-4d08-40c3-8a5d-f80d292ef332",
   "metadata": {},
   "outputs": [
    {
     "data": {
      "text/plain": [
       "False"
      ]
     },
     "execution_count": 310,
     "metadata": {},
     "output_type": "execute_result"
    }
   ],
   "source": [
    "# https://www.w3schools.com/python/ref_string_endswith.asp\n",
    "s = 'Hi! This is Israr!'\n",
    "s.endswith('Israr')"
   ]
  },
  {
   "cell_type": "code",
   "execution_count": 312,
   "id": "c01ea5ea-f17a-4ab3-9ae7-54e8ccc82186",
   "metadata": {},
   "outputs": [
    {
     "data": {
      "text/plain": [
       "True"
      ]
     },
     "execution_count": 312,
     "metadata": {},
     "output_type": "execute_result"
    }
   ],
   "source": [
    "s = 'Hi! This is Israr!'\n",
    "s.endswith('Israr!')"
   ]
  },
  {
   "cell_type": "code",
   "execution_count": 320,
   "id": "2a04f500-3e30-4305-9dae-c1b98e026a7c",
   "metadata": {},
   "outputs": [
    {
     "data": {
      "text/plain": [
       "True"
      ]
     },
     "execution_count": 320,
     "metadata": {},
     "output_type": "execute_result"
    }
   ],
   "source": [
    "s = 'Hi! This is Israr!'\n",
    "s.endswith('Israr!',0,20) \n",
    "#beginning and ending index are optional parameters"
   ]
  },
  {
   "cell_type": "code",
   "execution_count": 322,
   "id": "4f2a7748-8497-491c-be9c-f7b92d662f47",
   "metadata": {},
   "outputs": [
    {
     "data": {
      "text/plain": [
       "False"
      ]
     },
     "execution_count": 322,
     "metadata": {},
     "output_type": "execute_result"
    }
   ],
   "source": [
    "s = 'Hi! This is Israr!'\n",
    "s.endswith('Israr!',0,7) "
   ]
  },
  {
   "cell_type": "code",
   "execution_count": 328,
   "id": "537ed916-7801-44e9-b7aa-794bbd1a3c83",
   "metadata": {},
   "outputs": [
    {
     "data": {
      "text/plain": [
       "True"
      ]
     },
     "execution_count": 328,
     "metadata": {},
     "output_type": "execute_result"
    }
   ],
   "source": [
    "s = 'Hi! This is Israr!'\n",
    "s.endswith('Israr!',12,20) "
   ]
  },
  {
   "cell_type": "code",
   "execution_count": 330,
   "id": "78a89d2a-05c1-453c-8028-1fb68cab00ea",
   "metadata": {},
   "outputs": [
    {
     "data": {
      "text/plain": [
       "False"
      ]
     },
     "execution_count": 330,
     "metadata": {},
     "output_type": "execute_result"
    }
   ],
   "source": [
    "s = 'Hi! This is Israr!'\n",
    "s.isdigit()"
   ]
  },
  {
   "cell_type": "code",
   "execution_count": 332,
   "id": "adbad8bb-dc02-4366-8548-84cc810c489b",
   "metadata": {},
   "outputs": [
    {
     "data": {
      "text/plain": [
       "True"
      ]
     },
     "execution_count": 332,
     "metadata": {},
     "output_type": "execute_result"
    }
   ],
   "source": [
    "s = '123'\n",
    "s.isdigit()"
   ]
  },
  {
   "cell_type": "code",
   "execution_count": 334,
   "id": "9f6856ed-6045-4176-8f44-618ca19fda87",
   "metadata": {},
   "outputs": [
    {
     "data": {
      "text/plain": [
       "False"
      ]
     },
     "execution_count": 334,
     "metadata": {},
     "output_type": "execute_result"
    }
   ],
   "source": [
    "s = '123.4'\n",
    "s.isdigit()"
   ]
  },
  {
   "cell_type": "code",
   "execution_count": 336,
   "id": "46dda622-d8ae-4184-a819-4643e14e0fb6",
   "metadata": {},
   "outputs": [
    {
     "data": {
      "text/plain": [
       "True"
      ]
     },
     "execution_count": 336,
     "metadata": {},
     "output_type": "execute_result"
    }
   ],
   "source": [
    "a = \"\\u0030\" #unicode for 0\n",
    "b = \"\\u00B2\" #unicode for ²\n",
    "a.isdigit()"
   ]
  },
  {
   "cell_type": "markdown",
   "id": "f101f628-b0b6-4b09-8ca4-1a0017284eb5",
   "metadata": {},
   "source": [
    "Note: Differences between isdecimal(), isnumeric() and isdigit() - https://miguendes.me/python-isdigit-isnumeric-isdecimal"
   ]
  },
  {
   "cell_type": "code",
   "execution_count": 339,
   "id": "5597998b-1b62-4211-add5-205d17767cfd",
   "metadata": {},
   "outputs": [
    {
     "data": {
      "text/plain": [
       "True"
      ]
     },
     "execution_count": 339,
     "metadata": {},
     "output_type": "execute_result"
    }
   ],
   "source": [
    "s = 'True'\n",
    "s.isidentifier()"
   ]
  },
  {
   "cell_type": "code",
   "execution_count": 341,
   "id": "f85ab633-63bd-419e-ab9b-7b8bded8d684",
   "metadata": {},
   "outputs": [
    {
     "data": {
      "text/plain": [
       "True"
      ]
     },
     "execution_count": 341,
     "metadata": {},
     "output_type": "execute_result"
    }
   ],
   "source": [
    "s = 'true'\n",
    "s.isidentifier()\n"
   ]
  },
  {
   "cell_type": "code",
   "execution_count": 345,
   "id": "4e0dffcb-4609-4509-9161-b1e14b661fce",
   "metadata": {},
   "outputs": [
    {
     "name": "stdout",
     "output_type": "stream",
     "text": [
      "True\n",
      "True\n",
      "False\n",
      "False\n",
      "True\n"
     ]
    }
   ],
   "source": [
    "a = \"MyFolder\"\n",
    "b = \"Demo002\"\n",
    "c = \"2bring\"\n",
    "d = \"my demo\"\n",
    "e = \"_12\"\n",
    "\n",
    "print(a.isidentifier())\n",
    "print(b.isidentifier())\n",
    "print(c.isidentifier())\n",
    "print(d.isidentifier())\n",
    "print(e.isidentifier())"
   ]
  },
  {
   "cell_type": "code",
   "execution_count": 347,
   "id": "0d9a79bc-9baa-4eb7-ae5f-c9bf6ba534d5",
   "metadata": {},
   "outputs": [
    {
     "data": {
      "text/plain": [
       "['False',\n",
       " 'None',\n",
       " 'True',\n",
       " 'and',\n",
       " 'as',\n",
       " 'assert',\n",
       " 'async',\n",
       " 'await',\n",
       " 'break',\n",
       " 'class',\n",
       " 'continue',\n",
       " 'def',\n",
       " 'del',\n",
       " 'elif',\n",
       " 'else',\n",
       " 'except',\n",
       " 'finally',\n",
       " 'for',\n",
       " 'from',\n",
       " 'global',\n",
       " 'if',\n",
       " 'import',\n",
       " 'in',\n",
       " 'is',\n",
       " 'lambda',\n",
       " 'nonlocal',\n",
       " 'not',\n",
       " 'or',\n",
       " 'pass',\n",
       " 'raise',\n",
       " 'return',\n",
       " 'try',\n",
       " 'while',\n",
       " 'with',\n",
       " 'yield']"
      ]
     },
     "execution_count": 347,
     "metadata": {},
     "output_type": "execute_result"
    }
   ],
   "source": [
    "import keyword\n",
    "keyword.kwlist"
   ]
  },
  {
   "cell_type": "code",
   "execution_count": 349,
   "id": "1ddb8aa9-fb73-49fc-8605-516bb999f836",
   "metadata": {},
   "outputs": [
    {
     "data": {
      "text/plain": [
       "True"
      ]
     },
     "execution_count": 349,
     "metadata": {},
     "output_type": "execute_result"
    }
   ],
   "source": [
    "s = 'Israr'\n",
    "s.isprintable()"
   ]
  },
  {
   "cell_type": "code",
   "execution_count": 351,
   "id": "5cc04036-2b8a-48e8-bd1a-708e2bccd794",
   "metadata": {},
   "outputs": [
    {
     "data": {
      "text/plain": [
       "False"
      ]
     },
     "execution_count": 351,
     "metadata": {},
     "output_type": "execute_result"
    }
   ],
   "source": [
    "s = 'Israr\\n'\n",
    "s.isprintable()"
   ]
  },
  {
   "cell_type": "code",
   "execution_count": 353,
   "id": "6b3a72bf-1c26-409e-93f8-5fd7c7faeed6",
   "metadata": {},
   "outputs": [
    {
     "data": {
      "text/plain": [
       "False"
      ]
     },
     "execution_count": 353,
     "metadata": {},
     "output_type": "execute_result"
    }
   ],
   "source": [
    "s = 'Israr\\r'\n",
    "s.isprintable()"
   ]
  },
  {
   "cell_type": "code",
   "execution_count": 357,
   "id": "7a906007-154e-4dad-89bf-b5a1476043b8",
   "metadata": {},
   "outputs": [
    {
     "data": {
      "text/plain": [
       "'Israr\\r'"
      ]
     },
     "execution_count": 357,
     "metadata": {},
     "output_type": "execute_result"
    }
   ],
   "source": [
    "s = 'Israr\\r'\n",
    "s"
   ]
  },
  {
   "cell_type": "code",
   "execution_count": 359,
   "id": "9b8feb4f-ed53-472d-bac2-e83bc71ce612",
   "metadata": {},
   "outputs": [
    {
     "data": {
      "text/plain": [
       "'Israr\\n'"
      ]
     },
     "execution_count": 359,
     "metadata": {},
     "output_type": "execute_result"
    }
   ],
   "source": [
    "s = 'Israr\\n'\n",
    "s"
   ]
  },
  {
   "cell_type": "code",
   "execution_count": 361,
   "id": "3c90de8f-66ab-4d79-8cad-075b5a8a65de",
   "metadata": {},
   "outputs": [
    {
     "name": "stdout",
     "output_type": "stream",
     "text": [
      "Israr\n",
      "\n"
     ]
    }
   ],
   "source": [
    "s = 'Israr\\n'\n",
    "print(s)"
   ]
  },
  {
   "cell_type": "markdown",
   "id": "c5f0da93-1b52-4c85-a986-eef83b7a48b0",
   "metadata": {},
   "source": [
    "Splitting"
   ]
  },
  {
   "cell_type": "code",
   "execution_count": 366,
   "id": "e0f23427-7e06-4790-a3ab-a3609513c388",
   "metadata": {},
   "outputs": [
    {
     "data": {
      "text/plain": [
       "'1Israr2Israr3'"
      ]
     },
     "execution_count": 366,
     "metadata": {},
     "output_type": "execute_result"
    }
   ],
   "source": [
    "s = 'Israr'\n",
    "s.join('123')"
   ]
  },
  {
   "cell_type": "code",
   "execution_count": 372,
   "id": "1b0ca853-dfd4-4d41-b3f4-9a4d12d14e21",
   "metadata": {},
   "outputs": [
    {
     "name": "stdout",
     "output_type": "stream",
     "text": [
      "('Hi, th', 'is', ' is Israr')\n"
     ]
    }
   ],
   "source": [
    "# https://www.w3schools.com/python/ref_string_partition.asp\n",
    "s = \"Hi, this is Israr\"\n",
    "\n",
    "x = s.partition(\"is\")\n",
    "\n",
    "print(x)"
   ]
  },
  {
   "cell_type": "code",
   "execution_count": 374,
   "id": "1792c3e2-b7fc-4746-837f-6130594a6246",
   "metadata": {},
   "outputs": [
    {
     "data": {
      "text/plain": [
       "('This ', 'is', ' Israr')"
      ]
     },
     "execution_count": 374,
     "metadata": {},
     "output_type": "execute_result"
    }
   ],
   "source": [
    "s = 'This is Israr'\n",
    "s.rpartition('is')"
   ]
  },
  {
   "cell_type": "code",
   "execution_count": 376,
   "id": "388fe185-0b67-459f-93da-89880f805f88",
   "metadata": {},
   "outputs": [
    {
     "name": "stdout",
     "output_type": "stream",
     "text": [
      "('I could eat bananas all day, ', 'bananas', ' are my favorite fruit')\n"
     ]
    }
   ],
   "source": [
    "# https://www.w3schools.com/python/ref_string_rpartition.asp\n",
    "s = \"I could eat bananas all day, bananas are my favorite fruit\"\n",
    "x = s.rpartition(\"bananas\")\n",
    "print(x)"
   ]
  },
  {
   "cell_type": "code",
   "execution_count": 378,
   "id": "c19bda73-faea-42b7-8696-b93b1ef7684f",
   "metadata": {},
   "outputs": [
    {
     "data": {
      "text/plain": [
       "['Hi', ' This is Israr', ' How are you doing?']"
      ]
     },
     "execution_count": 378,
     "metadata": {},
     "output_type": "execute_result"
    }
   ],
   "source": [
    "s = \"Hi! This is Israr! How are you doing?\"\n",
    "s.split('!')"
   ]
  },
  {
   "cell_type": "code",
   "execution_count": 380,
   "id": "39e62a2c-e0dd-487e-a9a2-084fc6ef519f",
   "metadata": {},
   "outputs": [
    {
     "data": {
      "text/plain": [
       "['Hi', ' This is Israr', '', ' How are you doing?']"
      ]
     },
     "execution_count": 380,
     "metadata": {},
     "output_type": "execute_result"
    }
   ],
   "source": [
    "s = \"Hi! This is Israr!! How are you doing?\"\n",
    "s.split('!')"
   ]
  },
  {
   "cell_type": "code",
   "execution_count": 382,
   "id": "4d825b7e-97d3-447c-a9aa-caa67fe6ff41",
   "metadata": {},
   "outputs": [
    {
     "data": {
      "text/plain": [
       "['Hi', ' This is Israr!! How are you doing?']"
      ]
     },
     "execution_count": 382,
     "metadata": {},
     "output_type": "execute_result"
    }
   ],
   "source": [
    "s = \"Hi! This is Israr!! How are you doing?\"\n",
    "s.split('!',1)"
   ]
  },
  {
   "cell_type": "code",
   "execution_count": 386,
   "id": "5a6521e0-3083-49e4-b69e-7b397760e4cb",
   "metadata": {},
   "outputs": [
    {
     "data": {
      "text/plain": [
       "['Hi! This is Israr!']"
      ]
     },
     "execution_count": 386,
     "metadata": {},
     "output_type": "execute_result"
    }
   ],
   "source": [
    "s = 'Hi! This is Israr!'\n",
    "s.splitlines()"
   ]
  },
  {
   "cell_type": "code",
   "execution_count": 388,
   "id": "25096ce5-3bd9-4d64-847e-07086d2866a5",
   "metadata": {},
   "outputs": [
    {
     "data": {
      "text/plain": [
       "['Hi, ', '        this is ', '        Israr!']"
      ]
     },
     "execution_count": 388,
     "metadata": {},
     "output_type": "execute_result"
    }
   ],
   "source": [
    "s = '''Hi, \n",
    "        this is \n",
    "        Israr!'''\n",
    "s.splitlines()"
   ]
  },
  {
   "cell_type": "code",
   "execution_count": 390,
   "id": "42386a50-eba6-493d-8299-e4273d49b7d6",
   "metadata": {},
   "outputs": [
    {
     "ename": "SyntaxError",
     "evalue": "invalid syntax (2451718936.py, line 1)",
     "output_type": "error",
     "traceback": [
      "\u001b[1;36m  Cell \u001b[1;32mIn[390], line 1\u001b[1;36m\u001b[0m\n\u001b[1;33m    s =\u001b[0m\n\u001b[1;37m        ^\u001b[0m\n\u001b[1;31mSyntaxError\u001b[0m\u001b[1;31m:\u001b[0m invalid syntax\n"
     ]
    }
   ],
   "source": [
    "s = \n",
    "'''Hi, \n",
    "        this is \n",
    "        Israr!'''\n",
    "s.splitlines()"
   ]
  },
  {
   "cell_type": "markdown",
   "id": "cdba48b1-18ac-4d1e-8d2d-7d39056f429c",
   "metadata": {},
   "source": [
    "Escape Characters\n",
    "\n",
    "\n",
    "\n",
    "* `\\'` - Single quote\n",
    "*  `\\\"` - Double quote\n",
    "*   `\\t` - Tab\n",
    "*   `\\n` - Newline (Line break)\n",
    "*   `\\\\` - Backslash\n",
    "*   `\\b` - Backspace\n",
    "*   `\\ooo`- Octal value\n",
    "*   `\\r`  - Carriage return\n"
   ]
  },
  {
   "cell_type": "code",
   "execution_count": 394,
   "id": "0f3f5f08-7764-4664-985f-7488f64e194a",
   "metadata": {},
   "outputs": [
    {
     "name": "stdout",
     "output_type": "stream",
     "text": [
      "Hi\n",
      "Good Luck\n"
     ]
    }
   ],
   "source": [
    "print('Hi\\nGood Luck')"
   ]
  },
  {
   "cell_type": "markdown",
   "id": "b5dea03e-b358-48c5-b4a3-e5ff9cca8122",
   "metadata": {},
   "source": [
    "Raw Strings\n",
    "\n",
    "Applications - for regular expression definition"
   ]
  },
  {
   "cell_type": "code",
   "execution_count": 400,
   "id": "903c6a72-84e3-43e2-af4d-c62f4194a94e",
   "metadata": {},
   "outputs": [
    {
     "name": "stdout",
     "output_type": "stream",
     "text": [
      "Hi\\n Good luck to you!\n"
     ]
    }
   ],
   "source": [
    "print(r'Hi\\n Good luck to you!') \n",
    "# Note that raw string ignores backslash, hence ignoring the escape characters"
   ]
  },
  {
   "cell_type": "markdown",
   "id": "7d90ef47-d74b-4049-8af3-8cdc1c419397",
   "metadata": {},
   "source": [
    "<b> Summary </b>\n",
    "\n",
    "* Indexing strings\n",
    "* Slicing strings\n",
    "* Methods\n",
    "\n",
    "    * <b> Cases </b>\n",
    "  1. capitalize ()\n",
    "  2. lower()\n",
    "  3. swapcase()\n",
    "  4. title()\n",
    "  5. upper()\n",
    "  6. islower()\n",
    "  7. istitle()\n",
    "  8. isupper()\n",
    "\n",
    "    *  <b> Sequence operations   </b>\n",
    "  1. in\n",
    "  2. not in\n",
    "\n",
    "    *  <b> Whitespace   </b>\n",
    "  1. center()\n",
    "  2. isspace()\n",
    "  3. ljust()\n",
    "  4. rjust()\n",
    "  5. strip()\n",
    "  6. index()\n",
    "  7. replace()\n",
    "  8. expandtabs()\n",
    "  9. lstrip()\n",
    "  10. rstrip()\n",
    "  11. zfill() - Find/Replace\n",
    "  12. find()\n",
    "  13. replace()\n",
    "  14. lindex()\n",
    "  15. rindex()\n",
    "\n",
    "    * <b> Inspection </b>\n",
    "  1. endswith()\n",
    "  2. startswith()\n",
    "  3. isalnum()\n",
    "  4. isalpha()\n",
    "  5. isdecimal()\n",
    "  6. isnumeric()\n",
    "  7. isdigit()\n",
    "  8. isidentifier()\n",
    "  9. isprintable()\n",
    "\n",
    "    * <b> Splitting </b>\n",
    "  1. join()\n",
    "  2. partition()\n",
    "  3. rpartition()\n",
    "  4. split()\n",
    "  5. splitlines()\n",
    "\n",
    "     * <b> Escape characters and raw strings </b>"
   ]
  }
 ],
 "metadata": {
  "kernelspec": {
   "display_name": "Python 3 (ipykernel)",
   "language": "python",
   "name": "python3"
  },
  "language_info": {
   "codemirror_mode": {
    "name": "ipython",
    "version": 3
   },
   "file_extension": ".py",
   "mimetype": "text/x-python",
   "name": "python",
   "nbconvert_exporter": "python",
   "pygments_lexer": "ipython3",
   "version": "3.12.7"
  }
 },
 "nbformat": 4,
 "nbformat_minor": 5
}
