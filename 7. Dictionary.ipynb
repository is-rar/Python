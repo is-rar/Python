{
 "cells": [
  {
   "cell_type": "markdown",
   "id": "5a9e0b5e-c969-4b99-9b57-16667c37d6cc",
   "metadata": {},
   "source": [
    "#Dictionary\n",
    "#1. Dictionary is a mutable datatype in Python.\n",
    "#2. A Python dictionary is a collection of key and value pairs separated by colon(:) & enclosed in curly braces. {}\n",
    "#3. Keys must be unique in dictionary, duplicate values are allowed"
   ]
  },
  {
   "cell_type": "markdown",
   "id": "676813a6-8bc6-4c67-8c64-e2fde0e7f290",
   "metadata": {},
   "source": [
    "#Create dictionary"
   ]
  },
  {
   "cell_type": "code",
   "execution_count": 3,
   "id": "5bc1f4bc-baa8-4648-ab0f-b6cc67157d4e",
   "metadata": {},
   "outputs": [
    {
     "data": {
      "text/plain": [
       "{}"
      ]
     },
     "execution_count": 3,
     "metadata": {},
     "output_type": "execute_result"
    }
   ],
   "source": [
    "mydict = {} #empty dictionary\n",
    "mydict"
   ]
  },
  {
   "cell_type": "code",
   "execution_count": 9,
   "id": "a924c544-52c2-40e8-a521-bf122a067ea6",
   "metadata": {},
   "outputs": [
    {
     "data": {
      "text/plain": [
       "{}"
      ]
     },
     "execution_count": 9,
     "metadata": {},
     "output_type": "execute_result"
    }
   ],
   "source": [
    "mydict = dict() #Empty dictionary\n",
    "mydict"
   ]
  },
  {
   "cell_type": "code",
   "execution_count": 11,
   "id": "ea6e2324-14ba-4280-8e10-7bf4c693a8ce",
   "metadata": {},
   "outputs": [
    {
     "data": {
      "text/plain": [
       "{1: 'one', 2: 'two', 3: 'three', 4: 'four', 5: ' five'}"
      ]
     },
     "execution_count": 11,
     "metadata": {},
     "output_type": "execute_result"
    }
   ],
   "source": [
    "mydict = {1 : 'one', 2 : 'two', 3 : 'three', 4 : 'four', 5 : ' five'} #Dict with integer keys\n",
    "mydict"
   ]
  },
  {
   "cell_type": "code",
   "execution_count": 15,
   "id": "0310dd87-f75a-4441-af84-a4a9e2230d23",
   "metadata": {},
   "outputs": [
    {
     "data": {
      "text/plain": [
       "{1: 'one', 2: 'two', 3: 'three', 4: 'four', 5: ' five'}"
      ]
     },
     "execution_count": 15,
     "metadata": {},
     "output_type": "execute_result"
    }
   ],
   "source": [
    "mydict = dict ({1 : 'one', 2 : 'two', 3 : 'three', 4 : 'four', 5 : ' five'}) #Create dictionary using dict()\n",
    "mydict"
   ]
  },
  {
   "cell_type": "code",
   "execution_count": 17,
   "id": "cf3f45c6-a8e8-4179-bfaa-078667cb395e",
   "metadata": {},
   "outputs": [
    {
     "data": {
      "text/plain": [
       "{'A': 'one', 'B': 'two', 'C': 'three', 'D': 'four', 'E': ' five'}"
      ]
     },
     "execution_count": 17,
     "metadata": {},
     "output_type": "execute_result"
    }
   ],
   "source": [
    "mydict1 = {'A' : 'one', 'B' : 'two', 'C' : 'three', 'D' : 'four', 'E' : ' five'} #Dictionary with chracter or string keys\n",
    "mydict1"
   ]
  },
  {
   "cell_type": "code",
   "execution_count": null,
   "id": "368edfc3-520f-4fca-851a-6846b91c031a",
   "metadata": {},
   "outputs": [],
   "source": []
  },
  {
   "cell_type": "code",
   "execution_count": null,
   "id": "567d0e98-d01e-4454-9937-f95c64f67100",
   "metadata": {},
   "outputs": [],
   "source": []
  },
  {
   "cell_type": "code",
   "execution_count": null,
   "id": "c4f4907f-a21f-40e1-9b1a-4153bc4609bb",
   "metadata": {},
   "outputs": [],
   "source": []
  }
 ],
 "metadata": {
  "kernelspec": {
   "display_name": "Python 3 (ipykernel)",
   "language": "python",
   "name": "python3"
  },
  "language_info": {
   "codemirror_mode": {
    "name": "ipython",
    "version": 3
   },
   "file_extension": ".py",
   "mimetype": "text/x-python",
   "name": "python",
   "nbconvert_exporter": "python",
   "pygments_lexer": "ipython3",
   "version": "3.12.7"
  }
 },
 "nbformat": 4,
 "nbformat_minor": 5
}
