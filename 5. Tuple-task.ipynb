{
 "cells": [
  {
   "cell_type": "markdown",
   "id": "43082dad-ba8c-4dd7-9b6e-5d0cf729af2d",
   "metadata": {},
   "source": [
    "Tuples\n",
    "\n",
    "1. Tuple is similar to list except that the objects in tuple are immutable which means we cannot change the elements of a tuple once assigned.\n",
    "2. When we do not want to change the data over time, then our preferred datatype would be tuple.\n",
    "3. Iterating over the elements of a tuple is faster compared to iterating over a list. "
   ]
  },
  {
   "cell_type": "markdown",
   "id": "ce08c056-3fc3-4bc3-8f98-c12ea59837ff",
   "metadata": {},
   "source": [
    "#Tuple creation"
   ]
  },
  {
   "cell_type": "code",
   "execution_count": 80,
   "id": "ed6bef2f-61b6-4ab3-96d4-d1ccd2203967",
   "metadata": {},
   "outputs": [],
   "source": [
    "tup1 = () #Empty tuple"
   ]
  },
  {
   "cell_type": "code",
   "execution_count": 81,
   "id": "35403509-e5d5-4a38-b71a-66e04bf17576",
   "metadata": {},
   "outputs": [],
   "source": [
    "tup2 = (10,30,60) #tuple of integers"
   ]
  },
  {
   "cell_type": "code",
   "execution_count": 82,
   "id": "81db969d-ad6f-4920-9bb6-bb57fd744e43",
   "metadata": {},
   "outputs": [],
   "source": [
    "tup3 = (10.77, 30.66, 60.89) #tuple of float numbers"
   ]
  },
  {
   "cell_type": "code",
   "execution_count": 83,
   "id": "e2fe6790-d910-4da1-aa81-f43f4b38facd",
   "metadata": {},
   "outputs": [],
   "source": [
    "tup4 = ('one', 'two', 'three') #tuple of string numbers"
   ]
  },
  {
   "cell_type": "code",
   "execution_count": 84,
   "id": "d1c7e5d8-075c-424d-8492-b2f0c36d79a5",
   "metadata": {},
   "outputs": [],
   "source": [
    "tup5 = ('Asif', 25, (50,100), (150,90) ) #Nested tuple"
   ]
  },
  {
   "cell_type": "code",
   "execution_count": 85,
   "id": "d08905a6-40b6-4237-acda-b0120ba4a4ab",
   "metadata": {},
   "outputs": [],
   "source": [
    "tup6 = (100, 'Asif', 17.765) #tuple of mixed datasetss"
   ]
  },
  {
   "cell_type": "code",
   "execution_count": 86,
   "id": "808e0507-6c5b-4c14-a046-946972c67f46",
   "metadata": {},
   "outputs": [],
   "source": [
    "tup7 = ('Asif', 25, [50,100], [150,90], ('John', 'David'), (99,22,33) )"
   ]
  },
  {
   "cell_type": "code",
   "execution_count": 87,
   "id": "296bf8f9-cbb8-497c-9ef6-6bd25dddd119",
   "metadata": {},
   "outputs": [
    {
     "data": {
      "text/plain": [
       "6"
      ]
     },
     "execution_count": 87,
     "metadata": {},
     "output_type": "execute_result"
    }
   ],
   "source": [
    "len(tup7) #length of tuple"
   ]
  },
  {
   "cell_type": "markdown",
   "id": "986b18ad-543b-4e31-ba13-8ff9e312df19",
   "metadata": {},
   "source": [
    "#Tuple indexing"
   ]
  },
  {
   "cell_type": "code",
   "execution_count": 89,
   "id": "6179fe91-b1f1-4379-8386-928d2eb446c4",
   "metadata": {},
   "outputs": [
    {
     "data": {
      "text/plain": [
       "(10, 30, 60)"
      ]
     },
     "execution_count": 89,
     "metadata": {},
     "output_type": "execute_result"
    }
   ],
   "source": [
    "tup2"
   ]
  },
  {
   "cell_type": "code",
   "execution_count": 90,
   "id": "1b5c9201-2f56-4822-9e74-44740f533706",
   "metadata": {},
   "outputs": [
    {
     "data": {
      "text/plain": [
       "10"
      ]
     },
     "execution_count": 90,
     "metadata": {},
     "output_type": "execute_result"
    }
   ],
   "source": [
    "tup2[0] #first element of tuple"
   ]
  },
  {
   "cell_type": "code",
   "execution_count": 91,
   "id": "8248ab1d-6635-4902-9e5f-deb124a993c6",
   "metadata": {},
   "outputs": [
    {
     "data": {
      "text/plain": [
       "('one', 'two', 'three')"
      ]
     },
     "execution_count": 91,
     "metadata": {},
     "output_type": "execute_result"
    }
   ],
   "source": [
    "tup4"
   ]
  },
  {
   "cell_type": "code",
   "execution_count": 92,
   "id": "59b36b42-3769-414d-9fe6-f1201e779ac0",
   "metadata": {},
   "outputs": [
    {
     "data": {
      "text/plain": [
       "'o'"
      ]
     },
     "execution_count": 92,
     "metadata": {},
     "output_type": "execute_result"
    }
   ],
   "source": [
    "tup4[0][0] #Nested indexing - access the 1st character of 1st element in tuple"
   ]
  },
  {
   "cell_type": "code",
   "execution_count": 93,
   "id": "516f3620-3e73-4c64-a022-264897e6c73f",
   "metadata": {},
   "outputs": [
    {
     "data": {
      "text/plain": [
       "'three'"
      ]
     },
     "execution_count": 93,
     "metadata": {},
     "output_type": "execute_result"
    }
   ],
   "source": [
    "tup4[-1] #Last item of the tuple"
   ]
  },
  {
   "cell_type": "code",
   "execution_count": 94,
   "id": "8fe40a35-6bf9-493b-8fcc-637d60433fab",
   "metadata": {},
   "outputs": [
    {
     "data": {
      "text/plain": [
       "(150, 90)"
      ]
     },
     "execution_count": 94,
     "metadata": {},
     "output_type": "execute_result"
    }
   ],
   "source": [
    "tup5[-1] #Last item of the tuple"
   ]
  },
  {
   "cell_type": "markdown",
   "id": "3674698a-7d8a-4421-a0e2-08a19bbea91c",
   "metadata": {},
   "source": [
    "#Tuple slicing"
   ]
  },
  {
   "cell_type": "code",
   "execution_count": 96,
   "id": "603d01c4-2954-4b48-a16b-673c5885d619",
   "metadata": {},
   "outputs": [],
   "source": [
    "mytuple = ('one', 'two', 'three', 'four', 'five', 'six', 'seven', 'eight')"
   ]
  },
  {
   "cell_type": "code",
   "execution_count": 97,
   "id": "0fc3abc2-2c61-4a9f-a1f4-56e1f7364869",
   "metadata": {},
   "outputs": [
    {
     "data": {
      "text/plain": [
       "('one', 'two', 'three')"
      ]
     },
     "execution_count": 97,
     "metadata": {},
     "output_type": "execute_result"
    }
   ],
   "source": [
    "mytuple[0:3] #Returns all items from 0th to 3rd index"
   ]
  },
  {
   "cell_type": "code",
   "execution_count": 98,
   "id": "1281428c-736f-4692-9aa7-9193775ab0fa",
   "metadata": {},
   "outputs": [
    {
     "data": {
      "text/plain": [
       "('three', 'four', 'five')"
      ]
     },
     "execution_count": 98,
     "metadata": {},
     "output_type": "execute_result"
    }
   ],
   "source": [
    "mytuple[2:5] #Returns all items from 2nd index to 5th index"
   ]
  },
  {
   "cell_type": "code",
   "execution_count": 99,
   "id": "367bc16a-563b-450b-9c66-76384117705a",
   "metadata": {},
   "outputs": [
    {
     "data": {
      "text/plain": [
       "('one', 'two', 'three')"
      ]
     },
     "execution_count": 99,
     "metadata": {},
     "output_type": "execute_result"
    }
   ],
   "source": [
    "mytuple[:3] #Returns first three elements"
   ]
  },
  {
   "cell_type": "code",
   "execution_count": 100,
   "id": "8f3cf782-cd30-4a2d-a7b5-a2630ff68b22",
   "metadata": {},
   "outputs": [
    {
     "data": {
      "text/plain": [
       "('one', 'two', 'three', 'four', 'five', 'six', 'seven', 'eight')"
      ]
     },
     "execution_count": 100,
     "metadata": {},
     "output_type": "execute_result"
    }
   ],
   "source": [
    "mytuple[:] #Returns all the elements"
   ]
  },
  {
   "cell_type": "code",
   "execution_count": 101,
   "id": "2d5b8bac-28b6-46af-b245-03a5662a667b",
   "metadata": {},
   "outputs": [
    {
     "data": {
      "text/plain": [
       "('two', 'three', 'four', 'five', 'six', 'seven', 'eight')"
      ]
     },
     "execution_count": 101,
     "metadata": {},
     "output_type": "execute_result"
    }
   ],
   "source": [
    "mytuple[1:] #Returns all elements from index 1"
   ]
  },
  {
   "cell_type": "code",
   "execution_count": 102,
   "id": "65eaf39e-2984-4c32-aea3-03ef702189d4",
   "metadata": {},
   "outputs": [
    {
     "data": {
      "text/plain": [
       "('six', 'seven', 'eight')"
      ]
     },
     "execution_count": 102,
     "metadata": {},
     "output_type": "execute_result"
    }
   ],
   "source": [
    "mytuple[-3:] #Returns last three elements"
   ]
  },
  {
   "cell_type": "code",
   "execution_count": 103,
   "id": "95df9742-b805-4459-83a9-f7c625580a46",
   "metadata": {},
   "outputs": [
    {
     "data": {
      "text/plain": [
       "('eight',)"
      ]
     },
     "execution_count": 103,
     "metadata": {},
     "output_type": "execute_result"
    }
   ],
   "source": [
    "mytuple[-1:] #Returns the last element"
   ]
  },
  {
   "cell_type": "markdown",
   "id": "617d9bef-f73e-49e6-a91b-351a218e0d10",
   "metadata": {},
   "source": [
    "#Remove and change items"
   ]
  },
  {
   "cell_type": "code",
   "execution_count": 141,
   "id": "da7d4270-2872-4f14-9fd0-d920ca9b435c",
   "metadata": {},
   "outputs": [
    {
     "data": {
      "text/plain": [
       "('one', 'two', 'three', 'four', 'five', 'six', 'seven', 'eight')"
      ]
     },
     "execution_count": 141,
     "metadata": {},
     "output_type": "execute_result"
    }
   ],
   "source": [
    "mytuple"
   ]
  },
  {
   "cell_type": "code",
   "execution_count": 143,
   "id": "a43e02f1-6a32-4cc2-a711-b81e074769da",
   "metadata": {},
   "outputs": [
    {
     "ename": "TypeError",
     "evalue": "'tuple' object doesn't support item deletion",
     "output_type": "error",
     "traceback": [
      "\u001b[1;31m---------------------------------------------------------------------------\u001b[0m",
      "\u001b[1;31mTypeError\u001b[0m                                 Traceback (most recent call last)",
      "Cell \u001b[1;32mIn[143], line 1\u001b[0m\n\u001b[1;32m----> 1\u001b[0m \u001b[38;5;28;01mdel\u001b[39;00m mytuple [\u001b[38;5;241m0\u001b[39m]\n",
      "\u001b[1;31mTypeError\u001b[0m: 'tuple' object doesn't support item deletion"
     ]
    }
   ],
   "source": [
    "del mytuple [0] #Items in tuple cant be deleted as it is immutable"
   ]
  },
  {
   "cell_type": "code",
   "execution_count": 147,
   "id": "ce81226f-f9bf-4fee-ade8-cd5f55dabefc",
   "metadata": {},
   "outputs": [
    {
     "ename": "TypeError",
     "evalue": "'tuple' object does not support item assignment",
     "output_type": "error",
     "traceback": [
      "\u001b[1;31m---------------------------------------------------------------------------\u001b[0m",
      "\u001b[1;31mTypeError\u001b[0m                                 Traceback (most recent call last)",
      "Cell \u001b[1;32mIn[147], line 1\u001b[0m\n\u001b[1;32m----> 1\u001b[0m mytuple[\u001b[38;5;241m0\u001b[39m] \u001b[38;5;241m=\u001b[39m \u001b[38;5;241m1\u001b[39m\n",
      "\u001b[1;31mTypeError\u001b[0m: 'tuple' object does not support item assignment"
     ]
    }
   ],
   "source": [
    "mytuple[0] = 1 #Tuple items cant be changed as its immutable"
   ]
  },
  {
   "cell_type": "code",
   "execution_count": null,
   "id": "82f3bb95-c3f4-4b41-a1c4-ef062799ab1d",
   "metadata": {},
   "outputs": [],
   "source": [
    "del mytuple #Deleting entire tuple object is possible"
   ]
  },
  {
   "cell_type": "markdown",
   "id": "72f99711-5e03-42a7-9141-1ce02ace007b",
   "metadata": {},
   "source": [
    "#Loop through a tuple"
   ]
  },
  {
   "cell_type": "code",
   "execution_count": 149,
   "id": "276baba4-a217-4702-871d-e0d411f52a16",
   "metadata": {},
   "outputs": [
    {
     "data": {
      "text/plain": [
       "('one', 'two', 'three', 'four', 'five', 'six', 'seven', 'eight')"
      ]
     },
     "execution_count": 149,
     "metadata": {},
     "output_type": "execute_result"
    }
   ],
   "source": [
    "mytuple"
   ]
  },
  {
   "cell_type": "code",
   "execution_count": 153,
   "id": "bc65150c-2271-44ec-92f0-7490f21b996a",
   "metadata": {},
   "outputs": [
    {
     "name": "stdout",
     "output_type": "stream",
     "text": [
      "one\n",
      "two\n",
      "three\n",
      "four\n",
      "five\n",
      "six\n",
      "seven\n",
      "eight\n"
     ]
    }
   ],
   "source": [
    "for i in mytuple: \n",
    "    print(i)  #shows the items in tuple vertically"
   ]
  },
  {
   "cell_type": "code",
   "execution_count": 155,
   "id": "dde50c45-bb9c-41ef-9a53-a4ba844f7920",
   "metadata": {},
   "outputs": [
    {
     "name": "stdout",
     "output_type": "stream",
     "text": [
      "(0, 'one')\n",
      "(1, 'two')\n",
      "(2, 'three')\n",
      "(3, 'four')\n",
      "(4, 'five')\n",
      "(5, 'six')\n",
      "(6, 'seven')\n",
      "(7, 'eight')\n"
     ]
    }
   ],
   "source": [
    "for i in enumerate(mytuple):\n",
    "    print(i)  #enumerate shows the items in typle vertically along with their index"
   ]
  },
  {
   "cell_type": "markdown",
   "id": "4d18be86-8f73-401c-800c-6e088279dd3a",
   "metadata": {},
   "source": [
    "#Tuple membership"
   ]
  },
  {
   "cell_type": "code",
   "execution_count": 157,
   "id": "ac1c7432-17ea-4158-a06a-21eba471651b",
   "metadata": {},
   "outputs": [
    {
     "data": {
      "text/plain": [
       "('one', 'two', 'three', 'four', 'five', 'six', 'seven', 'eight')"
      ]
     },
     "execution_count": 157,
     "metadata": {},
     "output_type": "execute_result"
    }
   ],
   "source": [
    "mytuple"
   ]
  },
  {
   "cell_type": "code",
   "execution_count": 159,
   "id": "ec3f5cac-e62f-4b1b-ac2e-2432079d08d2",
   "metadata": {},
   "outputs": [
    {
     "data": {
      "text/plain": [
       "True"
      ]
     },
     "execution_count": 159,
     "metadata": {},
     "output_type": "execute_result"
    }
   ],
   "source": [
    "'one' in mytuple #Checks if 'one' exists in tuple"
   ]
  },
  {
   "cell_type": "code",
   "execution_count": 161,
   "id": "5b66b92e-e64a-4917-b846-54eaa13c5e7f",
   "metadata": {},
   "outputs": [
    {
     "data": {
      "text/plain": [
       "False"
      ]
     },
     "execution_count": 161,
     "metadata": {},
     "output_type": "execute_result"
    }
   ],
   "source": [
    "'ten' in mytuple #Checks if 'one' exists in tuple"
   ]
  },
  {
   "cell_type": "code",
   "execution_count": 163,
   "id": "300111d2-7473-44e9-bbad-fbada7025893",
   "metadata": {},
   "outputs": [
    {
     "name": "stdout",
     "output_type": "stream",
     "text": [
      "Three is present in the tuple\n"
     ]
    }
   ],
   "source": [
    "if 'three' in mytuple: #Checks if 'three' is present in tuple\n",
    "    print('Three is present in the tuple')\n",
    "else:\n",
    "    print('Three is not present in the tuple')"
   ]
  },
  {
   "cell_type": "markdown",
   "id": "307be5c4-30f8-40b6-b8d5-f6f190d4a10a",
   "metadata": {},
   "source": [
    "if 'eleven' in mytuple: #Checks if 'three' is present in tuple\n",
    "    print('Eleven is present in the tuple')\n",
    "else:\n",
    "    print('Eleven is not present in the tuple')"
   ]
  },
  {
   "cell_type": "markdown",
   "id": "31a383cd-afb4-46c9-aba9-326f3544ac4a",
   "metadata": {},
   "source": [
    "#Index position"
   ]
  },
  {
   "cell_type": "code",
   "execution_count": 167,
   "id": "eb6506ff-5b38-47a5-a4ae-d7346435a0ea",
   "metadata": {},
   "outputs": [
    {
     "data": {
      "text/plain": [
       "('one', 'two', 'three', 'four', 'five', 'six', 'seven', 'eight')"
      ]
     },
     "execution_count": 167,
     "metadata": {},
     "output_type": "execute_result"
    }
   ],
   "source": [
    "mytuple"
   ]
  },
  {
   "cell_type": "code",
   "execution_count": 169,
   "id": "32ac789e-04c4-4348-a7f2-5f2d292d2aa3",
   "metadata": {},
   "outputs": [
    {
     "data": {
      "text/plain": [
       "0"
      ]
     },
     "execution_count": 169,
     "metadata": {},
     "output_type": "execute_result"
    }
   ],
   "source": [
    "mytuple.index('one') #Shows the index of element 'one'"
   ]
  },
  {
   "cell_type": "code",
   "execution_count": 171,
   "id": "225faff9-abe7-4768-9e50-ad446c7044bb",
   "metadata": {},
   "outputs": [
    {
     "data": {
      "text/plain": [
       "4"
      ]
     },
     "execution_count": 171,
     "metadata": {},
     "output_type": "execute_result"
    }
   ],
   "source": [
    "mytuple.index('five') #Shows the index of element 'five"
   ]
  },
  {
   "cell_type": "markdown",
   "id": "f1ec3da3-6c75-441a-838e-560a8dd3b7e4",
   "metadata": {},
   "source": [
    "#Sorting"
   ]
  },
  {
   "cell_type": "code",
   "execution_count": 175,
   "id": "50ba0691-ae09-4baa-9e71-7238b3cb7bf1",
   "metadata": {},
   "outputs": [],
   "source": [
    "mytuple2 = (43, 67, 99, 12, 6, 90, 67)"
   ]
  },
  {
   "cell_type": "code",
   "execution_count": 177,
   "id": "2908979b-74f7-4c47-a0de-b143ee1376c3",
   "metadata": {},
   "outputs": [
    {
     "data": {
      "text/plain": [
       "[6, 12, 43, 67, 67, 90, 99]"
      ]
     },
     "execution_count": 177,
     "metadata": {},
     "output_type": "execute_result"
    }
   ],
   "source": [
    "sorted(mytuple2) #Returns a new sorted list and doesnt change the original tuple"
   ]
  },
  {
   "cell_type": "code",
   "execution_count": 179,
   "id": "e267e4e4-1637-49fa-894d-f4f356b58e9a",
   "metadata": {},
   "outputs": [
    {
     "data": {
      "text/plain": [
       "[99, 90, 67, 67, 43, 12, 6]"
      ]
     },
     "execution_count": 179,
     "metadata": {},
     "output_type": "execute_result"
    }
   ],
   "source": [
    "sorted(mytuple2, reverse=True) #Sorts in descending order"
   ]
  },
  {
   "cell_type": "code",
   "execution_count": null,
   "id": "223088d7-3a4f-4459-9d5a-52f45f8aadb1",
   "metadata": {},
   "outputs": [],
   "source": []
  }
 ],
 "metadata": {
  "kernelspec": {
   "display_name": "Python 3 (ipykernel)",
   "language": "python",
   "name": "python3"
  },
  "language_info": {
   "codemirror_mode": {
    "name": "ipython",
    "version": 3
   },
   "file_extension": ".py",
   "mimetype": "text/x-python",
   "name": "python",
   "nbconvert_exporter": "python",
   "pygments_lexer": "ipython3",
   "version": "3.12.7"
  }
 },
 "nbformat": 4,
 "nbformat_minor": 5
}
