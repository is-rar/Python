{
 "cells": [
  {
   "cell_type": "markdown",
   "id": "736922ad-a26e-462f-b367-2185a592dd1d",
   "metadata": {},
   "source": [
    "Type Casting\n",
    "1. Type casting to int"
   ]
  },
  {
   "cell_type": "code",
   "execution_count": 120,
   "id": "bb97bf64-77a0-4519-a5d8-13c74ed53b5c",
   "metadata": {},
   "outputs": [
    {
     "data": {
      "text/plain": [
       "3"
      ]
     },
     "execution_count": 120,
     "metadata": {},
     "output_type": "execute_result"
    }
   ],
   "source": [
    "int(3.2)"
   ]
  },
  {
   "cell_type": "code",
   "execution_count": 121,
   "id": "eb9a0c19-d06e-4753-9f6b-d4c460b42f0f",
   "metadata": {},
   "outputs": [
    {
     "data": {
      "text/plain": [
       "3"
      ]
     },
     "execution_count": 121,
     "metadata": {},
     "output_type": "execute_result"
    }
   ],
   "source": [
    "int(3.9)"
   ]
  },
  {
   "cell_type": "code",
   "execution_count": 122,
   "id": "3e72ee25-1048-4998-8a2e-90ce0b139de2",
   "metadata": {},
   "outputs": [
    {
     "data": {
      "text/plain": [
       "1"
      ]
     },
     "execution_count": 122,
     "metadata": {},
     "output_type": "execute_result"
    }
   ],
   "source": [
    "int(True)"
   ]
  },
  {
   "cell_type": "code",
   "execution_count": 123,
   "id": "7874d99f-f51b-499b-a66f-aa05117341fe",
   "metadata": {},
   "outputs": [
    {
     "data": {
      "text/plain": [
       "10"
      ]
     },
     "execution_count": 123,
     "metadata": {},
     "output_type": "execute_result"
    }
   ],
   "source": [
    "int('10')"
   ]
  },
  {
   "cell_type": "code",
   "execution_count": 124,
   "id": "59e0d842-116e-4fbe-be56-7ffa474f049f",
   "metadata": {},
   "outputs": [
    {
     "ename": "ValueError",
     "evalue": "invalid literal for int() with base 10: 'ten'",
     "output_type": "error",
     "traceback": [
      "\u001b[1;31m---------------------------------------------------------------------------\u001b[0m",
      "\u001b[1;31mValueError\u001b[0m                                Traceback (most recent call last)",
      "Cell \u001b[1;32mIn[124], line 1\u001b[0m\n\u001b[1;32m----> 1\u001b[0m \u001b[38;5;28mint\u001b[39m(\u001b[38;5;124m'\u001b[39m\u001b[38;5;124mten\u001b[39m\u001b[38;5;124m'\u001b[39m)\n",
      "\u001b[1;31mValueError\u001b[0m: invalid literal for int() with base 10: 'ten'"
     ]
    }
   ],
   "source": [
    "int('ten') #String with text can't be converted to int"
   ]
  },
  {
   "cell_type": "code",
   "execution_count": 151,
   "id": "6ad4c4ae-d500-4a84-b906-c1d3fedec97f",
   "metadata": {},
   "outputs": [
    {
     "ename": "TypeError",
     "evalue": "int() argument must be a string, a bytes-like object or a real number, not 'complex'",
     "output_type": "error",
     "traceback": [
      "\u001b[1;31m---------------------------------------------------------------------------\u001b[0m",
      "\u001b[1;31mTypeError\u001b[0m                                 Traceback (most recent call last)",
      "Cell \u001b[1;32mIn[151], line 1\u001b[0m\n\u001b[1;32m----> 1\u001b[0m \u001b[38;5;28mint\u001b[39m(\u001b[38;5;241m1\u001b[39m\u001b[38;5;241m+\u001b[39m\u001b[38;5;241m2\u001b[39mj)\n",
      "\u001b[1;31mTypeError\u001b[0m: int() argument must be a string, a bytes-like object or a real number, not 'complex'"
     ]
    }
   ],
   "source": [
    "int(1+2j) #Complex cant be converted to int"
   ]
  },
  {
   "cell_type": "markdown",
   "id": "5059ed1c-f6f8-4796-8144-bcbcb50fba2f",
   "metadata": {},
   "source": [
    "2. Typecasting to float"
   ]
  },
  {
   "cell_type": "code",
   "execution_count": 153,
   "id": "8ab98b82-ccec-450d-8dc1-e2d4b99e0691",
   "metadata": {},
   "outputs": [
    {
     "data": {
      "text/plain": [
       "10.0"
      ]
     },
     "execution_count": 153,
     "metadata": {},
     "output_type": "execute_result"
    }
   ],
   "source": [
    "float(10)"
   ]
  },
  {
   "cell_type": "code",
   "execution_count": 155,
   "id": "bc190487-ab45-4d97-a1ee-bbc718165a41",
   "metadata": {},
   "outputs": [
    {
     "data": {
      "text/plain": [
       "10.0"
      ]
     },
     "execution_count": 155,
     "metadata": {},
     "output_type": "execute_result"
    }
   ],
   "source": [
    "float('10')"
   ]
  },
  {
   "cell_type": "code",
   "execution_count": 157,
   "id": "307637f4-57fa-4fad-8ec1-b4829c7aab00",
   "metadata": {},
   "outputs": [
    {
     "ename": "ValueError",
     "evalue": "could not convert string to float: 'Ten'",
     "output_type": "error",
     "traceback": [
      "\u001b[1;31m---------------------------------------------------------------------------\u001b[0m",
      "\u001b[1;31mValueError\u001b[0m                                Traceback (most recent call last)",
      "Cell \u001b[1;32mIn[157], line 1\u001b[0m\n\u001b[1;32m----> 1\u001b[0m \u001b[38;5;28mfloat\u001b[39m(\u001b[38;5;124m'\u001b[39m\u001b[38;5;124mTen\u001b[39m\u001b[38;5;124m'\u001b[39m)\n",
      "\u001b[1;31mValueError\u001b[0m: could not convert string to float: 'Ten'"
     ]
    }
   ],
   "source": [
    "float('Ten')"
   ]
  },
  {
   "cell_type": "code",
   "execution_count": 159,
   "id": "1d1cb6f5-a3bd-4d25-806f-cdb9cb1ab4e9",
   "metadata": {},
   "outputs": [
    {
     "data": {
      "text/plain": [
       "1.0"
      ]
     },
     "execution_count": 159,
     "metadata": {},
     "output_type": "execute_result"
    }
   ],
   "source": [
    "float(True)"
   ]
  },
  {
   "cell_type": "code",
   "execution_count": 161,
   "id": "87803873-0c32-45ef-8a2f-628d74e94927",
   "metadata": {},
   "outputs": [
    {
     "data": {
      "text/plain": [
       "0.0"
      ]
     },
     "execution_count": 161,
     "metadata": {},
     "output_type": "execute_result"
    }
   ],
   "source": [
    "float(False)"
   ]
  },
  {
   "cell_type": "code",
   "execution_count": 163,
   "id": "f87355c5-b136-4658-aeef-342b224b4f12",
   "metadata": {},
   "outputs": [
    {
     "ename": "TypeError",
     "evalue": "float() argument must be a string or a real number, not 'complex'",
     "output_type": "error",
     "traceback": [
      "\u001b[1;31m---------------------------------------------------------------------------\u001b[0m",
      "\u001b[1;31mTypeError\u001b[0m                                 Traceback (most recent call last)",
      "Cell \u001b[1;32mIn[163], line 1\u001b[0m\n\u001b[1;32m----> 1\u001b[0m \u001b[38;5;28mfloat\u001b[39m(\u001b[38;5;241m1\u001b[39m\u001b[38;5;241m+\u001b[39m\u001b[38;5;241m2\u001b[39mj)\n",
      "\u001b[1;31mTypeError\u001b[0m: float() argument must be a string or a real number, not 'complex'"
     ]
    }
   ],
   "source": [
    "float(1+2j)"
   ]
  },
  {
   "cell_type": "markdown",
   "id": "929ea41b-e3e3-44c4-bb5f-0d7aaca8337b",
   "metadata": {},
   "source": [
    "3. Type casting to Bool\n",
    "\n",
    "True for Non zero datatype and False for Zero datatype"
   ]
  },
  {
   "cell_type": "code",
   "execution_count": 166,
   "id": "0fd57b1a-28eb-4b05-98d2-64567f3e9c01",
   "metadata": {},
   "outputs": [
    {
     "data": {
      "text/plain": [
       "True"
      ]
     },
     "execution_count": 166,
     "metadata": {},
     "output_type": "execute_result"
    }
   ],
   "source": [
    "bool(56)"
   ]
  },
  {
   "cell_type": "code",
   "execution_count": 168,
   "id": "2b9ce129-6dd8-4b24-a4a3-50098cf14134",
   "metadata": {},
   "outputs": [
    {
     "data": {
      "text/plain": [
       "False"
      ]
     },
     "execution_count": 168,
     "metadata": {},
     "output_type": "execute_result"
    }
   ],
   "source": [
    "bool(0)"
   ]
  },
  {
   "cell_type": "code",
   "execution_count": 170,
   "id": "5c6193b1-e6d3-4f02-bd54-e3ddebb74520",
   "metadata": {},
   "outputs": [
    {
     "data": {
      "text/plain": [
       "True"
      ]
     },
     "execution_count": 170,
     "metadata": {},
     "output_type": "execute_result"
    }
   ],
   "source": [
    "bool(5.6)"
   ]
  },
  {
   "cell_type": "code",
   "execution_count": 172,
   "id": "efc6b2e4-6f73-4dcb-b80f-a4ef639d7630",
   "metadata": {},
   "outputs": [
    {
     "data": {
      "text/plain": [
       "False"
      ]
     },
     "execution_count": 172,
     "metadata": {},
     "output_type": "execute_result"
    }
   ],
   "source": [
    "bool(0.0)"
   ]
  },
  {
   "cell_type": "code",
   "execution_count": 174,
   "id": "d634c1fa-3baf-41be-9def-c678590ac98c",
   "metadata": {},
   "outputs": [
    {
     "data": {
      "text/plain": [
       "True"
      ]
     },
     "execution_count": 174,
     "metadata": {},
     "output_type": "execute_result"
    }
   ],
   "source": [
    "bool('nit')"
   ]
  },
  {
   "cell_type": "code",
   "execution_count": 176,
   "id": "2c118ec5-58e4-4649-b5ea-b31f466820c8",
   "metadata": {},
   "outputs": [
    {
     "data": {
      "text/plain": [
       "True"
      ]
     },
     "execution_count": 176,
     "metadata": {},
     "output_type": "execute_result"
    }
   ],
   "source": [
    "bool(1+2j)"
   ]
  },
  {
   "cell_type": "markdown",
   "id": "b9d1ac54-a40b-4101-b643-d347a3593f05",
   "metadata": {},
   "source": [
    "4. Type casting to String"
   ]
  },
  {
   "cell_type": "code",
   "execution_count": 179,
   "id": "65f1201d-6466-4389-9289-10aeb583d042",
   "metadata": {},
   "outputs": [
    {
     "data": {
      "text/plain": [
       "'10'"
      ]
     },
     "execution_count": 179,
     "metadata": {},
     "output_type": "execute_result"
    }
   ],
   "source": [
    "str(10)"
   ]
  },
  {
   "cell_type": "code",
   "execution_count": 181,
   "id": "88525095-ede8-4440-aa74-84c514093f34",
   "metadata": {},
   "outputs": [
    {
     "data": {
      "text/plain": [
       "'10.1'"
      ]
     },
     "execution_count": 181,
     "metadata": {},
     "output_type": "execute_result"
    }
   ],
   "source": [
    "str(10.10)"
   ]
  },
  {
   "cell_type": "code",
   "execution_count": 183,
   "id": "cb0440ec-87ca-40bc-a8b9-2d650e0fd322",
   "metadata": {},
   "outputs": [
    {
     "data": {
      "text/plain": [
       "'True'"
      ]
     },
     "execution_count": 183,
     "metadata": {},
     "output_type": "execute_result"
    }
   ],
   "source": [
    "str(True)"
   ]
  },
  {
   "cell_type": "markdown",
   "id": "41f48280-9901-402a-9ae7-b95a49e4e819",
   "metadata": {},
   "source": [
    "5. Type casting to complex"
   ]
  },
  {
   "cell_type": "code",
   "execution_count": 186,
   "id": "e4ea3a92-315e-4249-b6c7-5e0fe2857c98",
   "metadata": {},
   "outputs": [
    {
     "data": {
      "text/plain": [
       "(10+0j)"
      ]
     },
     "execution_count": 186,
     "metadata": {},
     "output_type": "execute_result"
    }
   ],
   "source": [
    "complex(10)"
   ]
  },
  {
   "cell_type": "code",
   "execution_count": 188,
   "id": "8d075523-6eed-440f-9e4e-62208ff1af48",
   "metadata": {},
   "outputs": [
    {
     "data": {
      "text/plain": [
       "1j"
      ]
     },
     "execution_count": 188,
     "metadata": {},
     "output_type": "execute_result"
    }
   ],
   "source": [
    "complex(1j)"
   ]
  },
  {
   "cell_type": "code",
   "execution_count": 190,
   "id": "04cb618e-f088-4ad0-a230-c363f8137625",
   "metadata": {},
   "outputs": [
    {
     "data": {
      "text/plain": [
       "(10+20j)"
      ]
     },
     "execution_count": 190,
     "metadata": {},
     "output_type": "execute_result"
    }
   ],
   "source": [
    "complex(10,20)"
   ]
  },
  {
   "cell_type": "code",
   "execution_count": 192,
   "id": "66f1a995-1a16-4cf8-a82a-cedd9fee97a1",
   "metadata": {},
   "outputs": [
    {
     "ename": "TypeError",
     "evalue": "complex() takes at most 2 arguments (3 given)",
     "output_type": "error",
     "traceback": [
      "\u001b[1;31m---------------------------------------------------------------------------\u001b[0m",
      "\u001b[1;31mTypeError\u001b[0m                                 Traceback (most recent call last)",
      "Cell \u001b[1;32mIn[192], line 1\u001b[0m\n\u001b[1;32m----> 1\u001b[0m \u001b[38;5;28mcomplex\u001b[39m(\u001b[38;5;241m10\u001b[39m,\u001b[38;5;241m20\u001b[39m,\u001b[38;5;241m30\u001b[39m)\n",
      "\u001b[1;31mTypeError\u001b[0m: complex() takes at most 2 arguments (3 given)"
     ]
    }
   ],
   "source": [
    "complex(10,20,30)"
   ]
  },
  {
   "cell_type": "code",
   "execution_count": 194,
   "id": "f9607b8f-f112-449b-8d38-5529ff450f22",
   "metadata": {},
   "outputs": [
    {
     "data": {
      "text/plain": [
       "(1.2+3.4j)"
      ]
     },
     "execution_count": 194,
     "metadata": {},
     "output_type": "execute_result"
    }
   ],
   "source": [
    "complex(1.2,3.4)"
   ]
  },
  {
   "cell_type": "code",
   "execution_count": 196,
   "id": "6b8ede99-ecdd-4f32-a66d-3d84a7813def",
   "metadata": {},
   "outputs": [
    {
     "data": {
      "text/plain": [
       "(1+0j)"
      ]
     },
     "execution_count": 196,
     "metadata": {},
     "output_type": "execute_result"
    }
   ],
   "source": [
    "complex(True,False)"
   ]
  },
  {
   "cell_type": "code",
   "execution_count": 198,
   "id": "a20b4272-e30e-4257-97de-d7fa4a7dacdc",
   "metadata": {},
   "outputs": [
    {
     "data": {
      "text/plain": [
       "0j"
      ]
     },
     "execution_count": 198,
     "metadata": {},
     "output_type": "execute_result"
    }
   ],
   "source": [
    "complex(False,False)"
   ]
  },
  {
   "cell_type": "code",
   "execution_count": 200,
   "id": "d70027e3-a888-4d02-a14e-8c091c1b8921",
   "metadata": {},
   "outputs": [
    {
     "ename": "TypeError",
     "evalue": "complex() can't take second arg if first is a string",
     "output_type": "error",
     "traceback": [
      "\u001b[1;31m---------------------------------------------------------------------------\u001b[0m",
      "\u001b[1;31mTypeError\u001b[0m                                 Traceback (most recent call last)",
      "Cell \u001b[1;32mIn[200], line 1\u001b[0m\n\u001b[1;32m----> 1\u001b[0m \u001b[38;5;28mcomplex\u001b[39m(\u001b[38;5;124m'\u001b[39m\u001b[38;5;124ma\u001b[39m\u001b[38;5;124m'\u001b[39m,\u001b[38;5;124m'\u001b[39m\u001b[38;5;124mb\u001b[39m\u001b[38;5;124m'\u001b[39m)\n",
      "\u001b[1;31mTypeError\u001b[0m: complex() can't take second arg if first is a string"
     ]
    }
   ],
   "source": [
    "complex('a','b')"
   ]
  },
  {
   "cell_type": "code",
   "execution_count": 201,
   "id": "a8c1aef6-0dec-402a-b1d8-538c0997d9e7",
   "metadata": {},
   "outputs": [
    {
     "ename": "TypeError",
     "evalue": "complex() second arg can't be a string",
     "output_type": "error",
     "traceback": [
      "\u001b[1;31m---------------------------------------------------------------------------\u001b[0m",
      "\u001b[1;31mTypeError\u001b[0m                                 Traceback (most recent call last)",
      "Cell \u001b[1;32mIn[201], line 1\u001b[0m\n\u001b[1;32m----> 1\u001b[0m \u001b[38;5;28mcomplex\u001b[39m(\u001b[38;5;241m10\u001b[39m,\u001b[38;5;124m'\u001b[39m\u001b[38;5;124mb\u001b[39m\u001b[38;5;124m'\u001b[39m)\n",
      "\u001b[1;31mTypeError\u001b[0m: complex() second arg can't be a string"
     ]
    }
   ],
   "source": [
    "complex(10,'b')"
   ]
  },
  {
   "cell_type": "code",
   "execution_count": 202,
   "id": "2f3a880b-7598-4aa6-b8fa-7bcd0492fb11",
   "metadata": {},
   "outputs": [
    {
     "ename": "NameError",
     "evalue": "name 'b' is not defined",
     "output_type": "error",
     "traceback": [
      "\u001b[1;31m---------------------------------------------------------------------------\u001b[0m",
      "\u001b[1;31mNameError\u001b[0m                                 Traceback (most recent call last)",
      "Cell \u001b[1;32mIn[202], line 1\u001b[0m\n\u001b[1;32m----> 1\u001b[0m \u001b[38;5;28mcomplex\u001b[39m(\u001b[38;5;241m10\u001b[39m,b)\n",
      "\u001b[1;31mNameError\u001b[0m: name 'b' is not defined"
     ]
    }
   ],
   "source": [
    "complex(10,b)"
   ]
  },
  {
   "cell_type": "code",
   "execution_count": 205,
   "id": "807c57d4-be45-4271-966a-bddafc100794",
   "metadata": {},
   "outputs": [
    {
     "data": {
      "text/plain": [
       "(10+0j)"
      ]
     },
     "execution_count": 205,
     "metadata": {},
     "output_type": "execute_result"
    }
   ],
   "source": [
    "complex('10') #We can only give one argument as a string"
   ]
  },
  {
   "cell_type": "code",
   "execution_count": 208,
   "id": "5b014ace-bd08-4ae0-b577-d8573630db33",
   "metadata": {},
   "outputs": [
    {
     "data": {
      "text/plain": [
       "10j"
      ]
     },
     "execution_count": 208,
     "metadata": {},
     "output_type": "execute_result"
    }
   ],
   "source": [
    "complex('10j')"
   ]
  },
  {
   "cell_type": "markdown",
   "id": "f9fc15b5-76f2-4012-8c11-dd2a9d366012",
   "metadata": {},
   "source": [
    "Operators"
   ]
  },
  {
   "cell_type": "markdown",
   "id": "1f642f30-6e28-4a2b-a1df-5594eba85009",
   "metadata": {},
   "source": [
    "1. Arithmetic Operator\n",
    "2. Assignment Operator\n",
    "3. Relational Operator\n",
    "4. Logical Operator\n",
    "5. Unary Operator"
   ]
  },
  {
   "cell_type": "markdown",
   "id": "3246faf9-ffc9-407e-919e-09a454b6e8ee",
   "metadata": {},
   "source": [
    "1. Arithmetic Operators\n",
    "\n",
    "\n",
    "+,  -,   *,   /,  //,  %,  **"
   ]
  },
  {
   "cell_type": "code",
   "execution_count": 213,
   "id": "e66dc9fe-2973-4e7b-b2fb-f5ac33195545",
   "metadata": {},
   "outputs": [],
   "source": [
    "x1,y1 = 10,5"
   ]
  },
  {
   "cell_type": "code",
   "execution_count": 215,
   "id": "4fd0c84c-862e-4eed-8d70-a3bd00ec998e",
   "metadata": {},
   "outputs": [
    {
     "data": {
      "text/plain": [
       "10"
      ]
     },
     "execution_count": 215,
     "metadata": {},
     "output_type": "execute_result"
    }
   ],
   "source": [
    "x1"
   ]
  },
  {
   "cell_type": "code",
   "execution_count": 217,
   "id": "2be8e1be-040d-4971-ac58-493011775ff0",
   "metadata": {},
   "outputs": [
    {
     "data": {
      "text/plain": [
       "5"
      ]
     },
     "execution_count": 217,
     "metadata": {},
     "output_type": "execute_result"
    }
   ],
   "source": [
    "y1"
   ]
  },
  {
   "cell_type": "code",
   "execution_count": 219,
   "id": "5db3e272-1608-4bec-820f-11e18dee5213",
   "metadata": {},
   "outputs": [
    {
     "data": {
      "text/plain": [
       "15"
      ]
     },
     "execution_count": 219,
     "metadata": {},
     "output_type": "execute_result"
    }
   ],
   "source": [
    "x1 + y1"
   ]
  },
  {
   "cell_type": "code",
   "execution_count": 221,
   "id": "49fd9bc2-c713-4abc-b189-e3c9537a903f",
   "metadata": {},
   "outputs": [
    {
     "data": {
      "text/plain": [
       "5"
      ]
     },
     "execution_count": 221,
     "metadata": {},
     "output_type": "execute_result"
    }
   ],
   "source": [
    "x1 - y1"
   ]
  },
  {
   "cell_type": "code",
   "execution_count": 223,
   "id": "6a9ed9ce-48bf-4634-8781-df7c5f498f69",
   "metadata": {},
   "outputs": [
    {
     "data": {
      "text/plain": [
       "50"
      ]
     },
     "execution_count": 223,
     "metadata": {},
     "output_type": "execute_result"
    }
   ],
   "source": [
    "x1 * y1"
   ]
  },
  {
   "cell_type": "code",
   "execution_count": 225,
   "id": "148ee4f2-cf18-4974-b212-3e2b1459b4f1",
   "metadata": {},
   "outputs": [
    {
     "data": {
      "text/plain": [
       "2.0"
      ]
     },
     "execution_count": 225,
     "metadata": {},
     "output_type": "execute_result"
    }
   ],
   "source": [
    "x1 / y1"
   ]
  },
  {
   "cell_type": "code",
   "execution_count": 227,
   "id": "66baa8b8-2e44-4b14-8a20-60ad57b1a56f",
   "metadata": {},
   "outputs": [
    {
     "data": {
      "text/plain": [
       "2"
      ]
     },
     "execution_count": 227,
     "metadata": {},
     "output_type": "execute_result"
    }
   ],
   "source": [
    "x1 // y1"
   ]
  },
  {
   "cell_type": "code",
   "execution_count": 229,
   "id": "5a600018-68b9-4e0c-8141-d9742ae5a12f",
   "metadata": {},
   "outputs": [
    {
     "data": {
      "text/plain": [
       "0"
      ]
     },
     "execution_count": 229,
     "metadata": {},
     "output_type": "execute_result"
    }
   ],
   "source": [
    "x1 % y1 #x1 mod y1 gives the reminder"
   ]
  },
  {
   "cell_type": "code",
   "execution_count": 231,
   "id": "44947f21-c205-42f2-b68e-49297d5361bd",
   "metadata": {},
   "outputs": [
    {
     "data": {
      "text/plain": [
       "100000"
      ]
     },
     "execution_count": 231,
     "metadata": {},
     "output_type": "execute_result"
    }
   ],
   "source": [
    "x1 ** y1 #x1 to the power y1"
   ]
  },
  {
   "cell_type": "markdown",
   "id": "4ebcbe1d-9487-43ef-9502-3432ac77b000",
   "metadata": {},
   "source": [
    "Assignment operator\n",
    "\n",
    "=,  +=,  -=,  *=,  /=,  //="
   ]
  },
  {
   "cell_type": "code",
   "execution_count": 233,
   "id": "dba8f947-edae-4dc3-8ffa-e80c076a300f",
   "metadata": {},
   "outputs": [],
   "source": [
    "x = 2"
   ]
  },
  {
   "cell_type": "code",
   "execution_count": 235,
   "id": "0fdab248-92a7-4c7c-8c28-c8e5cabaa754",
   "metadata": {},
   "outputs": [
    {
     "data": {
      "text/plain": [
       "4"
      ]
     },
     "execution_count": 235,
     "metadata": {},
     "output_type": "execute_result"
    }
   ],
   "source": [
    "x = x + 2 # Increment by 2\n",
    "x"
   ]
  },
  {
   "cell_type": "code",
   "execution_count": 237,
   "id": "ae7bd489-c227-4ceb-b27c-2cd534454c50",
   "metadata": {},
   "outputs": [
    {
     "data": {
      "text/plain": [
       "6"
      ]
     },
     "execution_count": 237,
     "metadata": {},
     "output_type": "execute_result"
    }
   ],
   "source": [
    "x += 2\n",
    "x"
   ]
  },
  {
   "cell_type": "code",
   "execution_count": 239,
   "id": "5451789f-1441-427f-bc2c-73802818bef5",
   "metadata": {},
   "outputs": [
    {
     "data": {
      "text/plain": [
       "8"
      ]
     },
     "execution_count": 239,
     "metadata": {},
     "output_type": "execute_result"
    }
   ],
   "source": [
    "x += 2\n",
    "x"
   ]
  },
  {
   "cell_type": "code",
   "execution_count": 241,
   "id": "7ee99326-2b11-47cb-afc3-b5c88f9affb5",
   "metadata": {},
   "outputs": [
    {
     "data": {
      "text/plain": [
       "16"
      ]
     },
     "execution_count": 241,
     "metadata": {},
     "output_type": "execute_result"
    }
   ],
   "source": [
    "x *= 2\n",
    "x"
   ]
  },
  {
   "cell_type": "code",
   "execution_count": 243,
   "id": "858489c2-6907-4d75-9e81-b08b32e68ca8",
   "metadata": {},
   "outputs": [],
   "source": [
    "x -= 2"
   ]
  },
  {
   "cell_type": "code",
   "execution_count": 245,
   "id": "20cf8bf3-4349-4d39-af25-a164e8706596",
   "metadata": {},
   "outputs": [
    {
     "data": {
      "text/plain": [
       "14"
      ]
     },
     "execution_count": 245,
     "metadata": {},
     "output_type": "execute_result"
    }
   ],
   "source": [
    "x"
   ]
  },
  {
   "cell_type": "code",
   "execution_count": 247,
   "id": "27ca6b28-6167-4d5a-a4e5-b9175426be70",
   "metadata": {},
   "outputs": [
    {
     "data": {
      "text/plain": [
       "7.0"
      ]
     },
     "execution_count": 247,
     "metadata": {},
     "output_type": "execute_result"
    }
   ],
   "source": [
    "x /= 2\n",
    "x"
   ]
  },
  {
   "cell_type": "code",
   "execution_count": 249,
   "id": "8c7761d0-fb1b-49ac-a2a0-31cced0877f9",
   "metadata": {},
   "outputs": [
    {
     "data": {
      "text/plain": [
       "6.0"
      ]
     },
     "execution_count": 249,
     "metadata": {},
     "output_type": "execute_result"
    }
   ],
   "source": [
    "x -= 1\n",
    "x"
   ]
  },
  {
   "cell_type": "code",
   "execution_count": 251,
   "id": "a39255a7-6345-4f42-b119-14e66de56750",
   "metadata": {},
   "outputs": [],
   "source": [
    "x //= 2 #Floor division"
   ]
  },
  {
   "cell_type": "code",
   "execution_count": 253,
   "id": "1cb0d2da-70ff-43da-ace0-f246fa5edc01",
   "metadata": {},
   "outputs": [
    {
     "data": {
      "text/plain": [
       "3.0"
      ]
     },
     "execution_count": 253,
     "metadata": {},
     "output_type": "execute_result"
    }
   ],
   "source": [
    "x"
   ]
  },
  {
   "cell_type": "code",
   "execution_count": 257,
   "id": "453adc8b-7e58-4000-a232-891866f0324f",
   "metadata": {},
   "outputs": [
    {
     "ename": "SyntaxError",
     "evalue": "invalid syntax (56679680.py, line 1)",
     "output_type": "error",
     "traceback": [
      "\u001b[1;36m  Cell \u001b[1;32mIn[257], line 1\u001b[1;36m\u001b[0m\n\u001b[1;33m    x + = 2 #There should not be space between + and =\u001b[0m\n\u001b[1;37m        ^\u001b[0m\n\u001b[1;31mSyntaxError\u001b[0m\u001b[1;31m:\u001b[0m invalid syntax\n"
     ]
    }
   ],
   "source": [
    "x + = 2 #There should not be space between + and =\n",
    "x"
   ]
  },
  {
   "cell_type": "markdown",
   "id": "34815a90-0d67-4c73-964d-1313d05a3bfe",
   "metadata": {},
   "source": [
    "Relational Operators\n",
    "\n",
    "\n",
    "Used for comparing\n",
    ">,  <,  ==, >=,  <=,  !="
   ]
  },
  {
   "cell_type": "code",
   "execution_count": 262,
   "id": "a57c024b-2a92-4e58-934d-2e8b75825866",
   "metadata": {},
   "outputs": [],
   "source": [
    "a = 5\n",
    "b = 6"
   ]
  },
  {
   "cell_type": "code",
   "execution_count": 264,
   "id": "0dd23f00-d160-4b34-959f-1749eb9db44e",
   "metadata": {},
   "outputs": [
    {
     "data": {
      "text/plain": [
       "True"
      ]
     },
     "execution_count": 264,
     "metadata": {},
     "output_type": "execute_result"
    }
   ],
   "source": [
    "a<b"
   ]
  },
  {
   "cell_type": "code",
   "execution_count": 266,
   "id": "5bf27972-b174-4819-a5b5-46816474572e",
   "metadata": {},
   "outputs": [
    {
     "data": {
      "text/plain": [
       "False"
      ]
     },
     "execution_count": 266,
     "metadata": {},
     "output_type": "execute_result"
    }
   ],
   "source": [
    "a>b"
   ]
  },
  {
   "cell_type": "code",
   "execution_count": 270,
   "id": "ea9dda57-cdfb-4cb9-9c5f-a800d0e81d3b",
   "metadata": {},
   "outputs": [
    {
     "data": {
      "text/plain": [
       "False"
      ]
     },
     "execution_count": 270,
     "metadata": {},
     "output_type": "execute_result"
    }
   ],
   "source": [
    "a == b #a equal to b"
   ]
  },
  {
   "cell_type": "code",
   "execution_count": 272,
   "id": "c5e414ae-904a-48c7-8ea7-fa3a1a3c9b64",
   "metadata": {},
   "outputs": [
    {
     "data": {
      "text/plain": [
       "True"
      ]
     },
     "execution_count": 272,
     "metadata": {},
     "output_type": "execute_result"
    }
   ],
   "source": [
    "a != b #a not equal to b"
   ]
  },
  {
   "cell_type": "code",
   "execution_count": 274,
   "id": "549e7169-5551-47f1-94b8-61ecb49bbacb",
   "metadata": {},
   "outputs": [
    {
     "data": {
      "text/plain": [
       "False"
      ]
     },
     "execution_count": 274,
     "metadata": {},
     "output_type": "execute_result"
    }
   ],
   "source": [
    "a >= b"
   ]
  },
  {
   "cell_type": "code",
   "execution_count": 276,
   "id": "bc62cc60-fe3a-4cf2-ab2d-d84c2a4a2287",
   "metadata": {},
   "outputs": [
    {
     "data": {
      "text/plain": [
       "True"
      ]
     },
     "execution_count": 276,
     "metadata": {},
     "output_type": "execute_result"
    }
   ],
   "source": [
    "a <= b"
   ]
  },
  {
   "cell_type": "markdown",
   "id": "4a8808db-77e7-4dd6-a5be-adb146ba3531",
   "metadata": {},
   "source": [
    "Logical Operators\n",
    "\n",
    "and, or, not as per Truth table"
   ]
  },
  {
   "cell_type": "code",
   "execution_count": 282,
   "id": "76001ab5-dfd0-4893-aee8-c8aa70e22d7f",
   "metadata": {},
   "outputs": [],
   "source": [
    "a = 5\n",
    "b = 4"
   ]
  },
  {
   "cell_type": "code",
   "execution_count": 284,
   "id": "9427b6a7-4078-4aa6-8722-28c5aa444e03",
   "metadata": {},
   "outputs": [
    {
     "data": {
      "text/plain": [
       "True"
      ]
     },
     "execution_count": 284,
     "metadata": {},
     "output_type": "execute_result"
    }
   ],
   "source": [
    "a < 10 and b < 6"
   ]
  },
  {
   "cell_type": "code",
   "execution_count": 286,
   "id": "d49a3a75-1e0b-462a-962a-d5b5f8aceab5",
   "metadata": {},
   "outputs": [
    {
     "data": {
      "text/plain": [
       "False"
      ]
     },
     "execution_count": 286,
     "metadata": {},
     "output_type": "execute_result"
    }
   ],
   "source": [
    "a < 8 and b < 2"
   ]
  },
  {
   "cell_type": "code",
   "execution_count": 290,
   "id": "50c33843-6cb2-4da2-85d9-a1e1b144727b",
   "metadata": {},
   "outputs": [
    {
     "data": {
      "text/plain": [
       "True"
      ]
     },
     "execution_count": 290,
     "metadata": {},
     "output_type": "execute_result"
    }
   ],
   "source": [
    "a > 8 or b > 2"
   ]
  },
  {
   "cell_type": "code",
   "execution_count": 292,
   "id": "979113ad-4007-4361-88e7-8774f1224e61",
   "metadata": {},
   "outputs": [
    {
     "data": {
      "text/plain": [
       "True"
      ]
     },
     "execution_count": 292,
     "metadata": {},
     "output_type": "execute_result"
    }
   ],
   "source": [
    "x = False\n",
    "not x"
   ]
  },
  {
   "cell_type": "markdown",
   "id": "2d68c014-580e-4a58-b737-a6f245577b17",
   "metadata": {},
   "source": [
    "Unary Operators\n",
    "\n",
    "    - (minus) operator"
   ]
  },
  {
   "cell_type": "code",
   "execution_count": 297,
   "id": "26b731d1-4238-4c86-83d9-a2caf431b358",
   "metadata": {},
   "outputs": [
    {
     "data": {
      "text/plain": [
       "-7"
      ]
     },
     "execution_count": 297,
     "metadata": {},
     "output_type": "execute_result"
    }
   ],
   "source": [
    "x = 7\n",
    "-x #negation"
   ]
  },
  {
   "cell_type": "code",
   "execution_count": 299,
   "id": "0abfe53c-dea1-415c-98e5-cc4a49cffe65",
   "metadata": {},
   "outputs": [],
   "source": [
    "y = -x"
   ]
  },
  {
   "cell_type": "code",
   "execution_count": 301,
   "id": "d398735c-26f2-44bb-bedc-57f5911b0663",
   "metadata": {},
   "outputs": [
    {
     "data": {
      "text/plain": [
       "-7"
      ]
     },
     "execution_count": 301,
     "metadata": {},
     "output_type": "execute_result"
    }
   ],
   "source": [
    "y"
   ]
  },
  {
   "cell_type": "markdown",
   "id": "7f723fcc-0839-454b-b48a-052eae6d4ae7",
   "metadata": {},
   "source": [
    "Bitwise Operators\n",
    "\n",
    "1. Complement ~\n",
    "2. AND &\n",
    "3. OR |\n",
    "4. XOR ^\n",
    "5. LEFT SHIFT << (Gain the bit)\n",
    "6. RIGHT SHIFT >> (Loose the bit)"
   ]
  },
  {
   "cell_type": "code",
   "execution_count": 306,
   "id": "622b079d-e585-441c-8e69-a13712c16581",
   "metadata": {},
   "outputs": [
    {
     "data": {
      "text/plain": [
       "-11"
      ]
     },
     "execution_count": 306,
     "metadata": {},
     "output_type": "execute_result"
    }
   ],
   "source": [
    "#Using 2's complement - 1's complement + 1\n",
    "~ 10"
   ]
  },
  {
   "cell_type": "code",
   "execution_count": 308,
   "id": "cc229b79-9abd-4e64-8c66-c1ba3418ed9f",
   "metadata": {},
   "outputs": [
    {
     "data": {
      "text/plain": [
       "10"
      ]
     },
     "execution_count": 308,
     "metadata": {},
     "output_type": "execute_result"
    }
   ],
   "source": [
    "~ -11"
   ]
  },
  {
   "cell_type": "code",
   "execution_count": 310,
   "id": "a0a59f55-a56a-44ee-9460-21591197e65e",
   "metadata": {},
   "outputs": [
    {
     "data": {
      "text/plain": [
       "-7"
      ]
     },
     "execution_count": 310,
     "metadata": {},
     "output_type": "execute_result"
    }
   ],
   "source": [
    "~6"
   ]
  },
  {
   "cell_type": "code",
   "execution_count": 312,
   "id": "cf18830e-1dcf-4126-b2f5-db560eb874e0",
   "metadata": {},
   "outputs": [
    {
     "data": {
      "text/plain": [
       "-2"
      ]
     },
     "execution_count": 312,
     "metadata": {},
     "output_type": "execute_result"
    }
   ],
   "source": [
    "~1"
   ]
  },
  {
   "cell_type": "code",
   "execution_count": 314,
   "id": "b252f24d-f7aa-43be-9a57-d50215e447b1",
   "metadata": {},
   "outputs": [
    {
     "data": {
      "text/plain": [
       "14"
      ]
     },
     "execution_count": 314,
     "metadata": {},
     "output_type": "execute_result"
    }
   ],
   "source": [
    "14 & 15"
   ]
  },
  {
   "cell_type": "code",
   "execution_count": 316,
   "id": "2c608b55-fa67-4dd9-a7ed-4e58b711963b",
   "metadata": {},
   "outputs": [
    {
     "data": {
      "text/plain": [
       "15"
      ]
     },
     "execution_count": 316,
     "metadata": {},
     "output_type": "execute_result"
    }
   ],
   "source": [
    "14 | 15"
   ]
  },
  {
   "cell_type": "code",
   "execution_count": 318,
   "id": "72b8e611-49ca-4c58-bb19-8345c9f016c5",
   "metadata": {},
   "outputs": [
    {
     "data": {
      "text/plain": [
       "32"
      ]
     },
     "execution_count": 318,
     "metadata": {},
     "output_type": "execute_result"
    }
   ],
   "source": [
    "35 & 40"
   ]
  },
  {
   "cell_type": "code",
   "execution_count": 320,
   "id": "b574be3d-4cc6-4057-a872-2a06751d925a",
   "metadata": {},
   "outputs": [
    {
     "data": {
      "text/plain": [
       "43"
      ]
     },
     "execution_count": 320,
     "metadata": {},
     "output_type": "execute_result"
    }
   ],
   "source": [
    "35 | 40"
   ]
  },
  {
   "cell_type": "code",
   "execution_count": 322,
   "id": "a11fa4cf-a75e-4a99-b3db-84fda0db6f90",
   "metadata": {},
   "outputs": [
    {
     "data": {
      "text/plain": [
       "1"
      ]
     },
     "execution_count": 322,
     "metadata": {},
     "output_type": "execute_result"
    }
   ],
   "source": [
    "14 ^ 15"
   ]
  },
  {
   "cell_type": "code",
   "execution_count": 324,
   "id": "90ca8947-fd90-41a5-9d08-7c21d60b88ba",
   "metadata": {},
   "outputs": [
    {
     "data": {
      "text/plain": [
       "40"
      ]
     },
     "execution_count": 324,
     "metadata": {},
     "output_type": "execute_result"
    }
   ],
   "source": [
    "10 << 2"
   ]
  },
  {
   "cell_type": "code",
   "execution_count": 326,
   "id": "7a5fb760-a1e5-484a-a842-8b2d49f908c1",
   "metadata": {},
   "outputs": [
    {
     "data": {
      "text/plain": [
       "2"
      ]
     },
     "execution_count": 326,
     "metadata": {},
     "output_type": "execute_result"
    }
   ],
   "source": [
    "10 >> 2"
   ]
  },
  {
   "cell_type": "markdown",
   "id": "1e616a8f-2911-49b8-8b4a-6b6f666e990b",
   "metadata": {},
   "source": [
    "Number System\n",
    "\n",
    "* Binary - 2 values, Base 2 - 0 to 1\n",
    "* Octal - 8 values, Base 8 - 0 to 7\n",
    "* Decimal - 10 values, Base 10 - 0 to 9\n",
    "* Hexadecimal - 16 values, Base 16 - 0 to 9, a,b,c,d,e,g #Real time application : IP address\n"
   ]
  },
  {
   "cell_type": "code",
   "execution_count": 329,
   "id": "2e30f0d0-1c72-421d-a303-a59a6ccade97",
   "metadata": {},
   "outputs": [
    {
     "data": {
      "text/plain": [
       "25"
      ]
     },
     "execution_count": 329,
     "metadata": {},
     "output_type": "execute_result"
    }
   ],
   "source": [
    "25"
   ]
  },
  {
   "cell_type": "code",
   "execution_count": 331,
   "id": "548b1f44-d933-4e82-970f-294dd17a16e4",
   "metadata": {},
   "outputs": [
    {
     "data": {
      "text/plain": [
       "'0b11001'"
      ]
     },
     "execution_count": 331,
     "metadata": {},
     "output_type": "execute_result"
    }
   ],
   "source": [
    "bin(25)"
   ]
  },
  {
   "cell_type": "code",
   "execution_count": 333,
   "id": "9092833c-2648-4c88-818a-ba5edffc6794",
   "metadata": {},
   "outputs": [
    {
     "data": {
      "text/plain": [
       "25"
      ]
     },
     "execution_count": 333,
     "metadata": {},
     "output_type": "execute_result"
    }
   ],
   "source": [
    "int(0b11001)"
   ]
  }
 ],
 "metadata": {
  "kernelspec": {
   "display_name": "Python 3 (ipykernel)",
   "language": "python",
   "name": "python3"
  },
  "language_info": {
   "codemirror_mode": {
    "name": "ipython",
    "version": 3
   },
   "file_extension": ".py",
   "mimetype": "text/x-python",
   "name": "python",
   "nbconvert_exporter": "python",
   "pygments_lexer": "ipython3",
   "version": "3.12.7"
  }
 },
 "nbformat": 4,
 "nbformat_minor": 5
}
