{
 "cells": [
  {
   "cell_type": "code",
   "execution_count": 3,
   "id": "4c2707b2-39f1-4b60-b4e1-aaf33914c407",
   "metadata": {},
   "outputs": [
    {
     "data": {
      "text/plain": [
       "[]"
      ]
     },
     "execution_count": 3,
     "metadata": {},
     "output_type": "execute_result"
    }
   ],
   "source": [
    "list1=[] #empty list\n",
    "list1"
   ]
  },
  {
   "cell_type": "code",
   "execution_count": 5,
   "id": "e139e387-0ca7-4300-bcb9-58121ab76277",
   "metadata": {},
   "outputs": [
    {
     "data": {
      "text/plain": [
       "list"
      ]
     },
     "execution_count": 5,
     "metadata": {},
     "output_type": "execute_result"
    }
   ],
   "source": [
    "type(list1)"
   ]
  },
  {
   "cell_type": "code",
   "execution_count": 7,
   "id": "f37a0e9d-6581-4357-aec8-9dff86ee34d8",
   "metadata": {},
   "outputs": [
    {
     "name": "stdout",
     "output_type": "stream",
     "text": [
      "<class 'list'>\n"
     ]
    }
   ],
   "source": [
    "print(type(list1))"
   ]
  },
  {
   "cell_type": "code",
   "execution_count": 9,
   "id": "23caeff4-6079-4350-8dfa-87b096dd9688",
   "metadata": {},
   "outputs": [],
   "source": [
    "list2 = [10, 20, 30] #list if integers\n",
    "list3 = [10.77, 30.66, 60.89] #list of float\n",
    "list4 = ['one', 'two', \"three\"] #list of strings"
   ]
  },
  {
   "cell_type": "code",
   "execution_count": 11,
   "id": "c027ac66-23a0-42e7-a561-a5fdef4022c4",
   "metadata": {},
   "outputs": [],
   "source": [
    "list5 = ['Asif', 25, [50,100], [150,90]] #Nested lists"
   ]
  },
  {
   "cell_type": "code",
   "execution_count": 13,
   "id": "e9bf7185-86dd-4986-926c-f6202ce3d41d",
   "metadata": {},
   "outputs": [],
   "source": [
    "list6 = [100, 'Asif', 17.765] #list of mixed datatypes"
   ]
  },
  {
   "cell_type": "code",
   "execution_count": 15,
   "id": "06b5d2c5-f70d-4227-ba52-14bb75cfeb55",
   "metadata": {},
   "outputs": [],
   "source": [
    "list7 = ['Asif', 25, [50,100], [150,90], {'John', 'David'}]"
   ]
  },
  {
   "cell_type": "code",
   "execution_count": 17,
   "id": "5a505c33-4d04-4305-93ea-5c9290aa5535",
   "metadata": {},
   "outputs": [
    {
     "data": {
      "text/plain": [
       "5"
      ]
     },
     "execution_count": 17,
     "metadata": {},
     "output_type": "execute_result"
    }
   ],
   "source": [
    "len(list6)\n",
    "len(list7)"
   ]
  },
  {
   "cell_type": "code",
   "execution_count": 19,
   "id": "d63dd723-f185-4c84-ac0c-e7802de5b343",
   "metadata": {},
   "outputs": [
    {
     "data": {
      "text/plain": [
       "3"
      ]
     },
     "execution_count": 19,
     "metadata": {},
     "output_type": "execute_result"
    }
   ],
   "source": [
    "len(list6) #Retrieve first element of the list"
   ]
  },
  {
   "cell_type": "code",
   "execution_count": 23,
   "id": "993ba8a5-4a3a-4e55-8412-94ac7960f6e4",
   "metadata": {},
   "outputs": [
    {
     "data": {
      "text/plain": [
       "'Asif'"
      ]
     },
     "execution_count": 23,
     "metadata": {},
     "output_type": "execute_result"
    }
   ],
   "source": [
    "list7[0] #Retrieve first element of the list"
   ]
  },
  {
   "cell_type": "code",
   "execution_count": 25,
   "id": "28fbd483-4a38-4ec8-98ac-21af4f0100ef",
   "metadata": {},
   "outputs": [
    {
     "data": {
      "text/plain": [
       "'A'"
      ]
     },
     "execution_count": 25,
     "metadata": {},
     "output_type": "execute_result"
    }
   ],
   "source": [
    "list7[0][0] #Nested indexing - Access first character of the first list element"
   ]
  },
  {
   "cell_type": "code",
   "execution_count": 27,
   "id": "a9978cea-73f3-40e5-89de-e5f3937a478e",
   "metadata": {},
   "outputs": [
    {
     "data": {
      "text/plain": [
       "{'David', 'John'}"
      ]
     },
     "execution_count": 27,
     "metadata": {},
     "output_type": "execute_result"
    }
   ],
   "source": [
    "list7[-1] #Last item of the list"
   ]
  },
  {
   "cell_type": "markdown",
   "id": "1cf09eb6-b0bf-410b-ada3-64362f6153ee",
   "metadata": {},
   "source": [
    "#Slicing"
   ]
  },
  {
   "cell_type": "code",
   "execution_count": 29,
   "id": "26334189-e08a-4240-82bf-aeee2c7f1b7d",
   "metadata": {},
   "outputs": [],
   "source": [
    "mylist = ['one', 'two', 'three', 'four', 'five', 'six', 'seven', 'eight']"
   ]
  },
  {
   "cell_type": "code",
   "execution_count": 31,
   "id": "f53aca48-8658-487b-a51a-df2011a277b3",
   "metadata": {},
   "outputs": [
    {
     "data": {
      "text/plain": [
       "['one', 'two', 'three']"
      ]
     },
     "execution_count": 31,
     "metadata": {},
     "output_type": "execute_result"
    }
   ],
   "source": [
    "mylist[0:3] #Return all items from 0th to 3rd index location excluding the item"
   ]
  },
  {
   "cell_type": "code",
   "execution_count": 75,
   "id": "561671a6-874e-4629-9823-b63248a7dd40",
   "metadata": {},
   "outputs": [
    {
     "data": {
      "text/plain": [
       "['one', 'two', 'three', 'four', 'five', 'six', 'seven', 'eight']"
      ]
     },
     "execution_count": 75,
     "metadata": {},
     "output_type": "execute_result"
    }
   ],
   "source": [
    "mylist"
   ]
  },
  {
   "cell_type": "code",
   "execution_count": 77,
   "id": "65143d2c-e689-4e73-ae75-1e99b6bd2ae7",
   "metadata": {},
   "outputs": [
    {
     "data": {
      "text/plain": [
       "['three', 'four', 'five']"
      ]
     },
     "execution_count": 77,
     "metadata": {},
     "output_type": "execute_result"
    }
   ],
   "source": [
    "mylist[2:5] #List all items from 2nd index to 5th index"
   ]
  },
  {
   "cell_type": "code",
   "execution_count": 79,
   "id": "eb0956b1-8ad6-4a2a-b49a-9afd1b80db50",
   "metadata": {},
   "outputs": [
    {
     "data": {
      "text/plain": [
       "['one', 'two', 'three']"
      ]
     },
     "execution_count": 79,
     "metadata": {},
     "output_type": "execute_result"
    }
   ],
   "source": [
    "mylist[:3] #list first three items"
   ]
  },
  {
   "cell_type": "code",
   "execution_count": 85,
   "id": "a2768872-dcbc-4242-bd3a-fd8d52043942",
   "metadata": {},
   "outputs": [
    {
     "data": {
      "text/plain": [
       "['one', 'two', 'three', 'four', 'five', 'six', 'seven', 'eight']"
      ]
     },
     "execution_count": 85,
     "metadata": {},
     "output_type": "execute_result"
    }
   ],
   "source": [
    "mylist"
   ]
  },
  {
   "cell_type": "code",
   "execution_count": 87,
   "id": "1aa31f55-afd6-4f6c-a195-4129d91021c8",
   "metadata": {},
   "outputs": [
    {
     "data": {
      "text/plain": [
       "['one', 'two', 'three', 'four', 'five']"
      ]
     },
     "execution_count": 87,
     "metadata": {},
     "output_type": "execute_result"
    }
   ],
   "source": [
    "mylist[:-3] #list all items except last three"
   ]
  },
  {
   "cell_type": "code",
   "execution_count": 91,
   "id": "163b87b7-20c3-40b8-a129-273bb674db26",
   "metadata": {},
   "outputs": [
    {
     "data": {
      "text/plain": [
       "['six', 'seven', 'eight']"
      ]
     },
     "execution_count": 91,
     "metadata": {},
     "output_type": "execute_result"
    }
   ],
   "source": [
    "mylist[-3:] #list last three items"
   ]
  },
  {
   "cell_type": "code",
   "execution_count": 93,
   "id": "a0f6e6f2-83b5-44a0-8841-34b4c6c7dcae",
   "metadata": {},
   "outputs": [
    {
     "data": {
      "text/plain": [
       "['eight']"
      ]
     },
     "execution_count": 93,
     "metadata": {},
     "output_type": "execute_result"
    }
   ],
   "source": [
    "mylist[-1:] #list last item"
   ]
  },
  {
   "cell_type": "code",
   "execution_count": 95,
   "id": "c5dd45ee-ce95-4111-9ee2-233cbc46a11b",
   "metadata": {},
   "outputs": [
    {
     "data": {
      "text/plain": [
       "['one', 'two', 'three', 'four', 'five', 'six', 'seven', 'eight']"
      ]
     },
     "execution_count": 95,
     "metadata": {},
     "output_type": "execute_result"
    }
   ],
   "source": [
    "mylist[:] #Return whole list"
   ]
  },
  {
   "cell_type": "markdown",
   "id": "2a732e38-fb6c-49c5-83f1-fd284097fbcc",
   "metadata": {},
   "source": [
    "Add Remove and Change items"
   ]
  },
  {
   "cell_type": "code",
   "execution_count": 97,
   "id": "9b4b5b6b-b209-4643-8c5c-e8472f353d34",
   "metadata": {},
   "outputs": [
    {
     "data": {
      "text/plain": [
       "['one', 'two', 'three', 'four', 'five', 'six', 'seven', 'eight']"
      ]
     },
     "execution_count": 97,
     "metadata": {},
     "output_type": "execute_result"
    }
   ],
   "source": [
    "mylist"
   ]
  },
  {
   "cell_type": "code",
   "execution_count": 99,
   "id": "52fa3678-46ca-438c-b9c0-7d23e457f875",
   "metadata": {},
   "outputs": [],
   "source": [
    "mylist.append('nine') #Add an item to the end of the list"
   ]
  },
  {
   "cell_type": "code",
   "execution_count": 101,
   "id": "a4c48764-d7a0-434a-912a-1074b7dab8af",
   "metadata": {},
   "outputs": [
    {
     "data": {
      "text/plain": [
       "['one', 'two', 'three', 'four', 'five', 'six', 'seven', 'eight', 'nine']"
      ]
     },
     "execution_count": 101,
     "metadata": {},
     "output_type": "execute_result"
    }
   ],
   "source": [
    "mylist"
   ]
  },
  {
   "cell_type": "code",
   "execution_count": 103,
   "id": "13cdb753-a373-4fdf-8547-d9a58977a600",
   "metadata": {},
   "outputs": [
    {
     "data": {
      "text/plain": [
       "['one', 'two', 'three', 'four', 'five', 'six', 'seven', 'eight', 'nine', 'ten']"
      ]
     },
     "execution_count": 103,
     "metadata": {},
     "output_type": "execute_result"
    }
   ],
   "source": [
    "mylist.insert(9,'ten') #Add item at index 9\n",
    "mylist"
   ]
  },
  {
   "cell_type": "code",
   "execution_count": 105,
   "id": "0e253797-e58f-4f65-9e04-71a820dab950",
   "metadata": {},
   "outputs": [],
   "source": [
    "mylist.insert(1,'ONE') #Add item at index 1"
   ]
  },
  {
   "cell_type": "code",
   "execution_count": 107,
   "id": "875412c7-b1b9-4897-85d3-04230e931c20",
   "metadata": {},
   "outputs": [
    {
     "data": {
      "text/plain": [
       "['one',\n",
       " 'ONE',\n",
       " 'two',\n",
       " 'three',\n",
       " 'four',\n",
       " 'five',\n",
       " 'six',\n",
       " 'seven',\n",
       " 'eight',\n",
       " 'nine',\n",
       " 'ten']"
      ]
     },
     "execution_count": 107,
     "metadata": {},
     "output_type": "execute_result"
    }
   ],
   "source": [
    "mylist"
   ]
  },
  {
   "cell_type": "code",
   "execution_count": 109,
   "id": "aa406f8b-108d-43ff-8b57-365b3e3912a3",
   "metadata": {},
   "outputs": [
    {
     "data": {
      "text/plain": [
       "['one', 'two', 'three', 'four', 'five', 'six', 'seven', 'eight', 'nine', 'ten']"
      ]
     },
     "execution_count": 109,
     "metadata": {},
     "output_type": "execute_result"
    }
   ],
   "source": [
    "mylist.remove('ONE') #Remove item \"ONE\"\n",
    "mylist"
   ]
  },
  {
   "cell_type": "code",
   "execution_count": 111,
   "id": "6027de6b-3e4b-495f-b7e9-030a9fdf02ae",
   "metadata": {},
   "outputs": [
    {
     "data": {
      "text/plain": [
       "['one', 'two', 'three', 'four', 'five', 'six', 'seven', 'eight', 'nine']"
      ]
     },
     "execution_count": 111,
     "metadata": {},
     "output_type": "execute_result"
    }
   ],
   "source": [
    "mylist.pop() #Remove last item from the list\n",
    "mylist"
   ]
  },
  {
   "cell_type": "code",
   "execution_count": 113,
   "id": "77858e5b-be44-46f5-b6d9-4698ce06d939",
   "metadata": {},
   "outputs": [
    {
     "data": {
      "text/plain": [
       "['one', 'two', 'three', 'four', 'five', 'six', 'seven', 'eight']"
      ]
     },
     "execution_count": 113,
     "metadata": {},
     "output_type": "execute_result"
    }
   ],
   "source": [
    "mylist.pop(8) #Remove item at index location 8\n",
    "mylist"
   ]
  },
  {
   "cell_type": "code",
   "execution_count": 115,
   "id": "d7d0d441-c0de-477f-8a1a-045f749ef628",
   "metadata": {},
   "outputs": [
    {
     "data": {
      "text/plain": [
       "['one', 'two', 'three', 'four', 'five', 'six', 'seven']"
      ]
     },
     "execution_count": 115,
     "metadata": {},
     "output_type": "execute_result"
    }
   ],
   "source": [
    "del mylist[7] #Remove item at index location 7\n",
    "mylist"
   ]
  },
  {
   "cell_type": "code",
   "execution_count": 117,
   "id": "a32a8245-e08d-4bb5-9bcf-65888c99b7e6",
   "metadata": {},
   "outputs": [
    {
     "data": {
      "text/plain": [
       "[1, 2, 3, 'four', 'five', 'six', 'seven']"
      ]
     },
     "execution_count": 117,
     "metadata": {},
     "output_type": "execute_result"
    }
   ],
   "source": [
    "#Change value of the string\n",
    "mylist[0] = 1\n",
    "mylist[1] = 2\n",
    "mylist[2] = 3\n",
    "mylist"
   ]
  },
  {
   "cell_type": "code",
   "execution_count": 119,
   "id": "5b3dde71-963f-4f30-a985-0b88e0a1bfcb",
   "metadata": {},
   "outputs": [],
   "source": [
    "mylist.clear() #Deletes all the item in the list"
   ]
  },
  {
   "cell_type": "code",
   "execution_count": 121,
   "id": "683ba4c6-8990-407d-b896-4625be70901b",
   "metadata": {},
   "outputs": [
    {
     "data": {
      "text/plain": [
       "[]"
      ]
     },
     "execution_count": 121,
     "metadata": {},
     "output_type": "execute_result"
    }
   ],
   "source": [
    "mylist"
   ]
  },
  {
   "cell_type": "code",
   "execution_count": 123,
   "id": "a1e127af-184c-4998-92ac-de3442dc3de1",
   "metadata": {},
   "outputs": [],
   "source": [
    "del mylist #Deletes the whole list"
   ]
  },
  {
   "cell_type": "code",
   "execution_count": 125,
   "id": "9ac3c7ed-e31c-4ddb-9316-33c908105526",
   "metadata": {},
   "outputs": [
    {
     "ename": "NameError",
     "evalue": "name 'mylist' is not defined",
     "output_type": "error",
     "traceback": [
      "\u001b[1;31m---------------------------------------------------------------------------\u001b[0m",
      "\u001b[1;31mNameError\u001b[0m                                 Traceback (most recent call last)",
      "Cell \u001b[1;32mIn[125], line 1\u001b[0m\n\u001b[1;32m----> 1\u001b[0m mylist\n",
      "\u001b[1;31mNameError\u001b[0m: name 'mylist' is not defined"
     ]
    }
   ],
   "source": [
    "mylist"
   ]
  },
  {
   "cell_type": "markdown",
   "id": "549582bd-0158-413b-ad2f-7d65f9ed8c18",
   "metadata": {},
   "source": [
    "Copy List"
   ]
  },
  {
   "cell_type": "code",
   "execution_count": 127,
   "id": "73d70d17-8c66-4058-a863-20bc1e99ac22",
   "metadata": {},
   "outputs": [
    {
     "data": {
      "text/plain": [
       "['one', 'two', 'three', 'four', 'five', 'six', 'seven', 'eight', 'nine']"
      ]
     },
     "execution_count": 127,
     "metadata": {},
     "output_type": "execute_result"
    }
   ],
   "source": [
    "mylist = ['one', 'two', 'three', 'four', 'five', 'six', 'seven', 'eight', 'nine']\n",
    "mylist"
   ]
  },
  {
   "cell_type": "code",
   "execution_count": 129,
   "id": "693ccee0-48b7-4b34-b1a9-ccef0eeb9a42",
   "metadata": {},
   "outputs": [],
   "source": [
    "mylist1 = mylist #Create a new reference \"mylist1\""
   ]
  },
  {
   "cell_type": "code",
   "execution_count": 131,
   "id": "b3f65901-7e19-406d-8751-ed2202400454",
   "metadata": {},
   "outputs": [
    {
     "data": {
      "text/plain": [
       "(2264092531904, 2264092531904)"
      ]
     },
     "execution_count": 131,
     "metadata": {},
     "output_type": "execute_result"
    }
   ],
   "source": [
    "id(mylist), id(mylist1) #Show the address of mylist and mylist1 which would be the same as it has same values"
   ]
  },
  {
   "cell_type": "code",
   "execution_count": 133,
   "id": "403e8adb-5cbf-4424-8094-bd7317b019c3",
   "metadata": {},
   "outputs": [],
   "source": [
    "mylist2 = mylist.copy() #Create a copy of the list"
   ]
  },
  {
   "cell_type": "code",
   "execution_count": 135,
   "id": "3648c002-9e7a-45f1-8922-7df14c70fb70",
   "metadata": {},
   "outputs": [
    {
     "data": {
      "text/plain": [
       "2264092326080"
      ]
     },
     "execution_count": 135,
     "metadata": {},
     "output_type": "execute_result"
    }
   ],
   "source": [
    "id(mylist2) #Id of mylist2 is different from mylist because we are copying it"
   ]
  },
  {
   "cell_type": "code",
   "execution_count": 137,
   "id": "c876e84d-59b6-448d-b4f2-47c1bf23b575",
   "metadata": {},
   "outputs": [
    {
     "data": {
      "text/plain": [
       "['one', 'two', 'three', 'four', 'five', 'six', 'seven', 'eight', 'nine']"
      ]
     },
     "execution_count": 137,
     "metadata": {},
     "output_type": "execute_result"
    }
   ],
   "source": [
    "mylist"
   ]
  },
  {
   "cell_type": "code",
   "execution_count": 139,
   "id": "2bc92439-c5d9-4868-a065-23f83b9143e5",
   "metadata": {},
   "outputs": [
    {
     "data": {
      "text/plain": [
       "'one'"
      ]
     },
     "execution_count": 139,
     "metadata": {},
     "output_type": "execute_result"
    }
   ],
   "source": [
    "mylist[0]"
   ]
  },
  {
   "cell_type": "code",
   "execution_count": 141,
   "id": "9a315436-970f-499e-9d46-3e9100953e05",
   "metadata": {},
   "outputs": [],
   "source": [
    "mylist[0] = 1 #Changes the value at index 0 to 1"
   ]
  },
  {
   "cell_type": "code",
   "execution_count": 143,
   "id": "2d75b0c2-beea-4439-b3b6-2516870c6b95",
   "metadata": {},
   "outputs": [
    {
     "data": {
      "text/plain": [
       "[1, 'two', 'three', 'four', 'five', 'six', 'seven', 'eight', 'nine']"
      ]
     },
     "execution_count": 143,
     "metadata": {},
     "output_type": "execute_result"
    }
   ],
   "source": [
    "mylist"
   ]
  },
  {
   "cell_type": "code",
   "execution_count": 145,
   "id": "457ecb01-b51f-4823-8d58-bf7191f53dcf",
   "metadata": {},
   "outputs": [
    {
     "data": {
      "text/plain": [
       "[1, 'two', 'three', 'four', 'five', 'six', 'seven', 'eight', 'nine']"
      ]
     },
     "execution_count": 145,
     "metadata": {},
     "output_type": "execute_result"
    }
   ],
   "source": [
    "mylist1 #mylist1 will also be impacted as it is pointing to the same list"
   ]
  },
  {
   "cell_type": "code",
   "execution_count": 147,
   "id": "cd207860-058c-4f6d-8d88-f993d5ac0ffe",
   "metadata": {},
   "outputs": [
    {
     "data": {
      "text/plain": [
       "['one', 'two', 'three', 'four', 'five', 'six', 'seven', 'eight', 'nine']"
      ]
     },
     "execution_count": 147,
     "metadata": {},
     "output_type": "execute_result"
    }
   ],
   "source": [
    "mylist2 #Copy of the list wont be impacted due to changes made on the original list "
   ]
  },
  {
   "cell_type": "markdown",
   "id": "36ca6a08-e3bf-4f25-b2be-8140147453e8",
   "metadata": {},
   "source": [
    "Joining Lists"
   ]
  },
  {
   "cell_type": "code",
   "execution_count": 149,
   "id": "6ed961c1-733d-406b-bd6d-3cac5fff4840",
   "metadata": {},
   "outputs": [],
   "source": [
    "list1 = ['one', 'two', 'three', 'four']\n",
    "list2 = ['five', 'six', 'seven', 'eight']"
   ]
  },
  {
   "cell_type": "code",
   "execution_count": 153,
   "id": "cb11c696-abda-4deb-90af-6893a953eb00",
   "metadata": {},
   "outputs": [
    {
     "data": {
      "text/plain": [
       "['one', 'two', 'three', 'four', 'five', 'six', 'seven', 'eight']"
      ]
     },
     "execution_count": 153,
     "metadata": {},
     "output_type": "execute_result"
    }
   ],
   "source": [
    "list3 = list1 + list2 #Join two list by '+' operator\n",
    "list3"
   ]
  },
  {
   "cell_type": "code",
   "execution_count": 155,
   "id": "3a15bb23-ecd2-4694-af1c-02990c83ab14",
   "metadata": {},
   "outputs": [],
   "source": [
    "list1.extend(list2)"
   ]
  },
  {
   "cell_type": "code",
   "execution_count": 167,
   "id": "aff38ccf-dbe4-4dfa-ad30-ca976f023165",
   "metadata": {},
   "outputs": [
    {
     "data": {
      "text/plain": [
       "['one', 'two', 'three', 'four', 'five', 'six', 'seven', 'eight']"
      ]
     },
     "execution_count": 167,
     "metadata": {},
     "output_type": "execute_result"
    }
   ],
   "source": [
    "list1"
   ]
  },
  {
   "cell_type": "code",
   "execution_count": 169,
   "id": "d0e7ed9d-bd31-4f3d-8233-dd508ddefaef",
   "metadata": {},
   "outputs": [
    {
     "data": {
      "text/plain": [
       "['one', 'two', 'three', 'four', 'five', 'six', 'seven', 'eight']"
      ]
     },
     "execution_count": 169,
     "metadata": {},
     "output_type": "execute_result"
    }
   ],
   "source": [
    "list1"
   ]
  },
  {
   "cell_type": "markdown",
   "id": "073d2d98-6938-419d-b6e4-3848d8aadc43",
   "metadata": {},
   "source": [
    "List Membership"
   ]
  },
  {
   "cell_type": "code",
   "execution_count": 171,
   "id": "f0674ac8-aba8-46b0-9880-e5fd90cb2454",
   "metadata": {},
   "outputs": [
    {
     "data": {
      "text/plain": [
       "['one', 'two', 'three', 'four', 'five', 'six', 'seven', 'eight']"
      ]
     },
     "execution_count": 171,
     "metadata": {},
     "output_type": "execute_result"
    }
   ],
   "source": [
    "list1"
   ]
  },
  {
   "cell_type": "code",
   "execution_count": 173,
   "id": "4c56b04f-da7f-424b-ad4e-06eb32d895cc",
   "metadata": {},
   "outputs": [
    {
     "data": {
      "text/plain": [
       "True"
      ]
     },
     "execution_count": 173,
     "metadata": {},
     "output_type": "execute_result"
    }
   ],
   "source": [
    "'one' in list1 #Check if 'one' exists in list1"
   ]
  },
  {
   "cell_type": "code",
   "execution_count": 175,
   "id": "7864c52d-e63b-43bc-a320-1b56510f804a",
   "metadata": {},
   "outputs": [
    {
     "data": {
      "text/plain": [
       "False"
      ]
     },
     "execution_count": 175,
     "metadata": {},
     "output_type": "execute_result"
    }
   ],
   "source": [
    "'ten' in list1 #Check if 'ten' exists in list1"
   ]
  },
  {
   "cell_type": "code",
   "execution_count": 181,
   "id": "a838b8df-f4d9-4d06-b8c1-1348a24facd5",
   "metadata": {},
   "outputs": [
    {
     "name": "stdout",
     "output_type": "stream",
     "text": [
      "Three is present in the list\n"
     ]
    }
   ],
   "source": [
    "if 'three' in list1:\n",
    "    print('Three is present in the list')\n",
    "else:\n",
    "    print('Three is not present in the list')"
   ]
  },
  {
   "cell_type": "code",
   "execution_count": 183,
   "id": "3ca54e04-b940-4330-b1fe-7972aca33331",
   "metadata": {},
   "outputs": [
    {
     "name": "stdout",
     "output_type": "stream",
     "text": [
      "Ten is not present in the list\n"
     ]
    }
   ],
   "source": [
    "if 'ten' in list1:\n",
    "    print('Ten is present in the list')\n",
    "else:\n",
    "    print('Ten is not present in the list')"
   ]
  },
  {
   "cell_type": "markdown",
   "id": "3c8702c8-1318-4ed7-ba92-f9edc3c8eb71",
   "metadata": {},
   "source": [
    "Reverse and Sort list"
   ]
  },
  {
   "cell_type": "code",
   "execution_count": 185,
   "id": "5baa180c-af09-4798-ba4b-cb51f17e32f8",
   "metadata": {},
   "outputs": [
    {
     "data": {
      "text/plain": [
       "['one', 'two', 'three', 'four', 'five', 'six', 'seven', 'eight']"
      ]
     },
     "execution_count": 185,
     "metadata": {},
     "output_type": "execute_result"
    }
   ],
   "source": [
    "list1"
   ]
  },
  {
   "cell_type": "code",
   "execution_count": 193,
   "id": "980f79e5-81aa-4495-b456-497ed98da9a7",
   "metadata": {},
   "outputs": [
    {
     "data": {
      "text/plain": [
       "['eight', 'seven', 'six', 'five', 'four', 'three', 'two', 'one']"
      ]
     },
     "execution_count": 193,
     "metadata": {},
     "output_type": "execute_result"
    }
   ],
   "source": [
    "list1.reverse() #Reverse the list\n",
    "list1"
   ]
  },
  {
   "cell_type": "code",
   "execution_count": 202,
   "id": "f45e1efa-5b67-4d77-865e-d3a394ebde08",
   "metadata": {},
   "outputs": [
    {
     "data": {
      "text/plain": [
       "['one', 'two', 'three', 'four', 'five', 'six', 'seven', 'eight']"
      ]
     },
     "execution_count": 202,
     "metadata": {},
     "output_type": "execute_result"
    }
   ],
   "source": [
    "list1 = list1[::-1] #Reverse the list\n",
    "list1"
   ]
  },
  {
   "cell_type": "code",
   "execution_count": 206,
   "id": "a5f1ca64-ac5b-4c99-8edb-0f3c6ca97e2f",
   "metadata": {},
   "outputs": [],
   "source": [
    "mylist3 = [9,5,2,99,12,88,34]"
   ]
  },
  {
   "cell_type": "code",
   "execution_count": 210,
   "id": "74ef6a08-3657-42cc-aba0-3f12b7036eff",
   "metadata": {},
   "outputs": [
    {
     "data": {
      "text/plain": [
       "[2, 5, 9, 12, 34, 88, 99]"
      ]
     },
     "execution_count": 210,
     "metadata": {},
     "output_type": "execute_result"
    }
   ],
   "source": [
    "mylist3.sort() #sorts in ascending order\n",
    "mylist3"
   ]
  },
  {
   "cell_type": "code",
   "execution_count": 212,
   "id": "edd65795-2f4a-4df3-b573-353aeaaef0bb",
   "metadata": {},
   "outputs": [
    {
     "data": {
      "text/plain": [
       "[2, 5, 9, 12, 34, 88, 99]"
      ]
     },
     "execution_count": 212,
     "metadata": {},
     "output_type": "execute_result"
    }
   ],
   "source": [
    "mylist3"
   ]
  },
  {
   "cell_type": "code",
   "execution_count": 218,
   "id": "220b95bf-a18d-4062-99a3-249b32ececa8",
   "metadata": {},
   "outputs": [
    {
     "data": {
      "text/plain": [
       "[99, 88, 34, 12, 9, 5, 2]"
      ]
     },
     "execution_count": 218,
     "metadata": {},
     "output_type": "execute_result"
    }
   ],
   "source": [
    "mylist3.sort(reverse=True) #Sorts in descending order\n",
    "mylist3"
   ]
  },
  {
   "cell_type": "code",
   "execution_count": 220,
   "id": "ea6fa9b8-df9e-45b3-b639-0cba00fc9497",
   "metadata": {},
   "outputs": [],
   "source": [
    "mylist4 = [88,65,33,21,11,98]"
   ]
  },
  {
   "cell_type": "code",
   "execution_count": 222,
   "id": "16a9fa06-2ad5-473f-8c64-0e7cccd3bb54",
   "metadata": {},
   "outputs": [
    {
     "data": {
      "text/plain": [
       "[11, 21, 33, 65, 88, 98]"
      ]
     },
     "execution_count": 222,
     "metadata": {},
     "output_type": "execute_result"
    }
   ],
   "source": [
    "sorted(mylist4) #Returns a new sorted list and doesnt change original"
   ]
  },
  {
   "cell_type": "code",
   "execution_count": 224,
   "id": "83aaf7fb-2f85-4ede-a6e3-f4c22741bf5c",
   "metadata": {},
   "outputs": [
    {
     "data": {
      "text/plain": [
       "[88, 65, 33, 21, 11, 98]"
      ]
     },
     "execution_count": 224,
     "metadata": {},
     "output_type": "execute_result"
    }
   ],
   "source": [
    "mylist4"
   ]
  },
  {
   "cell_type": "markdown",
   "id": "73ad198f-4d3b-481c-986a-69e1e570e4f3",
   "metadata": {},
   "source": [
    "Loop through a list"
   ]
  },
  {
   "cell_type": "code",
   "execution_count": 226,
   "id": "d328b182-23e5-4bf6-aea9-8b6423cb5e56",
   "metadata": {},
   "outputs": [
    {
     "data": {
      "text/plain": [
       "['one', 'two', 'three', 'four', 'five', 'six', 'seven', 'eight']"
      ]
     },
     "execution_count": 226,
     "metadata": {},
     "output_type": "execute_result"
    }
   ],
   "source": [
    "list1"
   ]
  },
  {
   "cell_type": "code",
   "execution_count": 230,
   "id": "6cd43f50-271c-4a1d-8720-a52869fff54c",
   "metadata": {},
   "outputs": [
    {
     "name": "stdout",
     "output_type": "stream",
     "text": [
      "one\n",
      "two\n",
      "three\n",
      "four\n",
      "five\n",
      "six\n",
      "seven\n",
      "eight\n"
     ]
    }
   ],
   "source": [
    "for i in list1:\n",
    "    print(i)"
   ]
  },
  {
   "cell_type": "code",
   "execution_count": 232,
   "id": "0bfe88cd-6dce-4cd6-ac70-539f6d6fb962",
   "metadata": {},
   "outputs": [
    {
     "name": "stdout",
     "output_type": "stream",
     "text": [
      "(0, 'one')\n",
      "(1, 'two')\n",
      "(2, 'three')\n",
      "(3, 'four')\n",
      "(4, 'five')\n",
      "(5, 'six')\n",
      "(6, 'seven')\n",
      "(7, 'eight')\n"
     ]
    }
   ],
   "source": [
    "for i in enumerate(list1): #prints the value along with their index\n",
    "    print(i)"
   ]
  },
  {
   "cell_type": "markdown",
   "id": "ac0f16de-a80a-4039-b011-8ae99e44a84f",
   "metadata": {},
   "source": [
    "Count"
   ]
  },
  {
   "cell_type": "code",
   "execution_count": 234,
   "id": "c0fc91a4-0d46-4645-8162-7227c8eeffcb",
   "metadata": {},
   "outputs": [],
   "source": [
    "list10 = ['one', 'two', 'three', 'four', 'one', 'one', 'two', 'three']"
   ]
  },
  {
   "cell_type": "code",
   "execution_count": 236,
   "id": "31734b8e-3127-48b5-8da1-813c7320071f",
   "metadata": {},
   "outputs": [
    {
     "data": {
      "text/plain": [
       "['one', 'two', 'three', 'four', 'one', 'one', 'two', 'three']"
      ]
     },
     "execution_count": 236,
     "metadata": {},
     "output_type": "execute_result"
    }
   ],
   "source": [
    "list10"
   ]
  },
  {
   "cell_type": "code",
   "execution_count": 238,
   "id": "3f198f3a-789b-414d-8d70-4c04acc10d8d",
   "metadata": {},
   "outputs": [
    {
     "data": {
      "text/plain": [
       "3"
      ]
     },
     "execution_count": 238,
     "metadata": {},
     "output_type": "execute_result"
    }
   ],
   "source": [
    "list10.count('one') #Gives the total number of times 'one' occured in the list"
   ]
  },
  {
   "cell_type": "code",
   "execution_count": 240,
   "id": "2383b4b5-afa2-4faf-8f75-1e75696fc52f",
   "metadata": {},
   "outputs": [
    {
     "data": {
      "text/plain": [
       "2"
      ]
     },
     "execution_count": 240,
     "metadata": {},
     "output_type": "execute_result"
    }
   ],
   "source": [
    "list10.count('two') #Occurence of item 'two' in the list"
   ]
  },
  {
   "cell_type": "code",
   "execution_count": 244,
   "id": "c5ddcefe-d80e-49ef-92f2-9dd4a0e4f37c",
   "metadata": {},
   "outputs": [
    {
     "data": {
      "text/plain": [
       "1"
      ]
     },
     "execution_count": 244,
     "metadata": {},
     "output_type": "execute_result"
    }
   ],
   "source": [
    "list10.count('four')"
   ]
  },
  {
   "cell_type": "code",
   "execution_count": 246,
   "id": "b1846ea9-f9b9-4dd5-8535-ccfe55aea58e",
   "metadata": {},
   "outputs": [
    {
     "data": {
      "text/plain": [
       "0"
      ]
     },
     "execution_count": 246,
     "metadata": {},
     "output_type": "execute_result"
    }
   ],
   "source": [
    "list10.count('ten')"
   ]
  },
  {
   "cell_type": "markdown",
   "id": "e777ccb3-8e71-44ad-94b1-29d9fcedac28",
   "metadata": {},
   "source": [
    "All/any\n",
    "\n",
    "The all() method returns:\n",
    "True - If all elements in a list are true\n",
    "False - If any element in a list is false\n",
    "\n",
    "The any() function returns True if any element in the list is True. If not, any() returns False."
   ]
  },
  {
   "cell_type": "code",
   "execution_count": 248,
   "id": "c8e39231-989c-45b5-9a9f-40c9a72fc2b7",
   "metadata": {},
   "outputs": [],
   "source": [
    "L1 = [1,2,3,4,0]"
   ]
  },
  {
   "cell_type": "code",
   "execution_count": 250,
   "id": "0fba3812-dd86-4de8-bf2c-e9f34aee0a9c",
   "metadata": {},
   "outputs": [
    {
     "data": {
      "text/plain": [
       "False"
      ]
     },
     "execution_count": 250,
     "metadata": {},
     "output_type": "execute_result"
    }
   ],
   "source": [
    "all(L1)  # Will Return false as one value is false (Value 0)"
   ]
  },
  {
   "cell_type": "code",
   "execution_count": 252,
   "id": "d506373b-f2b6-4125-8b0a-8cb39c449c56",
   "metadata": {},
   "outputs": [
    {
     "data": {
      "text/plain": [
       "True"
      ]
     },
     "execution_count": 252,
     "metadata": {},
     "output_type": "execute_result"
    }
   ],
   "source": [
    "any(L1) # Will Return True as we have items in the list with True value "
   ]
  },
  {
   "cell_type": "code",
   "execution_count": 254,
   "id": "701dd486-538c-4b43-a645-63f68358bbfb",
   "metadata": {},
   "outputs": [],
   "source": [
    "L2 = [1,2,3,4,True,False] "
   ]
  },
  {
   "cell_type": "code",
   "execution_count": 256,
   "id": "e7e23836-72f5-496e-8396-18fa4f9d39da",
   "metadata": {},
   "outputs": [
    {
     "data": {
      "text/plain": [
       "False"
      ]
     },
     "execution_count": 256,
     "metadata": {},
     "output_type": "execute_result"
    }
   ],
   "source": [
    "all(L2) # Returns false as one value is false "
   ]
  },
  {
   "cell_type": "code",
   "execution_count": 258,
   "id": "89dffd77-b082-4d95-a938-26f2f043c771",
   "metadata": {},
   "outputs": [
    {
     "data": {
      "text/plain": [
       "True"
      ]
     },
     "execution_count": 258,
     "metadata": {},
     "output_type": "execute_result"
    }
   ],
   "source": [
    "any(L2) # Will Return True as we have items in the list with True value"
   ]
  },
  {
   "cell_type": "code",
   "execution_count": 260,
   "id": "a6ae5499-e4e7-4f50-8fc5-6dfd6c0246af",
   "metadata": {},
   "outputs": [],
   "source": [
    "L3 = [1,2,3,True]"
   ]
  },
  {
   "cell_type": "code",
   "execution_count": 262,
   "id": "eabcdd55-5d43-4bf0-9f91-a5d4d014a639",
   "metadata": {},
   "outputs": [
    {
     "data": {
      "text/plain": [
       "True"
      ]
     },
     "execution_count": 262,
     "metadata": {},
     "output_type": "execute_result"
    }
   ],
   "source": [
    "all(L3) # Will return True as all items in the list are True"
   ]
  },
  {
   "cell_type": "code",
   "execution_count": null,
   "id": "d2490456-4558-4278-bc25-489fc8461d5f",
   "metadata": {},
   "outputs": [],
   "source": []
  },
  {
   "cell_type": "code",
   "execution_count": null,
   "id": "923024dc-f793-45e2-84ec-1786a7f5dc05",
   "metadata": {},
   "outputs": [],
   "source": []
  },
  {
   "cell_type": "code",
   "execution_count": null,
   "id": "7c6fa523-1bad-4764-a7de-139d9480e961",
   "metadata": {},
   "outputs": [],
   "source": []
  }
 ],
 "metadata": {
  "kernelspec": {
   "display_name": "Python 3 (ipykernel)",
   "language": "python",
   "name": "python3"
  },
  "language_info": {
   "codemirror_mode": {
    "name": "ipython",
    "version": 3
   },
   "file_extension": ".py",
   "mimetype": "text/x-python",
   "name": "python",
   "nbconvert_exporter": "python",
   "pygments_lexer": "ipython3",
   "version": "3.12.7"
  }
 },
 "nbformat": 4,
 "nbformat_minor": 5
}
