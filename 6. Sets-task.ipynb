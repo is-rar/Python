{
 "cells": [
  {
   "cell_type": "markdown",
   "id": "4f78d42c-f684-4783-925d-f225fb33b719",
   "metadata": {},
   "source": [
    "<b> Sets </b>\n",
    "\n",
    "1. Unordered and unindexed collection of items.\n",
    "2. Set elements are unique. Duplicate elements are not allowed.\n",
    "3. Set elements are immutable. (Cannot be changed)\n",
    "4. Set itself is mutable. We can add or remove items from it."
   ]
  },
  {
   "cell_type": "markdown",
   "id": "c38ed57a-cddc-4ee3-b564-c4d891195201",
   "metadata": {},
   "source": [
    "#Set creation"
   ]
  },
  {
   "cell_type": "code",
   "execution_count": 173,
   "id": "f742fbcb-1332-4355-a2fe-b8fc2e570263",
   "metadata": {},
   "outputs": [
    {
     "data": {
      "text/plain": [
       "{1, 2, 3, 4, 5}"
      ]
     },
     "execution_count": 173,
     "metadata": {},
     "output_type": "execute_result"
    }
   ],
   "source": [
    "myset = {1,2,3,4,5} #Set of numbers\n",
    "myset"
   ]
  },
  {
   "cell_type": "code",
   "execution_count": 174,
   "id": "a1fd9f25-58b6-486c-a8b2-bcab77222431",
   "metadata": {},
   "outputs": [
    {
     "data": {
      "text/plain": [
       "5"
      ]
     },
     "execution_count": 174,
     "metadata": {},
     "output_type": "execute_result"
    }
   ],
   "source": [
    "len(myset)"
   ]
  },
  {
   "cell_type": "code",
   "execution_count": 175,
   "id": "1e774e06-fec2-4f5b-ac04-f5499405c534",
   "metadata": {},
   "outputs": [
    {
     "data": {
      "text/plain": [
       "{1, 2, 3, 4, 5}"
      ]
     },
     "execution_count": 175,
     "metadata": {},
     "output_type": "execute_result"
    }
   ],
   "source": [
    "my_set = {1,1,2,2,3,4,5,5} #Duplicate elements are not allowed\n",
    "my_set"
   ]
  },
  {
   "cell_type": "code",
   "execution_count": 176,
   "id": "f15ad324-ae32-4d6b-9073-163c4325cd8e",
   "metadata": {},
   "outputs": [
    {
     "data": {
      "text/plain": [
       "{1.79, 2.08, 3.99, 4.56, 5.45}"
      ]
     },
     "execution_count": 176,
     "metadata": {},
     "output_type": "execute_result"
    }
   ],
   "source": [
    "myset1 = {1.79, 2.08, 3.99, 4.56, 5.45} #Set of float numbers\n",
    "myset1"
   ]
  },
  {
   "cell_type": "code",
   "execution_count": 177,
   "id": "c7616126-6dde-4f16-9c9d-8decdb6466a4",
   "metadata": {},
   "outputs": [
    {
     "data": {
      "text/plain": [
       "{'Asif', 'John', 'Tyrion'}"
      ]
     },
     "execution_count": 177,
     "metadata": {},
     "output_type": "execute_result"
    }
   ],
   "source": [
    "myset2 = {'Asif', 'John', 'Tyrion'} #Set of strings\n",
    "myset2"
   ]
  },
  {
   "cell_type": "code",
   "execution_count": 178,
   "id": "c1c7274c-6d64-4c2d-8d9e-5c40e4ca273d",
   "metadata": {},
   "outputs": [
    {
     "data": {
      "text/plain": [
       "{(11, 22, 32), 10, 20, 'Hola'}"
      ]
     },
     "execution_count": 178,
     "metadata": {},
     "output_type": "execute_result"
    }
   ],
   "source": [
    "myset3 = {10,20, \"Hola\", (11,22,32)} #Mixed datatypes\n",
    "myset3"
   ]
  },
  {
   "cell_type": "code",
   "execution_count": 179,
   "id": "fe6a8edf-318f-4f3d-b7cb-ab377a36cffa",
   "metadata": {},
   "outputs": [
    {
     "ename": "TypeError",
     "evalue": "unhashable type: 'list'",
     "output_type": "error",
     "traceback": [
      "\u001b[1;31m---------------------------------------------------------------------------\u001b[0m",
      "\u001b[1;31mTypeError\u001b[0m                                 Traceback (most recent call last)",
      "Cell \u001b[1;32mIn[179], line 1\u001b[0m\n\u001b[1;32m----> 1\u001b[0m myset3 \u001b[38;5;241m=\u001b[39m {\u001b[38;5;241m10\u001b[39m,\u001b[38;5;241m20\u001b[39m, \u001b[38;5;124m\"\u001b[39m\u001b[38;5;124mHola\u001b[39m\u001b[38;5;124m\"\u001b[39m, [\u001b[38;5;241m11\u001b[39m,\u001b[38;5;241m22\u001b[39m,\u001b[38;5;241m32\u001b[39m]} \u001b[38;5;66;03m#Set doesnt allow mutable datatypes like list\u001b[39;00m\n\u001b[0;32m      2\u001b[0m myset3\n",
      "\u001b[1;31mTypeError\u001b[0m: unhashable type: 'list'"
     ]
    }
   ],
   "source": [
    "myset3 = {10,20, \"Hola\", [11,22,32]} #Set doesnt allow mutable datatypes like list\n",
    "myset3"
   ]
  },
  {
   "cell_type": "code",
   "execution_count": null,
   "id": "14c28628-38da-4c15-bf4e-dbbd7f0c321c",
   "metadata": {},
   "outputs": [],
   "source": [
    "myset4 = set() #Creating an empty set\n",
    "myset4"
   ]
  },
  {
   "cell_type": "code",
   "execution_count": null,
   "id": "f5274975-cf0f-40e1-b73c-4e8c003c83e5",
   "metadata": {},
   "outputs": [],
   "source": [
    "my_set1 = set(('one', 'two', 'three', 'four'))\n",
    "my_set1"
   ]
  },
  {
   "cell_type": "markdown",
   "id": "258df173-c10e-48af-97c2-dd3b3eeb08b7",
   "metadata": {},
   "source": [
    "#Loop through a set"
   ]
  },
  {
   "cell_type": "code",
   "execution_count": null,
   "id": "7086fe90-9988-481b-94a1-47b6db0e5714",
   "metadata": {},
   "outputs": [],
   "source": [
    "myset"
   ]
  },
  {
   "cell_type": "code",
   "execution_count": null,
   "id": "3d58be30-62a8-4803-b7a9-f22940023225",
   "metadata": {},
   "outputs": [],
   "source": [
    "for i in myset:\n",
    "    print(i)"
   ]
  },
  {
   "cell_type": "code",
   "execution_count": null,
   "id": "22afea30-5f5f-4521-885e-a02201daa91a",
   "metadata": {},
   "outputs": [],
   "source": [
    "for i in enumerate(myset):\n",
    "    print(i)"
   ]
  },
  {
   "cell_type": "markdown",
   "id": "1c4ee010-a93d-4247-9e40-c90928ff020a",
   "metadata": {},
   "source": [
    "#Set Membership"
   ]
  },
  {
   "cell_type": "code",
   "execution_count": null,
   "id": "048d34a8-905a-43d5-b928-9ff423a811cc",
   "metadata": {},
   "outputs": [],
   "source": [
    "myset5 = {'one', 'two', 'three', 'four', 'five', 'six'}"
   ]
  },
  {
   "cell_type": "code",
   "execution_count": null,
   "id": "5585f6a9-9363-4b8a-af01-d1087690305d",
   "metadata": {},
   "outputs": [],
   "source": [
    "myset5"
   ]
  },
  {
   "cell_type": "code",
   "execution_count": null,
   "id": "b79769f1-0974-4bcf-ad4a-31b1711d0f4e",
   "metadata": {},
   "outputs": [],
   "source": [
    "'one' in myset5 #Checks if 'one' exists in myset"
   ]
  },
  {
   "cell_type": "code",
   "execution_count": null,
   "id": "0ed60402-4c05-4be9-acc7-7db03749a41b",
   "metadata": {},
   "outputs": [],
   "source": [
    "'ten' in myset5 #Checks if 'ten' exists in myset"
   ]
  },
  {
   "cell_type": "code",
   "execution_count": null,
   "id": "0b55ccbe-dd3a-4a5d-b89e-af9769c9128d",
   "metadata": {},
   "outputs": [],
   "source": [
    "if 'three' in myset5:\n",
    "    print('Three is present in the set')\n",
    "else:\n",
    "    print('Three is not present in the set')"
   ]
  },
  {
   "cell_type": "code",
   "execution_count": null,
   "id": "a2da9dc4-c627-4ffd-8b38-d02c064d8fa0",
   "metadata": {},
   "outputs": [],
   "source": [
    "if 'nine' in myset5:\n",
    "    print('Nine is present in the set')\n",
    "else:\n",
    "    print('Nine is absent in the set')"
   ]
  },
  {
   "cell_type": "markdown",
   "id": "c6137355-75d7-4893-a2cc-03002b2bb9b5",
   "metadata": {},
   "source": [
    "#Add & Remove items"
   ]
  },
  {
   "cell_type": "code",
   "execution_count": null,
   "id": "aadc47e1-93ab-41df-ab0a-3cf8856d08a8",
   "metadata": {},
   "outputs": [],
   "source": [
    "myset5"
   ]
  },
  {
   "cell_type": "code",
   "execution_count": null,
   "id": "50f6ea01-57ce-4cd4-9a4e-4b0ff5a2e2b4",
   "metadata": {},
   "outputs": [],
   "source": [
    "myset5.add('seven') #Adds item to the string"
   ]
  },
  {
   "cell_type": "code",
   "execution_count": 193,
   "id": "5417144f-cafe-4b4e-b3c5-e7b73b590564",
   "metadata": {},
   "outputs": [
    {
     "data": {
      "text/plain": [
       "{'eight',\n",
       " 'five',\n",
       " 'four',\n",
       " 'g',\n",
       " 'h',\n",
       " 'i',\n",
       " 'n',\n",
       " 'nine',\n",
       " 'one',\n",
       " 'seven',\n",
       " 'six',\n",
       " 't',\n",
       " 'ten',\n",
       " 'three',\n",
       " 'two'}"
      ]
     },
     "execution_count": 193,
     "metadata": {},
     "output_type": "execute_result"
    }
   ],
   "source": [
    "myset5"
   ]
  },
  {
   "cell_type": "code",
   "execution_count": 197,
   "id": "fd947657-e04c-4993-a934-e8fcd5f6510c",
   "metadata": {},
   "outputs": [],
   "source": [
    "myset5.clear() #Deletes all item in the list"
   ]
  },
  {
   "cell_type": "code",
   "execution_count": 199,
   "id": "845d5b0f-4088-4b2e-a2eb-1f08da632d6e",
   "metadata": {},
   "outputs": [
    {
     "data": {
      "text/plain": [
       "set()"
      ]
     },
     "execution_count": 199,
     "metadata": {},
     "output_type": "execute_result"
    }
   ],
   "source": [
    "myset5"
   ]
  },
  {
   "cell_type": "code",
   "execution_count": 201,
   "id": "24ddbe84-9125-4f32-bb14-112d51820398",
   "metadata": {},
   "outputs": [
    {
     "data": {
      "text/plain": [
       "{1, 2, 3, 4, 5}"
      ]
     },
     "execution_count": 201,
     "metadata": {},
     "output_type": "execute_result"
    }
   ],
   "source": [
    "myset"
   ]
  },
  {
   "cell_type": "code",
   "execution_count": 203,
   "id": "33af0d8d-da6b-4b90-b443-2c8195068533",
   "metadata": {},
   "outputs": [
    {
     "data": {
      "text/plain": [
       "{1, 2, 3, 4, 5, 6}"
      ]
     },
     "execution_count": 203,
     "metadata": {},
     "output_type": "execute_result"
    }
   ],
   "source": [
    "myset.add(6) #Add item to a set using add() method\n",
    "myset"
   ]
  },
  {
   "cell_type": "code",
   "execution_count": 207,
   "id": "626b3b7d-da99-445a-917a-2a4ffcb02be9",
   "metadata": {},
   "outputs": [
    {
     "data": {
      "text/plain": [
       "{1, 2, 3, 4, 5, 6, 7, 8, 9}"
      ]
     },
     "execution_count": 207,
     "metadata": {},
     "output_type": "execute_result"
    }
   ],
   "source": [
    "myset.update([7,8,9]) #Add multiple items to a set using list datatype\n",
    "myset"
   ]
  },
  {
   "cell_type": "code",
   "execution_count": 209,
   "id": "50134b4f-2826-4d09-b99f-1a97918abfd9",
   "metadata": {},
   "outputs": [],
   "source": [
    "myset.remove(9) #Removes items using remove function"
   ]
  },
  {
   "cell_type": "code",
   "execution_count": 211,
   "id": "561c8183-70c8-4af4-8f3a-b68779d94b67",
   "metadata": {},
   "outputs": [
    {
     "data": {
      "text/plain": [
       "{1, 2, 3, 4, 5, 6, 7, 8}"
      ]
     },
     "execution_count": 211,
     "metadata": {},
     "output_type": "execute_result"
    }
   ],
   "source": [
    "myset"
   ]
  },
  {
   "cell_type": "code",
   "execution_count": 213,
   "id": "026a508e-9f90-48af-b933-22befe17c3cb",
   "metadata": {},
   "outputs": [],
   "source": [
    "myset.discard(8) #Remove item from set using discard function"
   ]
  },
  {
   "cell_type": "code",
   "execution_count": 215,
   "id": "0b18a217-4925-46ac-9fc6-02e99f22ac55",
   "metadata": {},
   "outputs": [
    {
     "data": {
      "text/plain": [
       "{1, 2, 3, 4, 5, 6, 7}"
      ]
     },
     "execution_count": 215,
     "metadata": {},
     "output_type": "execute_result"
    }
   ],
   "source": [
    "myset"
   ]
  },
  {
   "cell_type": "code",
   "execution_count": 223,
   "id": "1d036f76-4527-4720-871a-dd4ffe0d4a4a",
   "metadata": {},
   "outputs": [],
   "source": [
    "del myset #Delete the set object"
   ]
  },
  {
   "cell_type": "markdown",
   "id": "8db23ae7-6d20-4a3d-a3d9-3c5d15387a0a",
   "metadata": {},
   "source": [
    "#Copy set"
   ]
  },
  {
   "cell_type": "code",
   "execution_count": 227,
   "id": "5309fda5-8eb4-4115-851f-888803a4836c",
   "metadata": {
    "scrolled": true
   },
   "outputs": [
    {
     "data": {
      "text/plain": [
       "{'five', 'four', 'one', 'seven', 'six', 'three', 'two'}"
      ]
     },
     "execution_count": 227,
     "metadata": {},
     "output_type": "execute_result"
    }
   ],
   "source": [
    "myset = {'one', 'two', 'three', 'four', 'five', 'six', 'seven'}\n",
    "myset"
   ]
  },
  {
   "cell_type": "code",
   "execution_count": 231,
   "id": "5b4beb99-c503-4065-b88d-6722e27755fb",
   "metadata": {},
   "outputs": [],
   "source": [
    "myset10 = myset #Creates a new reference myset10"
   ]
  },
  {
   "cell_type": "code",
   "execution_count": 233,
   "id": "03208bf2-bffc-435b-886e-3fe57d0d560e",
   "metadata": {},
   "outputs": [
    {
     "data": {
      "text/plain": [
       "{'five', 'four', 'one', 'seven', 'six', 'three', 'two'}"
      ]
     },
     "execution_count": 233,
     "metadata": {},
     "output_type": "execute_result"
    }
   ],
   "source": [
    "myset10"
   ]
  },
  {
   "cell_type": "code",
   "execution_count": 235,
   "id": "3bfc58f7-81a4-4c19-afd9-e9d27680163b",
   "metadata": {},
   "outputs": [
    {
     "data": {
      "text/plain": [
       "(2098817556864, 2098817556864)"
      ]
     },
     "execution_count": 235,
     "metadata": {},
     "output_type": "execute_result"
    }
   ],
   "source": [
    "id(myset10), id(myset) #Address of both the sets would be same"
   ]
  },
  {
   "cell_type": "code",
   "execution_count": 239,
   "id": "6c1664b6-6193-4325-8ca1-e8cdc50c2655",
   "metadata": {},
   "outputs": [],
   "source": [
    "myset6 = myset.copy() #Creates a copy of the list"
   ]
  },
  {
   "cell_type": "code",
   "execution_count": 241,
   "id": "654780e2-00e5-4fef-89ad-355048e5da38",
   "metadata": {},
   "outputs": [
    {
     "data": {
      "text/plain": [
       "{'five', 'four', 'one', 'seven', 'six', 'three', 'two'}"
      ]
     },
     "execution_count": 241,
     "metadata": {},
     "output_type": "execute_result"
    }
   ],
   "source": [
    "myset6"
   ]
  },
  {
   "cell_type": "code",
   "execution_count": 243,
   "id": "2e6640dd-0792-4bcf-9d3e-0b454a30791a",
   "metadata": {},
   "outputs": [
    {
     "data": {
      "text/plain": [
       "2098817553952"
      ]
     },
     "execution_count": 243,
     "metadata": {},
     "output_type": "execute_result"
    }
   ],
   "source": [
    "id(myset6)"
   ]
  },
  {
   "cell_type": "code",
   "execution_count": 245,
   "id": "af12e2ae-a35e-4846-a86a-d2a2d7f41edd",
   "metadata": {},
   "outputs": [
    {
     "data": {
      "text/plain": [
       "{'eight', 'five', 'four', 'one', 'seven', 'six', 'three', 'two'}"
      ]
     },
     "execution_count": 245,
     "metadata": {},
     "output_type": "execute_result"
    }
   ],
   "source": [
    "myset.add('eight') \n",
    "myset"
   ]
  },
  {
   "cell_type": "code",
   "execution_count": 247,
   "id": "d7537d8e-2515-425c-b8ee-212edd7c3365",
   "metadata": {},
   "outputs": [
    {
     "data": {
      "text/plain": [
       "2098817556864"
      ]
     },
     "execution_count": 247,
     "metadata": {},
     "output_type": "execute_result"
    }
   ],
   "source": [
    "id(myset)"
   ]
  },
  {
   "cell_type": "code",
   "execution_count": 249,
   "id": "fd080fcb-228c-4267-9b2b-41a57f1cdeb9",
   "metadata": {},
   "outputs": [
    {
     "data": {
      "text/plain": [
       "{'eight', 'five', 'four', 'one', 'seven', 'six', 'three', 'two'}"
      ]
     },
     "execution_count": 249,
     "metadata": {},
     "output_type": "execute_result"
    }
   ],
   "source": [
    "myset10"
   ]
  },
  {
   "cell_type": "code",
   "execution_count": 251,
   "id": "3db3741b-a492-4b7e-be56-61a4f6b8f514",
   "metadata": {},
   "outputs": [
    {
     "data": {
      "text/plain": [
       "2098817556864"
      ]
     },
     "execution_count": 251,
     "metadata": {},
     "output_type": "execute_result"
    }
   ],
   "source": [
    "id(myset10)"
   ]
  },
  {
   "cell_type": "code",
   "execution_count": 253,
   "id": "2d7ccfb7-bbae-407f-8797-028ec0256262",
   "metadata": {},
   "outputs": [
    {
     "data": {
      "text/plain": [
       "{'five', 'four', 'one', 'seven', 'six', 'three', 'two'}"
      ]
     },
     "execution_count": 253,
     "metadata": {},
     "output_type": "execute_result"
    }
   ],
   "source": [
    "myset6 #Copy of the set wont be impacted due to changes made on original set"
   ]
  },
  {
   "cell_type": "code",
   "execution_count": 255,
   "id": "636ea86e-c21f-44ef-b675-bdff0626fb31",
   "metadata": {},
   "outputs": [
    {
     "data": {
      "text/plain": [
       "2098817553952"
      ]
     },
     "execution_count": 255,
     "metadata": {},
     "output_type": "execute_result"
    }
   ],
   "source": [
    "id(myset6)"
   ]
  },
  {
   "cell_type": "code",
   "execution_count": null,
   "id": "94839694-2822-4602-8b8e-1f0d3170c6fd",
   "metadata": {},
   "outputs": [],
   "source": []
  },
  {
   "cell_type": "markdown",
   "id": "27aedcfc-14a5-4820-a1ab-4f2f04dcfce1",
   "metadata": {},
   "source": [
    "#Set operation"
   ]
  },
  {
   "cell_type": "markdown",
   "id": "b92c5f77-35cf-48aa-9bb1-1dbe464fc78d",
   "metadata": {},
   "source": [
    "#UNION operation = | or union function"
   ]
  },
  {
   "cell_type": "code",
   "execution_count": null,
   "id": "ba6be13f-6120-4aec-824d-62353bb945e8",
   "metadata": {},
   "outputs": [],
   "source": [
    "a = {1,2,3,4,5}\n",
    "b = {4,5,6,7,8}\n",
    "c = {8,9,10}"
   ]
  },
  {
   "cell_type": "code",
   "execution_count": null,
   "id": "aee4717a-e445-4596-b10d-98a376ff8728",
   "metadata": {},
   "outputs": [],
   "source": [
    "type(a)\n",
    "type(b)\n",
    "type(c)"
   ]
  },
  {
   "cell_type": "code",
   "execution_count": null,
   "id": "1b8d482c-ed62-4286-a28b-9bf2e50407ae",
   "metadata": {},
   "outputs": [],
   "source": [
    "a | b #a pipe b or a union b (All elements from both sets. No duplicates)"
   ]
  },
  {
   "cell_type": "code",
   "execution_count": null,
   "id": "653d7d3a-584d-48d4-ad5c-9924b51d3b8f",
   "metadata": {},
   "outputs": [],
   "source": [
    "b | c #b pipe c or b union c"
   ]
  },
  {
   "cell_type": "code",
   "execution_count": null,
   "id": "714b3055-98c6-4512-a435-ae94251073e6",
   "metadata": {},
   "outputs": [],
   "source": [
    "a | b | c"
   ]
  },
  {
   "cell_type": "code",
   "execution_count": null,
   "id": "fb848d41-0a55-47fd-ac60-8e3e40741bb4",
   "metadata": {},
   "outputs": [],
   "source": [
    "a.union(b)"
   ]
  },
  {
   "cell_type": "code",
   "execution_count": null,
   "id": "b2af7434-b81d-44cf-b2a7-bff5f0af1249",
   "metadata": {},
   "outputs": [],
   "source": [
    "b.union(a,c)"
   ]
  },
  {
   "cell_type": "code",
   "execution_count": 257,
   "id": "541c2669-536f-4df3-a10a-bb31db845b85",
   "metadata": {},
   "outputs": [
    {
     "data": {
      "text/plain": [
       "{'a', 'b', 'c', 'd', 'e', 'f'}"
      ]
     },
     "execution_count": 257,
     "metadata": {},
     "output_type": "execute_result"
    }
   ],
   "source": [
    "a1 = {'a','b','c'}\n",
    "b1 = {'d', 'e', 'f'}\n",
    "a1.union(b1)"
   ]
  },
  {
   "cell_type": "markdown",
   "id": "0729b268-c328-433c-acfc-21e1e0890b72",
   "metadata": {},
   "source": [
    "#Intersection"
   ]
  },
  {
   "cell_type": "code",
   "execution_count": 259,
   "id": "ff2f0f7a-021d-4918-bc7e-ff67ad8cad14",
   "metadata": {},
   "outputs": [],
   "source": [
    "A = {1,2,3,4,5}\n",
    "B = {4,5,6,7,8}\n"
   ]
  },
  {
   "cell_type": "code",
   "execution_count": 261,
   "id": "155f6712-79e6-4d6c-b874-f166496037e7",
   "metadata": {},
   "outputs": [
    {
     "data": {
      "text/plain": [
       "{4, 5}"
      ]
     },
     "execution_count": 261,
     "metadata": {},
     "output_type": "execute_result"
    }
   ],
   "source": [
    "A & B #Intersection of A and B i.e. common elements in A & B"
   ]
  },
  {
   "cell_type": "code",
   "execution_count": 263,
   "id": "d0f93518-f9ae-4b07-ae02-082942663a24",
   "metadata": {},
   "outputs": [
    {
     "data": {
      "text/plain": [
       "{4, 5}"
      ]
     },
     "execution_count": 263,
     "metadata": {},
     "output_type": "execute_result"
    }
   ],
   "source": [
    "A.intersection(B) ##Intersection of A and B i.e. common elements in A & B"
   ]
  },
  {
   "cell_type": "markdown",
   "id": "7e875039-287c-48d2-b965-b7f847be62a3",
   "metadata": {},
   "source": [
    "#Difference"
   ]
  },
  {
   "cell_type": "code",
   "execution_count": 265,
   "id": "fbc788fa-0823-4fd6-be4b-bf9d7aeaa83f",
   "metadata": {},
   "outputs": [
    {
     "data": {
      "text/plain": [
       "{1, 2, 3, 4, 5}"
      ]
     },
     "execution_count": 265,
     "metadata": {},
     "output_type": "execute_result"
    }
   ],
   "source": [
    "A"
   ]
  },
  {
   "cell_type": "code",
   "execution_count": 267,
   "id": "ce747322-1655-489b-9e56-104c9a3b19b3",
   "metadata": {},
   "outputs": [
    {
     "data": {
      "text/plain": [
       "{4, 5, 6, 7, 8}"
      ]
     },
     "execution_count": 267,
     "metadata": {},
     "output_type": "execute_result"
    }
   ],
   "source": [
    "B"
   ]
  },
  {
   "cell_type": "code",
   "execution_count": 269,
   "id": "61a6b980-32ee-4ec4-92e3-015fd86ba32b",
   "metadata": {},
   "outputs": [
    {
     "data": {
      "text/plain": [
       "{1, 2, 3}"
      ]
     },
     "execution_count": 269,
     "metadata": {},
     "output_type": "execute_result"
    }
   ],
   "source": [
    "A - B #Set of elements that are only in A but not in B"
   ]
  },
  {
   "cell_type": "code",
   "execution_count": 271,
   "id": "986f5656-a975-43e2-9b99-2671775fa4de",
   "metadata": {},
   "outputs": [
    {
     "data": {
      "text/plain": [
       "{1, 2, 3}"
      ]
     },
     "execution_count": 271,
     "metadata": {},
     "output_type": "execute_result"
    }
   ],
   "source": [
    "A.difference(B) #Set of elements that are only in A but not in B"
   ]
  },
  {
   "cell_type": "code",
   "execution_count": 273,
   "id": "baa329ee-b348-4cd7-9d41-84869c9b460c",
   "metadata": {},
   "outputs": [
    {
     "data": {
      "text/plain": [
       "{6, 7, 8}"
      ]
     },
     "execution_count": 273,
     "metadata": {},
     "output_type": "execute_result"
    }
   ],
   "source": [
    "B - A #Set of elements which are only in B and not in A"
   ]
  },
  {
   "cell_type": "markdown",
   "id": "5e76c008-799f-4ed3-aa93-7cfdbc49a7c2",
   "metadata": {},
   "source": [
    "#Symmetric difference"
   ]
  },
  {
   "cell_type": "code",
   "execution_count": 275,
   "id": "252a0053-29c2-425d-a2a8-bdbbd04853fa",
   "metadata": {},
   "outputs": [
    {
     "data": {
      "text/plain": [
       "{1, 2, 3, 4, 5}"
      ]
     },
     "execution_count": 275,
     "metadata": {},
     "output_type": "execute_result"
    }
   ],
   "source": [
    "A"
   ]
  },
  {
   "cell_type": "code",
   "execution_count": 277,
   "id": "67ae477f-595a-4c14-9b3a-12109080e214",
   "metadata": {},
   "outputs": [
    {
     "data": {
      "text/plain": [
       "{4, 5, 6, 7, 8}"
      ]
     },
     "execution_count": 277,
     "metadata": {},
     "output_type": "execute_result"
    }
   ],
   "source": [
    "B"
   ]
  },
  {
   "cell_type": "code",
   "execution_count": 281,
   "id": "a2dc56ba-7783-484d-977b-c32a09e7be27",
   "metadata": {},
   "outputs": [
    {
     "data": {
      "text/plain": [
       "{1, 2, 3, 6, 7, 8}"
      ]
     },
     "execution_count": 281,
     "metadata": {},
     "output_type": "execute_result"
    }
   ],
   "source": [
    "A ^ B #Symmetric difference i.e. set of elements in A and B but not in both i.e uncommon elements in two sets"
   ]
  },
  {
   "cell_type": "code",
   "execution_count": 283,
   "id": "8f621304-5b40-47c4-8b3e-77dd0cf34bad",
   "metadata": {},
   "outputs": [
    {
     "data": {
      "text/plain": [
       "{1, 2, 3, 6, 7, 8}"
      ]
     },
     "execution_count": 283,
     "metadata": {},
     "output_type": "execute_result"
    }
   ],
   "source": [
    "A.symmetric_difference(B) #Symmetric difference i.e. set of elements in A and B but not in both i.e uncommon elements in two sets"
   ]
  },
  {
   "cell_type": "markdown",
   "id": "de1e3fe9-700b-4d36-942b-5c2ffc8c21d5",
   "metadata": {},
   "source": [
    "#Subset, Superset and Disjoint"
   ]
  },
  {
   "cell_type": "code",
   "execution_count": 285,
   "id": "9c286e1c-01ac-4e79-8537-4df490c663cf",
   "metadata": {},
   "outputs": [],
   "source": [
    "A = {1,2,3,4,5,6,7,8,9}\n",
    "B = {3,4,5,6,7,8}\n",
    "C = {10,20,30,40}"
   ]
  },
  {
   "cell_type": "code",
   "execution_count": 287,
   "id": "e4ecf13b-63fd-44d3-a758-b8567c6ea715",
   "metadata": {},
   "outputs": [
    {
     "data": {
      "text/plain": [
       "True"
      ]
     },
     "execution_count": 287,
     "metadata": {},
     "output_type": "execute_result"
    }
   ],
   "source": [
    "B.issubset(A) #Set B is subset of Set A, if all elements in Set B are present in Set A"
   ]
  },
  {
   "cell_type": "code",
   "execution_count": 289,
   "id": "bd92f045-92d8-40c5-a7f3-0eb7140b159d",
   "metadata": {},
   "outputs": [
    {
     "data": {
      "text/plain": [
       "True"
      ]
     },
     "execution_count": 289,
     "metadata": {},
     "output_type": "execute_result"
    }
   ],
   "source": [
    "A.issuperset(B) #Set A is superset of set B, if all elements in Set B are present in Set A"
   ]
  },
  {
   "cell_type": "code",
   "execution_count": 293,
   "id": "d1e4e8c8-e8db-41d4-aa17-e48faf8b167d",
   "metadata": {},
   "outputs": [
    {
     "data": {
      "text/plain": [
       "True"
      ]
     },
     "execution_count": 293,
     "metadata": {},
     "output_type": "execute_result"
    }
   ],
   "source": [
    "C.isdisjoint(A)  #Two sets are disjoint if they have no common elements"
   ]
  },
  {
   "cell_type": "code",
   "execution_count": 295,
   "id": "5c4137bc-b70b-491a-9860-b1d886e7d882",
   "metadata": {},
   "outputs": [
    {
     "data": {
      "text/plain": [
       "False"
      ]
     },
     "execution_count": 295,
     "metadata": {},
     "output_type": "execute_result"
    }
   ],
   "source": [
    "B.isdisjoint(A)"
   ]
  },
  {
   "cell_type": "markdown",
   "id": "daa6d634-cb02-4d65-a78b-c41e67462905",
   "metadata": {},
   "source": [
    "#Other built in functions"
   ]
  },
  {
   "cell_type": "code",
   "execution_count": 297,
   "id": "da4516ef-ae6a-4790-b836-6bd4b493beb6",
   "metadata": {},
   "outputs": [
    {
     "data": {
      "text/plain": [
       "{1, 2, 3, 4, 5, 6, 7, 8, 9}"
      ]
     },
     "execution_count": 297,
     "metadata": {},
     "output_type": "execute_result"
    }
   ],
   "source": [
    "A"
   ]
  },
  {
   "cell_type": "code",
   "execution_count": 299,
   "id": "a8462091-fbd1-4eb4-bf18-ea8e586bbb55",
   "metadata": {},
   "outputs": [
    {
     "data": {
      "text/plain": [
       "45"
      ]
     },
     "execution_count": 299,
     "metadata": {},
     "output_type": "execute_result"
    }
   ],
   "source": [
    "sum(A)"
   ]
  },
  {
   "cell_type": "code",
   "execution_count": 301,
   "id": "0bf30e16-2917-4fa9-88e6-108ed419204c",
   "metadata": {},
   "outputs": [
    {
     "data": {
      "text/plain": [
       "9"
      ]
     },
     "execution_count": 301,
     "metadata": {},
     "output_type": "execute_result"
    }
   ],
   "source": [
    "max(A)"
   ]
  },
  {
   "cell_type": "code",
   "execution_count": 303,
   "id": "1ef9b373-7ba6-486e-8d11-a7095c52b1d0",
   "metadata": {},
   "outputs": [
    {
     "data": {
      "text/plain": [
       "1"
      ]
     },
     "execution_count": 303,
     "metadata": {},
     "output_type": "execute_result"
    }
   ],
   "source": [
    "min(A)"
   ]
  },
  {
   "cell_type": "code",
   "execution_count": 305,
   "id": "b905f96f-55fe-4254-9a06-a1a448a90e47",
   "metadata": {},
   "outputs": [
    {
     "data": {
      "text/plain": [
       "9"
      ]
     },
     "execution_count": 305,
     "metadata": {},
     "output_type": "execute_result"
    }
   ],
   "source": [
    "len(A)"
   ]
  },
  {
   "cell_type": "code",
   "execution_count": 307,
   "id": "829d9915-5bf8-4a1a-be31-099f6486ddc2",
   "metadata": {},
   "outputs": [
    {
     "data": {
      "text/plain": [
       "[(0, 1), (1, 2), (2, 3), (3, 4), (4, 5), (5, 6), (6, 7), (7, 8), (8, 9)]"
      ]
     },
     "execution_count": 307,
     "metadata": {},
     "output_type": "execute_result"
    }
   ],
   "source": [
    "list(enumerate(A))"
   ]
  },
  {
   "cell_type": "code",
   "execution_count": 311,
   "id": "b0622157-67bc-42d3-80c4-2d7ececcec98",
   "metadata": {},
   "outputs": [
    {
     "data": {
      "text/plain": [
       "[9, 8, 7, 6, 5, 4, 3, 2, 1]"
      ]
     },
     "execution_count": 311,
     "metadata": {},
     "output_type": "execute_result"
    }
   ],
   "source": [
    "D = sorted(A,reverse=True)\n",
    "D"
   ]
  },
  {
   "cell_type": "code",
   "execution_count": 313,
   "id": "5000d461-9d2b-4606-9668-35bf1830f72a",
   "metadata": {},
   "outputs": [
    {
     "data": {
      "text/plain": [
       "[1, 2, 3, 4, 5, 6, 7, 8, 9]"
      ]
     },
     "execution_count": 313,
     "metadata": {},
     "output_type": "execute_result"
    }
   ],
   "source": [
    "sorted(D)"
   ]
  },
  {
   "cell_type": "code",
   "execution_count": null,
   "id": "ccf8da77-7973-4d72-a5b7-a785ca1b161e",
   "metadata": {},
   "outputs": [],
   "source": []
  }
 ],
 "metadata": {
  "kernelspec": {
   "display_name": "Python 3 (ipykernel)",
   "language": "python",
   "name": "python3"
  },
  "language_info": {
   "codemirror_mode": {
    "name": "ipython",
    "version": 3
   },
   "file_extension": ".py",
   "mimetype": "text/x-python",
   "name": "python",
   "nbconvert_exporter": "python",
   "pygments_lexer": "ipython3",
   "version": "3.12.7"
  }
 },
 "nbformat": 4,
 "nbformat_minor": 5
}
