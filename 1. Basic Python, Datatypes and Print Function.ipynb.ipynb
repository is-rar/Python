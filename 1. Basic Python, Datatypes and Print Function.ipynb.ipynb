{
 "cells": [
  {
   "cell_type": "markdown",
   "id": "cfcaa64e-5b1f-4173-9b38-e97d9aae05e5",
   "metadata": {},
   "source": [
    "#DATA SCIENCE AND AI\n",
    "\n",
    "Python\n",
    "\n",
    "Data types\n",
    "\n",
    "1. Integer\n",
    "2. Float\n",
    "3. String\n",
    "4. Boolean\n",
    "5. Complex\n",
    "6. Binary"
   ]
  },
  {
   "cell_type": "markdown",
   "id": "16b02e73-e1c1-4750-8867-12fc30edb467",
   "metadata": {},
   "source": [
    "1. Int\n",
    "\n",
    "*Values without decimal"
   ]
  },
  {
   "cell_type": "code",
   "execution_count": 51,
   "id": "17502315-2b37-4dcc-9228-a183f56371ad",
   "metadata": {},
   "outputs": [
    {
     "data": {
      "text/plain": [
       "3"
      ]
     },
     "execution_count": 51,
     "metadata": {},
     "output_type": "execute_result"
    }
   ],
   "source": [
    "i = 3 #Only single values are allowed\n",
    "i"
   ]
  },
  {
   "cell_type": "code",
   "execution_count": 52,
   "id": "b1e11380-c6fb-4ddd-8097-3a1e81175dfa",
   "metadata": {},
   "outputs": [
    {
     "data": {
      "text/plain": [
       "int"
      ]
     },
     "execution_count": 52,
     "metadata": {},
     "output_type": "execute_result"
    }
   ],
   "source": [
    "type(i)"
   ]
  },
  {
   "cell_type": "code",
   "execution_count": 53,
   "id": "cb066a1c-e8cf-4af1-b722-6b96f0e37ca0",
   "metadata": {},
   "outputs": [],
   "source": [
    "i2 = 2,3,4"
   ]
  },
  {
   "cell_type": "code",
   "execution_count": 54,
   "id": "27d267b0-f2cb-487e-aedf-d3d756909789",
   "metadata": {},
   "outputs": [
    {
     "data": {
      "text/plain": [
       "tuple"
      ]
     },
     "execution_count": 54,
     "metadata": {},
     "output_type": "execute_result"
    }
   ],
   "source": [
    "type(i2)"
   ]
  },
  {
   "cell_type": "markdown",
   "id": "027601d6-9d8e-4376-8a8b-8a8aab021381",
   "metadata": {},
   "source": [
    "2. Float\n",
    "    * Contains decimals\n",
    "    * exponential - e1 is 10"
   ]
  },
  {
   "cell_type": "code",
   "execution_count": 56,
   "id": "35e68d08-029d-4a0c-b8e7-5b6d5db7a1fe",
   "metadata": {},
   "outputs": [
    {
     "data": {
      "text/plain": [
       "110.5"
      ]
     },
     "execution_count": 56,
     "metadata": {},
     "output_type": "execute_result"
    }
   ],
   "source": [
    "petrol = 110.5\n",
    "petrol"
   ]
  },
  {
   "cell_type": "code",
   "execution_count": 57,
   "id": "f1f7bd61-7fa5-4b37-b74c-2744b29e7b23",
   "metadata": {},
   "outputs": [
    {
     "data": {
      "text/plain": [
       "2.0"
      ]
     },
     "execution_count": 57,
     "metadata": {},
     "output_type": "execute_result"
    }
   ],
   "source": [
    "f2 = 2e0\n",
    "f2"
   ]
  },
  {
   "cell_type": "code",
   "execution_count": 58,
   "id": "22f87d55-ed7c-4e95-aab1-e6a2211c85fc",
   "metadata": {},
   "outputs": [
    {
     "data": {
      "text/plain": [
       "20.0"
      ]
     },
     "execution_count": 58,
     "metadata": {},
     "output_type": "execute_result"
    }
   ],
   "source": [
    "f3 = 2e1\n",
    "f3"
   ]
  },
  {
   "cell_type": "code",
   "execution_count": 59,
   "id": "c91c57c5-8fe3-4c3b-b59a-7952fd67151d",
   "metadata": {},
   "outputs": [
    {
     "data": {
      "text/plain": [
       "300.0"
      ]
     },
     "execution_count": 59,
     "metadata": {},
     "output_type": "execute_result"
    }
   ],
   "source": [
    "f4 = 3e2\n",
    "f4"
   ]
  },
  {
   "cell_type": "code",
   "execution_count": 60,
   "id": "498010ad-cec1-4d30-ab8b-8b965e6cf746",
   "metadata": {},
   "outputs": [
    {
     "data": {
      "text/plain": [
       "2400.0"
      ]
     },
     "execution_count": 60,
     "metadata": {},
     "output_type": "execute_result"
    }
   ],
   "source": [
    "f5 = 2.4e3\n",
    "f5"
   ]
  },
  {
   "cell_type": "markdown",
   "id": "8b4a2939-2c26-4cd8-af6c-4e00e5e6421b",
   "metadata": {},
   "source": [
    "* Inbuilt functions covered - print,type, id\n",
    "* Two types of functions - inbuilt and user-defined\n",
    "\n",
    "In statistics\n",
    "\n",
    "Numerical data - Numbers\n",
    "Categorical data - Text"
   ]
  },
  {
   "cell_type": "markdown",
   "id": "dfda5753-b2ac-4a72-b1a3-2c006169d6b0",
   "metadata": {},
   "source": [
    "3. String\n",
    "   *Three ways of defining a string : '', \"\", ''' '''"
   ]
  },
  {
   "cell_type": "code",
   "execution_count": 63,
   "id": "1b206a4a-37e4-4472-99fc-7db26eb6bd80",
   "metadata": {},
   "outputs": [
    {
     "data": {
      "text/plain": [
       "'nit'"
      ]
     },
     "execution_count": 63,
     "metadata": {},
     "output_type": "execute_result"
    }
   ],
   "source": [
    "s = 'nit'\n",
    "s"
   ]
  },
  {
   "cell_type": "code",
   "execution_count": 64,
   "id": "e91b1d25-88da-4976-970e-135f969cdcab",
   "metadata": {},
   "outputs": [
    {
     "data": {
      "text/plain": [
       "'nit tech'"
      ]
     },
     "execution_count": 64,
     "metadata": {},
     "output_type": "execute_result"
    }
   ],
   "source": [
    "s1 = \"nit tech\"\n",
    "s1"
   ]
  },
  {
   "cell_type": "code",
   "execution_count": 65,
   "id": "c3f75f4a-9ea2-4b31-b32a-eff201e7c450",
   "metadata": {},
   "outputs": [
    {
     "data": {
      "text/plain": [
       "'nit tech'"
      ]
     },
     "execution_count": 65,
     "metadata": {},
     "output_type": "execute_result"
    }
   ],
   "source": [
    "s2 = '''nit tech'''\n",
    "s2"
   ]
  },
  {
   "cell_type": "markdown",
   "id": "4e183047-e51c-4a6a-be6f-0d779a8a40b4",
   "metadata": {},
   "source": [
    "Difference between single, double and triple quotes"
   ]
  },
  {
   "cell_type": "code",
   "execution_count": 67,
   "id": "c065264d-c570-44ff-9853-096b27e613b0",
   "metadata": {},
   "outputs": [
    {
     "ename": "SyntaxError",
     "evalue": "unterminated string literal (detected at line 1) (692488236.py, line 1)",
     "output_type": "error",
     "traceback": [
      "\u001b[1;36m  Cell \u001b[1;32mIn[67], line 1\u001b[1;36m\u001b[0m\n\u001b[1;33m    s3 = 'nit\u001b[0m\n\u001b[1;37m         ^\u001b[0m\n\u001b[1;31mSyntaxError\u001b[0m\u001b[1;31m:\u001b[0m unterminated string literal (detected at line 1)\n"
     ]
    }
   ],
   "source": [
    "s3 = 'nit\n",
    "    tech'\n",
    "s3"
   ]
  },
  {
   "cell_type": "code",
   "execution_count": null,
   "id": "0abde6c6-7224-408e-8dbb-31d3f66bcd27",
   "metadata": {},
   "outputs": [],
   "source": [
    "s4 = \"nit\n",
    "    tech\"\n",
    "s4"
   ]
  },
  {
   "cell_type": "code",
   "execution_count": null,
   "id": "d1d99b23-3922-4309-a7bc-12007466c724",
   "metadata": {},
   "outputs": [],
   "source": [
    "s5 = '''nit \n",
    "    tech''' #Triple quotes is used for multipleline strings\n",
    "s5"
   ]
  },
  {
   "cell_type": "markdown",
   "id": "99026196-2d2a-4d41-8e73-f233f0adfaca",
   "metadata": {},
   "source": [
    "4. Boolean\n",
    "   * Either True or False"
   ]
  },
  {
   "cell_type": "code",
   "execution_count": 93,
   "id": "04c1880a-3ae6-4468-91f3-4575cea37f6a",
   "metadata": {},
   "outputs": [
    {
     "ename": "NameError",
     "evalue": "name 'true' is not defined",
     "output_type": "error",
     "traceback": [
      "\u001b[1;31m---------------------------------------------------------------------------\u001b[0m",
      "\u001b[1;31mNameError\u001b[0m                                 Traceback (most recent call last)",
      "Cell \u001b[1;32mIn[93], line 1\u001b[0m\n\u001b[1;32m----> 1\u001b[0m b \u001b[38;5;241m=\u001b[39m true\n\u001b[0;32m      2\u001b[0m b\n",
      "\u001b[1;31mNameError\u001b[0m: name 'true' is not defined"
     ]
    }
   ],
   "source": [
    "b = true\n",
    "b"
   ]
  },
  {
   "cell_type": "code",
   "execution_count": 95,
   "id": "568d3137-54b1-4325-84c5-5d9daa452ffb",
   "metadata": {},
   "outputs": [
    {
     "data": {
      "text/plain": [
       "True"
      ]
     },
     "execution_count": 95,
     "metadata": {},
     "output_type": "execute_result"
    }
   ],
   "source": [
    "b = True\n",
    "b"
   ]
  },
  {
   "cell_type": "code",
   "execution_count": 97,
   "id": "c48a2df7-3b88-4da7-b890-e3380039b5bd",
   "metadata": {},
   "outputs": [
    {
     "data": {
      "text/plain": [
       "False"
      ]
     },
     "execution_count": 97,
     "metadata": {},
     "output_type": "execute_result"
    }
   ],
   "source": [
    "b1 = False\n",
    "b1"
   ]
  },
  {
   "cell_type": "code",
   "execution_count": 99,
   "id": "dd738a5a-c7db-433f-97c9-3a0515a6b20f",
   "metadata": {},
   "outputs": [
    {
     "data": {
      "text/plain": [
       "1"
      ]
     },
     "execution_count": 99,
     "metadata": {},
     "output_type": "execute_result"
    }
   ],
   "source": [
    "b + b1"
   ]
  },
  {
   "cell_type": "code",
   "execution_count": 101,
   "id": "3ce8bdf0-b6cf-42a9-a4e0-1f14c945fdd2",
   "metadata": {},
   "outputs": [
    {
     "data": {
      "text/plain": [
       "1"
      ]
     },
     "execution_count": 101,
     "metadata": {},
     "output_type": "execute_result"
    }
   ],
   "source": [
    "int(True)"
   ]
  },
  {
   "cell_type": "code",
   "execution_count": 103,
   "id": "e9d9cb23-6f86-4f59-928f-641d72a1c2bd",
   "metadata": {},
   "outputs": [
    {
     "data": {
      "text/plain": [
       "0"
      ]
     },
     "execution_count": 103,
     "metadata": {},
     "output_type": "execute_result"
    }
   ],
   "source": [
    "int(False)"
   ]
  },
  {
   "cell_type": "code",
   "execution_count": 105,
   "id": "700c558e-9d85-4bb0-b055-7fe09e524449",
   "metadata": {},
   "outputs": [
    {
     "data": {
      "text/plain": [
       "1"
      ]
     },
     "execution_count": 105,
     "metadata": {},
     "output_type": "execute_result"
    }
   ],
   "source": [
    "True * True - False + False * True #Use Bodmas"
   ]
  },
  {
   "cell_type": "code",
   "execution_count": 107,
   "id": "e91fc899-e75c-40ad-ad65-0ccfc3d22ed8",
   "metadata": {},
   "outputs": [
    {
     "data": {
      "text/plain": [
       "0.0"
      ]
     },
     "execution_count": 107,
     "metadata": {},
     "output_type": "execute_result"
    }
   ],
   "source": [
    "False/True "
   ]
  },
  {
   "cell_type": "code",
   "execution_count": 109,
   "id": "b41219c4-e5dd-4ddb-801f-b313c2993c7b",
   "metadata": {},
   "outputs": [
    {
     "data": {
      "text/plain": [
       "0"
      ]
     },
     "execution_count": 109,
     "metadata": {},
     "output_type": "execute_result"
    }
   ],
   "source": [
    "False//True #Floor division"
   ]
  },
  {
   "cell_type": "code",
   "execution_count": 111,
   "id": "2384cfaf-adce-4dd1-af42-2c3498d50bb8",
   "metadata": {},
   "outputs": [
    {
     "ename": "ZeroDivisionError",
     "evalue": "division by zero",
     "output_type": "error",
     "traceback": [
      "\u001b[1;31m---------------------------------------------------------------------------\u001b[0m",
      "\u001b[1;31mZeroDivisionError\u001b[0m                         Traceback (most recent call last)",
      "Cell \u001b[1;32mIn[111], line 1\u001b[0m\n\u001b[1;32m----> 1\u001b[0m \u001b[38;5;28;01mTrue\u001b[39;00m\u001b[38;5;241m/\u001b[39m\u001b[38;5;28;01mFalse\u001b[39;00m\n",
      "\u001b[1;31mZeroDivisionError\u001b[0m: division by zero"
     ]
    }
   ],
   "source": [
    "True/False #1/0 will give zero division error"
   ]
  },
  {
   "cell_type": "markdown",
   "id": "a73f30c7-9f78-47cd-aefd-42ebd60a49ca",
   "metadata": {},
   "source": [
    "5. Complex\n",
    "   * a+bj"
   ]
  },
  {
   "cell_type": "code",
   "execution_count": 114,
   "id": "0d16591c-b69d-49d9-b089-cb058167ad54",
   "metadata": {},
   "outputs": [
    {
     "data": {
      "text/plain": [
       "(1+2j)"
      ]
     },
     "execution_count": 114,
     "metadata": {},
     "output_type": "execute_result"
    }
   ],
   "source": [
    "c = 1+2j\n",
    "c"
   ]
  },
  {
   "cell_type": "code",
   "execution_count": 116,
   "id": "8de4bf14-8cf9-4738-a52a-b61cd65823b8",
   "metadata": {},
   "outputs": [
    {
     "data": {
      "text/plain": [
       "complex"
      ]
     },
     "execution_count": 116,
     "metadata": {},
     "output_type": "execute_result"
    }
   ],
   "source": [
    "type(c)"
   ]
  },
  {
   "cell_type": "code",
   "execution_count": 118,
   "id": "75c5e209-9aff-4f28-bb3f-2af5330ba8e3",
   "metadata": {},
   "outputs": [
    {
     "data": {
      "text/plain": [
       "1.0"
      ]
     },
     "execution_count": 118,
     "metadata": {},
     "output_type": "execute_result"
    }
   ],
   "source": [
    "c.real #Gives real part"
   ]
  },
  {
   "cell_type": "code",
   "execution_count": 120,
   "id": "b88f182c-48bb-486b-92d3-ae655b1cc57f",
   "metadata": {},
   "outputs": [
    {
     "data": {
      "text/plain": [
       "2.0"
      ]
     },
     "execution_count": 120,
     "metadata": {},
     "output_type": "execute_result"
    }
   ],
   "source": [
    "c.imag #Shows imaginary part"
   ]
  },
  {
   "cell_type": "code",
   "execution_count": 122,
   "id": "f11ad9ca-1254-4c25-8ab0-f7ecd67008a5",
   "metadata": {},
   "outputs": [],
   "source": [
    "d = 2+3j"
   ]
  },
  {
   "cell_type": "markdown",
   "id": "925046ae-69df-48a8-878c-3925a0918631",
   "metadata": {},
   "source": [
    "Print function"
   ]
  },
  {
   "cell_type": "code",
   "execution_count": 125,
   "id": "2e9d5b4b-5c51-437e-aba6-50dba5a697a9",
   "metadata": {},
   "outputs": [
    {
     "name": "stdout",
     "output_type": "stream",
     "text": [
      "(1+2j)\n",
      "(2+3j)\n"
     ]
    }
   ],
   "source": [
    "print(c)\n",
    "print(d)"
   ]
  },
  {
   "cell_type": "code",
   "execution_count": 127,
   "id": "a36dd610-b2af-4786-b2c6-8df9820242d6",
   "metadata": {},
   "outputs": [
    {
     "data": {
      "text/plain": [
       "(3+5j)"
      ]
     },
     "execution_count": 127,
     "metadata": {},
     "output_type": "execute_result"
    }
   ],
   "source": [
    "c + d"
   ]
  },
  {
   "cell_type": "markdown",
   "id": "4cfcb474-8f29-461d-8163-076412be59a7",
   "metadata": {},
   "source": [
    "* fam - variable\n",
    "* family() - function\n",
    "* family(m,d) - 2 arguments or 2 parameters\n",
    "* add(x,y) - function with two arguments\n",
    "* mul(a,b,c) - function with three arguments"
   ]
  },
  {
   "cell_type": "code",
   "execution_count": 130,
   "id": "b3eadc72-51d4-4e64-82f1-03cf661bbb89",
   "metadata": {},
   "outputs": [
    {
     "name": "stdout",
     "output_type": "stream",
     "text": [
      "1\n",
      "1 2\n",
      "1 2 3\n"
     ]
    }
   ],
   "source": [
    "print (1)\n",
    "print (1,2)\n",
    "print (1,2,3)"
   ]
  },
  {
   "cell_type": "markdown",
   "id": "32d9988f-63fb-4e7b-a225-733e187a2730",
   "metadata": {},
   "source": [
    "# Format method"
   ]
  },
  {
   "cell_type": "code",
   "execution_count": 133,
   "id": "3ac41d46-31b7-4e93-a37f-5a1faf316fe6",
   "metadata": {},
   "outputs": [
    {
     "name": "stdout",
     "output_type": "stream",
     "text": [
      "The addition of 20 and 30 = 50\n"
     ]
    }
   ],
   "source": [
    "num1 = 20\n",
    "num2 = 30\n",
    "add = num1 + num2\n",
    "print ('The addition of {} and {} = {}'.format(num1,num2,add))"
   ]
  },
  {
   "cell_type": "code",
   "execution_count": 135,
   "id": "7b4ffa3f-3428-4fa8-a9b6-04b437f3bdb4",
   "metadata": {},
   "outputs": [
    {
     "name": "stdout",
     "output_type": "stream",
     "text": [
      "Hello! My name is Israr. I am from Indore.\n"
     ]
    }
   ],
   "source": [
    "print(\"Hello! My name is {}. I am from {}.\".format('Israr','Indore'))"
   ]
  },
  {
   "cell_type": "code",
   "execution_count": 137,
   "id": "4eb19848-82d0-422c-b8b5-a9a8caea4e80",
   "metadata": {},
   "outputs": [
    {
     "data": {
      "text/plain": [
       "58.333333333333336"
      ]
     },
     "execution_count": 137,
     "metadata": {},
     "output_type": "execute_result"
    }
   ],
   "source": [
    "num1 = 100\n",
    "num2 = 50\n",
    "num3 = 25\n",
    "avg = (num1+num2+num3)/3\n",
    "avg"
   ]
  },
  {
   "cell_type": "code",
   "execution_count": 139,
   "id": "7e1b2f0e-35ee-4921-af9e-1419ef33f750",
   "metadata": {},
   "outputs": [
    {
     "data": {
      "text/plain": [
       "58"
      ]
     },
     "execution_count": 139,
     "metadata": {},
     "output_type": "execute_result"
    }
   ],
   "source": [
    "avg1=round(avg)\n",
    "avg1"
   ]
  },
  {
   "cell_type": "code",
   "execution_count": 141,
   "id": "aba43aa4-4176-4149-b3a8-41df5c443187",
   "metadata": {},
   "outputs": [
    {
     "data": {
      "text/plain": [
       "58.33"
      ]
     },
     "execution_count": 141,
     "metadata": {},
     "output_type": "execute_result"
    }
   ],
   "source": [
    "avg2=round((avg),2)\n",
    "avg2"
   ]
  },
  {
   "cell_type": "code",
   "execution_count": 143,
   "id": "b0cc52d8-92f8-42a0-a7cc-987e59cd75a9",
   "metadata": {},
   "outputs": [
    {
     "data": {
      "text/plain": [
       "58.333"
      ]
     },
     "execution_count": 143,
     "metadata": {},
     "output_type": "execute_result"
    }
   ],
   "source": [
    "avg3 = round((num1+num2+num3)/3,3)\n",
    "avg3"
   ]
  },
  {
   "cell_type": "code",
   "execution_count": 147,
   "id": "fec73741-7fca-4186-8edf-caa791ae1dac",
   "metadata": {},
   "outputs": [
    {
     "name": "stdout",
     "output_type": "stream",
     "text": [
      "The average of 100, 50 and 25 is 58\n"
     ]
    }
   ],
   "source": [
    "print('The average of {}, {} and {} is {}'.format(num1,num2,num3,avg1))"
   ]
  },
  {
   "cell_type": "markdown",
   "id": "7cdd54be-8385-4d57-9a0e-ecd845775df4",
   "metadata": {},
   "source": [
    "f string method"
   ]
  },
  {
   "cell_type": "code",
   "execution_count": 150,
   "id": "01b8cf11-7095-4a95-921c-a343faa1f3d6",
   "metadata": {},
   "outputs": [
    {
     "name": "stdout",
     "output_type": "stream",
     "text": [
      "The addition of 50 and 60 is 110\n"
     ]
    }
   ],
   "source": [
    "num4 = 50\n",
    "num5 = 60\n",
    "add1 = num4 + num5\n",
    "print(f'The addition of {num4} and {num5} is {add1}')"
   ]
  },
  {
   "cell_type": "markdown",
   "id": "bad0c8bc-2444-48ce-bf7a-5ffe0837eeeb",
   "metadata": {},
   "source": [
    "End statement"
   ]
  },
  {
   "cell_type": "code",
   "execution_count": 153,
   "id": "388cc5d9-700d-48a9-b5ae-a04027301eac",
   "metadata": {},
   "outputs": [
    {
     "name": "stdout",
     "output_type": "stream",
     "text": [
      "hello\n",
      "good morning\n"
     ]
    }
   ],
   "source": [
    "print ('hello')\n",
    "print ('good morning')"
   ]
  },
  {
   "cell_type": "code",
   "execution_count": 155,
   "id": "4ae3b4d9-302d-465f-81e0-034031dd782a",
   "metadata": {},
   "outputs": [
    {
     "name": "stdout",
     "output_type": "stream",
     "text": [
      "Hi Srujana, Good morning\n"
     ]
    }
   ],
   "source": [
    "print('Hi', end=' ')\n",
    "print('Srujana, Good morning')"
   ]
  },
  {
   "cell_type": "code",
   "execution_count": 161,
   "id": "b67230ea-10a5-4835-bd3a-f987785303f4",
   "metadata": {},
   "outputs": [
    {
     "name": "stdout",
     "output_type": "stream",
     "text": [
      "Hi. Have a great day, Israr!"
     ]
    }
   ],
   "source": [
    "print('Hi', end='. ')\n",
    "print('Have a great day, Israr', end='!')"
   ]
  },
  {
   "cell_type": "markdown",
   "id": "0dd0c7c4-16c4-470c-8d94-bf1771817957",
   "metadata": {},
   "source": [
    "Separator"
   ]
  },
  {
   "cell_type": "code",
   "execution_count": 164,
   "id": "bd99352e-a9d2-4602-ac9c-9fe5a2495067",
   "metadata": {},
   "outputs": [
    {
     "name": "stdout",
     "output_type": "stream",
     "text": [
      "Hi!Hello!Long time\n"
     ]
    }
   ],
   "source": [
    "print('Hi', 'Hello', 'Long time', sep='!')"
   ]
  },
  {
   "cell_type": "code",
   "execution_count": 168,
   "id": "14c4d6d3-7e71-4d8d-8937-b1e99627e525",
   "metadata": {},
   "outputs": [
    {
     "name": "stdout",
     "output_type": "stream",
     "text": [
      "Hi Hello Long time\n"
     ]
    }
   ],
   "source": [
    "print('Hi','Hello','Long time', sep =' ')"
   ]
  },
  {
   "cell_type": "code",
   "execution_count": 170,
   "id": "1a3d03ca-1a6d-46c1-8265-cb6f406989b7",
   "metadata": {},
   "outputs": [
    {
     "name": "stdout",
     "output_type": "stream",
     "text": [
      "4 .\n"
     ]
    }
   ],
   "source": [
    "print (4,'.')"
   ]
  },
  {
   "cell_type": "code",
   "execution_count": 174,
   "id": "6a604e7a-e2a8-4a58-a1b9-a3a536de2867",
   "metadata": {},
   "outputs": [
    {
     "name": "stdout",
     "output_type": "stream",
     "text": [
      "4.\n"
     ]
    }
   ],
   "source": [
    "print (4,'.', sep = '') #Also used to reduce space"
   ]
  },
  {
   "cell_type": "code",
   "execution_count": 178,
   "id": "d60078bd-c8cf-4091-8df3-9d2cc41a88dc",
   "metadata": {},
   "outputs": [
    {
     "data": {
      "text/plain": [
       "float"
      ]
     },
     "execution_count": 178,
     "metadata": {},
     "output_type": "execute_result"
    }
   ],
   "source": [
    "#Interesting information\n",
    "\n",
    "#1. What is the datatype of np.nan?\n",
    "import numpy as np\n",
    "type(np.nan) \n",
    "\n",
    "#NaN is short for Not a number. It is used to represent entries that are undefined. It is also used for representing missing values in a dataset.\n"
   ]
  },
  {
   "cell_type": "code",
   "execution_count": 180,
   "id": "a04765cf-78e6-4695-96c1-6f3a6df85017",
   "metadata": {},
   "outputs": [
    {
     "data": {
      "text/plain": [
       "tuple"
      ]
     },
     "execution_count": 180,
     "metadata": {},
     "output_type": "execute_result"
    }
   ],
   "source": [
    "x = 7,\n",
    "type(x)"
   ]
  },
  {
   "cell_type": "code",
   "execution_count": 182,
   "id": "14db2522-0ea4-4415-83f2-cf735f262e4a",
   "metadata": {},
   "outputs": [
    {
     "data": {
      "text/plain": [
       "tuple"
      ]
     },
     "execution_count": 182,
     "metadata": {},
     "output_type": "execute_result"
    }
   ],
   "source": [
    "x1 = 3,5,7,8\n",
    "type(x1)"
   ]
  },
  {
   "cell_type": "markdown",
   "id": "7212120c-e691-4e47-aa50-49316fcd3a63",
   "metadata": {},
   "source": [
    "Basic Python"
   ]
  },
  {
   "cell_type": "code",
   "execution_count": 187,
   "id": "98b79fae-4448-4a57-bcdd-b88d8ee9ac09",
   "metadata": {},
   "outputs": [
    {
     "ename": "TypeError",
     "evalue": "unsupported operand type(s) for +: 'int' and 'str'",
     "output_type": "error",
     "traceback": [
      "\u001b[1;31m---------------------------------------------------------------------------\u001b[0m",
      "\u001b[1;31mTypeError\u001b[0m                                 Traceback (most recent call last)",
      "Cell \u001b[1;32mIn[187], line 3\u001b[0m\n\u001b[0;32m      1\u001b[0m a \u001b[38;5;241m=\u001b[39m \u001b[38;5;241m3\u001b[39m\n\u001b[0;32m      2\u001b[0m b \u001b[38;5;241m=\u001b[39m \u001b[38;5;124m'\u001b[39m\u001b[38;5;124ms\u001b[39m\u001b[38;5;124m'\u001b[39m\n\u001b[1;32m----> 3\u001b[0m a \u001b[38;5;241m+\u001b[39m b\n",
      "\u001b[1;31mTypeError\u001b[0m: unsupported operand type(s) for +: 'int' and 'str'"
     ]
    }
   ],
   "source": [
    "a = 3\n",
    "b = 's'\n",
    "a + b #Int and string cant be added hence we get an error."
   ]
  },
  {
   "cell_type": "code",
   "execution_count": 189,
   "id": "c865fee9-0507-45c2-b895-efbccf70d448",
   "metadata": {},
   "outputs": [
    {
     "name": "stdout",
     "output_type": "stream",
     "text": [
      "Welcome to Python 3.12's help utility! If this is your first time using\n",
      "Python, you should definitely check out the tutorial at\n",
      "https://docs.python.org/3.12/tutorial/.\n",
      "\n",
      "Enter the name of any module, keyword, or topic to get help on writing\n",
      "Python programs and using Python modules.  To get a list of available\n",
      "modules, keywords, symbols, or topics, enter \"modules\", \"keywords\",\n",
      "\"symbols\", or \"topics\".\n",
      "\n",
      "Each module also comes with a one-line summary of what it does; to list\n",
      "the modules whose name or summary contain a given string such as \"spam\",\n",
      "enter \"modules spam\".\n",
      "\n",
      "To quit this help utility and return to the interpreter,\n",
      "enter \"q\" or \"quit\".\n",
      "\n"
     ]
    },
    {
     "name": "stdin",
     "output_type": "stream",
     "text": [
      "help>  spam\n"
     ]
    },
    {
     "name": "stdout",
     "output_type": "stream",
     "text": [
      "No Python documentation found for 'spam'.\n",
      "Use help() to get the interactive help utility.\n",
      "Use help(str) for help on the str class.\n",
      "\n"
     ]
    },
    {
     "name": "stdin",
     "output_type": "stream",
     "text": [
      "help>  q\n"
     ]
    },
    {
     "name": "stdout",
     "output_type": "stream",
     "text": [
      "\n",
      "You are now leaving help and returning to the Python interpreter.\n",
      "If you want to ask for help on a particular object directly from the\n",
      "interpreter, you can type \"help(object)\".  Executing \"help('string')\"\n",
      "has the same effect as typing a particular string at the help> prompt.\n"
     ]
    }
   ],
   "source": [
    "help()"
   ]
  },
  {
   "cell_type": "code",
   "execution_count": 191,
   "id": "7a8d2c30-03f3-440c-9dbf-97925331a615",
   "metadata": {},
   "outputs": [
    {
     "name": "stdout",
     "output_type": "stream",
     "text": [
      "Welcome to Python 3.12's help utility! If this is your first time using\n",
      "Python, you should definitely check out the tutorial at\n",
      "https://docs.python.org/3.12/tutorial/.\n",
      "\n",
      "Enter the name of any module, keyword, or topic to get help on writing\n",
      "Python programs and using Python modules.  To get a list of available\n",
      "modules, keywords, symbols, or topics, enter \"modules\", \"keywords\",\n",
      "\"symbols\", or \"topics\".\n",
      "\n",
      "Each module also comes with a one-line summary of what it does; to list\n",
      "the modules whose name or summary contain a given string such as \"spam\",\n",
      "enter \"modules spam\".\n",
      "\n",
      "To quit this help utility and return to the interpreter,\n",
      "enter \"q\" or \"quit\".\n",
      "\n"
     ]
    },
    {
     "name": "stdin",
     "output_type": "stream",
     "text": [
      "help>  keyword\n"
     ]
    },
    {
     "name": "stdout",
     "output_type": "stream",
     "text": [
      "Help on module keyword:\n",
      "\n",
      "NAME\n",
      "    keyword - Keywords (from \"Grammar/python.gram\")\n",
      "\n",
      "MODULE REFERENCE\n",
      "    https://docs.python.org/3.12/library/keyword.html\n",
      "\n",
      "    The following documentation is automatically generated from the Python\n",
      "    source files.  It may be incomplete, incorrect or include features that\n",
      "    are considered implementation detail and may vary between Python\n",
      "    implementations.  When in doubt, consult the module reference at the\n",
      "    location listed above.\n",
      "\n",
      "DESCRIPTION\n",
      "    This file is automatically generated; please don't muck it up!\n",
      "\n",
      "    To update the symbols in this file, 'cd' to the top directory of\n",
      "    the python source tree and run:\n",
      "\n",
      "        PYTHONPATH=Tools/peg_generator python3 -m pegen.keywordgen         Grammar/python.gram         Grammar/Tokens         Lib/keyword.py\n",
      "\n",
      "    Alternatively, you can run 'make regen-keyword'.\n",
      "\n",
      "FUNCTIONS\n",
      "    iskeyword = __contains__(...) method of builtins.frozenset instance\n",
      "        x.__contains__(y) <==> y in x.\n",
      "\n",
      "    issoftkeyword = __contains__(...) method of builtins.frozenset instance\n",
      "        x.__contains__(y) <==> y in x.\n",
      "\n",
      "DATA\n",
      "    __all__ = ['iskeyword', 'issoftkeyword', 'kwlist', 'softkwlist']\n",
      "    kwlist = ['False', 'None', 'True', 'and', 'as', 'assert', 'async', 'aw...\n",
      "    softkwlist = ['_', 'case', 'match', 'type']\n",
      "\n",
      "FILE\n",
      "    c:\\users\\israr\\anaconda3\\lib\\keyword.py\n",
      "\n",
      "\n"
     ]
    },
    {
     "name": "stdin",
     "output_type": "stream",
     "text": [
      "help>  list\n"
     ]
    },
    {
     "name": "stdout",
     "output_type": "stream",
     "text": [
      "Help on class list in module builtins:\n",
      "\n",
      "class list(object)\n",
      " |  list(iterable=(), /)\n",
      " |\n",
      " |  Built-in mutable sequence.\n",
      " |\n",
      " |  If no argument is given, the constructor creates a new empty list.\n",
      " |  The argument must be an iterable if specified.\n",
      " |\n",
      " |  Methods defined here:\n",
      " |\n",
      " |  __add__(self, value, /)\n",
      " |      Return self+value.\n",
      " |\n",
      " |  __contains__(self, key, /)\n",
      " |      Return bool(key in self).\n",
      " |\n",
      " |  __delitem__(self, key, /)\n",
      " |      Delete self[key].\n",
      " |\n",
      " |  __eq__(self, value, /)\n",
      " |      Return self==value.\n",
      " |\n",
      " |  __ge__(self, value, /)\n",
      " |      Return self>=value.\n",
      " |\n",
      " |  __getattribute__(self, name, /)\n",
      " |      Return getattr(self, name).\n",
      " |\n",
      " |  __getitem__(self, index, /)\n",
      " |      Return self[index].\n",
      " |\n",
      " |  __gt__(self, value, /)\n",
      " |      Return self>value.\n",
      " |\n",
      " |  __iadd__(self, value, /)\n",
      " |      Implement self+=value.\n",
      " |\n",
      " |  __imul__(self, value, /)\n",
      " |      Implement self*=value.\n",
      " |\n",
      " |  __init__(self, /, *args, **kwargs)\n",
      " |      Initialize self.  See help(type(self)) for accurate signature.\n",
      " |\n",
      " |  __iter__(self, /)\n",
      " |      Implement iter(self).\n",
      " |\n",
      " |  __le__(self, value, /)\n",
      " |      Return self<=value.\n",
      " |\n",
      " |  __len__(self, /)\n",
      " |      Return len(self).\n",
      " |\n",
      " |  __lt__(self, value, /)\n",
      " |      Return self<value.\n",
      " |\n",
      " |  __mul__(self, value, /)\n",
      " |      Return self*value.\n",
      " |\n",
      " |  __ne__(self, value, /)\n",
      " |      Return self!=value.\n",
      " |\n",
      " |  __repr__(self, /)\n",
      " |      Return repr(self).\n",
      " |\n",
      " |  __reversed__(self, /)\n",
      " |      Return a reverse iterator over the list.\n",
      " |\n",
      " |  __rmul__(self, value, /)\n",
      " |      Return value*self.\n",
      " |\n",
      " |  __setitem__(self, key, value, /)\n",
      " |      Set self[key] to value.\n",
      " |\n",
      " |  __sizeof__(self, /)\n",
      " |      Return the size of the list in memory, in bytes.\n",
      " |\n",
      " |  append(self, object, /)\n",
      " |      Append object to the end of the list.\n",
      " |\n",
      " |  clear(self, /)\n",
      " |      Remove all items from list.\n",
      " |\n",
      " |  copy(self, /)\n",
      " |      Return a shallow copy of the list.\n",
      " |\n",
      " |  count(self, value, /)\n",
      " |      Return number of occurrences of value.\n",
      " |\n",
      " |  extend(self, iterable, /)\n",
      " |      Extend list by appending elements from the iterable.\n",
      " |\n",
      " |  index(self, value, start=0, stop=9223372036854775807, /)\n",
      " |      Return first index of value.\n",
      " |\n",
      " |      Raises ValueError if the value is not present.\n",
      " |\n",
      " |  insert(self, index, object, /)\n",
      " |      Insert object before index.\n",
      " |\n",
      " |  pop(self, index=-1, /)\n",
      " |      Remove and return item at index (default last).\n",
      " |\n",
      " |      Raises IndexError if list is empty or index is out of range.\n",
      " |\n",
      " |  remove(self, value, /)\n",
      " |      Remove first occurrence of value.\n",
      " |\n",
      " |      Raises ValueError if the value is not present.\n",
      " |\n",
      " |  reverse(self, /)\n",
      " |      Reverse *IN PLACE*.\n",
      " |\n",
      " |  sort(self, /, *, key=None, reverse=False)\n",
      " |      Sort the list in ascending order and return None.\n",
      " |\n",
      " |      The sort is in-place (i.e. the list itself is modified) and stable (i.e. the\n",
      " |      order of two equal elements is maintained).\n",
      " |\n",
      " |      If a key function is given, apply it once to each list item and sort them,\n",
      " |      ascending or descending, according to their function values.\n",
      " |\n",
      " |      The reverse flag can be set to sort in descending order.\n",
      " |\n",
      " |  ----------------------------------------------------------------------\n",
      " |  Class methods defined here:\n",
      " |\n",
      " |  __class_getitem__(...)\n",
      " |      See PEP 585\n",
      " |\n",
      " |  ----------------------------------------------------------------------\n",
      " |  Static methods defined here:\n",
      " |\n",
      " |  __new__(*args, **kwargs)\n",
      " |      Create and return a new object.  See help(type) for accurate signature.\n",
      " |\n",
      " |  ----------------------------------------------------------------------\n",
      " |  Data and other attributes defined here:\n",
      " |\n",
      " |  __hash__ = None\n",
      "\n"
     ]
    },
    {
     "name": "stdin",
     "output_type": "stream",
     "text": [
      "help>  quit\n"
     ]
    },
    {
     "name": "stdout",
     "output_type": "stream",
     "text": [
      "\n",
      "You are now leaving help and returning to the Python interpreter.\n",
      "If you want to ask for help on a particular object directly from the\n",
      "interpreter, you can type \"help(object)\".  Executing \"help('string')\"\n",
      "has the same effect as typing a particular string at the help> prompt.\n"
     ]
    }
   ],
   "source": [
    "help()"
   ]
  },
  {
   "cell_type": "markdown",
   "id": "a5e17206-be42-4b23-a1a7-aa59c0b98ed8",
   "metadata": {},
   "source": [
    "Range"
   ]
  },
  {
   "cell_type": "code",
   "execution_count": 194,
   "id": "ff0cc6d3-b20b-4a77-bebd-29d65e36041b",
   "metadata": {},
   "outputs": [
    {
     "data": {
      "text/plain": [
       "range(0, 6)"
      ]
     },
     "execution_count": 194,
     "metadata": {},
     "output_type": "execute_result"
    }
   ],
   "source": [
    "range(6)"
   ]
  },
  {
   "cell_type": "code",
   "execution_count": 196,
   "id": "8b3638b4-28cd-4742-87a2-a041cd5d028a",
   "metadata": {},
   "outputs": [
    {
     "data": {
      "text/plain": [
       "[0, 1, 2, 3, 4, 5]"
      ]
     },
     "execution_count": 196,
     "metadata": {},
     "output_type": "execute_result"
    }
   ],
   "source": [
    "list(range(6))"
   ]
  },
  {
   "cell_type": "code",
   "execution_count": 198,
   "id": "349bd4ba-e370-444a-b562-4217c30955c7",
   "metadata": {},
   "outputs": [
    {
     "data": {
      "text/plain": [
       "(0, 1, 2, 3, 4, 5)"
      ]
     },
     "execution_count": 198,
     "metadata": {},
     "output_type": "execute_result"
    }
   ],
   "source": [
    "tuple(range(6))"
   ]
  },
  {
   "cell_type": "code",
   "execution_count": 200,
   "id": "97270796-d57d-43eb-a6fe-4fe0338f2ae2",
   "metadata": {},
   "outputs": [
    {
     "data": {
      "text/plain": [
       "range(10, 20)"
      ]
     },
     "execution_count": 200,
     "metadata": {},
     "output_type": "execute_result"
    }
   ],
   "source": [
    "r = range(10,20)\n",
    "r"
   ]
  },
  {
   "cell_type": "code",
   "execution_count": 202,
   "id": "2a72d22a-686e-468a-b414-33630fdee85f",
   "metadata": {},
   "outputs": [
    {
     "name": "stdout",
     "output_type": "stream",
     "text": [
      "10\n",
      "11\n",
      "12\n",
      "13\n",
      "14\n",
      "15\n",
      "16\n",
      "17\n",
      "18\n",
      "19\n"
     ]
    }
   ],
   "source": [
    "for i in r:\n",
    "    print(i)"
   ]
  },
  {
   "cell_type": "code",
   "execution_count": 204,
   "id": "209f3f18-9e80-4c0c-bb0d-37edcaa3965d",
   "metadata": {},
   "outputs": [
    {
     "data": {
      "text/plain": [
       "range(1, 100, 10)"
      ]
     },
     "execution_count": 204,
     "metadata": {},
     "output_type": "execute_result"
    }
   ],
   "source": [
    "r1 = range(1,100,10)\n",
    "r1"
   ]
  },
  {
   "cell_type": "code",
   "execution_count": 208,
   "id": "1f6af4cf-bb94-4e92-91ac-da1aaea383db",
   "metadata": {},
   "outputs": [
    {
     "name": "stdout",
     "output_type": "stream",
     "text": [
      "1\n",
      "11\n",
      "21\n",
      "31\n",
      "41\n",
      "51\n",
      "61\n",
      "71\n",
      "81\n",
      "91\n"
     ]
    }
   ],
   "source": [
    "for i in r1:\n",
    "    print(i)"
   ]
  },
  {
   "cell_type": "code",
   "execution_count": 210,
   "id": "faa86f90-bbb0-4ecf-8290-9995bab954c2",
   "metadata": {},
   "outputs": [
    {
     "data": {
      "text/plain": [
       "[1, 11, 21, 31, 41, 51, 61, 71, 81, 91]"
      ]
     },
     "execution_count": 210,
     "metadata": {},
     "output_type": "execute_result"
    }
   ],
   "source": [
    "list(r1)"
   ]
  },
  {
   "cell_type": "code",
   "execution_count": 212,
   "id": "6afc1929-ebc8-41f2-914b-560c9182430c",
   "metadata": {},
   "outputs": [
    {
     "data": {
      "text/plain": [
       "(1, 11, 21, 31, 41, 51, 61, 71, 81, 91)"
      ]
     },
     "execution_count": 212,
     "metadata": {},
     "output_type": "execute_result"
    }
   ],
   "source": [
    "tuple(r1)"
   ]
  },
  {
   "cell_type": "code",
   "execution_count": 214,
   "id": "afae0344-8f47-4a8d-970a-4eb8421f275a",
   "metadata": {},
   "outputs": [
    {
     "data": {
      "text/plain": [
       "{1, 11, 21, 31, 41, 51, 61, 71, 81, 91}"
      ]
     },
     "execution_count": 214,
     "metadata": {},
     "output_type": "execute_result"
    }
   ],
   "source": [
    "set(r1)"
   ]
  },
  {
   "cell_type": "code",
   "execution_count": 218,
   "id": "65e3ae83-f462-4585-a6e8-07099f53b99f",
   "metadata": {},
   "outputs": [
    {
     "ename": "TypeError",
     "evalue": "range expected at most 3 arguments, got 4",
     "output_type": "error",
     "traceback": [
      "\u001b[1;31m---------------------------------------------------------------------------\u001b[0m",
      "\u001b[1;31mTypeError\u001b[0m                                 Traceback (most recent call last)",
      "Cell \u001b[1;32mIn[218], line 1\u001b[0m\n\u001b[1;32m----> 1\u001b[0m \u001b[38;5;28mrange\u001b[39m(\u001b[38;5;241m1\u001b[39m,\u001b[38;5;241m10\u001b[39m,\u001b[38;5;241m1\u001b[39m,\u001b[38;5;241m3\u001b[39m)\n",
      "\u001b[1;31mTypeError\u001b[0m: range expected at most 3 arguments, got 4"
     ]
    }
   ],
   "source": [
    "range(1,10,1,3) #range accepts a max of 3 arguements"
   ]
  },
  {
   "cell_type": "code",
   "execution_count": 222,
   "id": "6e7144f6-78f3-4cde-9441-8d07186b5ccc",
   "metadata": {},
   "outputs": [
    {
     "ename": "TypeError",
     "evalue": "range expected at least 1 argument, got 0",
     "output_type": "error",
     "traceback": [
      "\u001b[1;31m---------------------------------------------------------------------------\u001b[0m",
      "\u001b[1;31mTypeError\u001b[0m                                 Traceback (most recent call last)",
      "Cell \u001b[1;32mIn[222], line 1\u001b[0m\n\u001b[1;32m----> 1\u001b[0m r5 \u001b[38;5;241m=\u001b[39m \u001b[38;5;28mrange\u001b[39m()\n",
      "\u001b[1;31mTypeError\u001b[0m: range expected at least 1 argument, got 0"
     ]
    }
   ],
   "source": [
    "r5 = range() #Range accepts min 1 argument"
   ]
  },
  {
   "cell_type": "markdown",
   "id": "ebe5c164-a8a6-42f8-8f68-c03bf5f89663",
   "metadata": {},
   "source": [
    "Number system\n",
    "* Binary - 2 values, Base 2 - 0 to 1\n",
    "* Octal - 8 values, Base 8, 0 to 7\n",
    "* Decimal - 10 values, Base 10, 0 to 9\n",
    "* Hexadecimal - 16 values, Base 16 - 0 to 9 and a,b,c,d,e,f. Real time application - IP address"
   ]
  },
  {
   "cell_type": "code",
   "execution_count": 226,
   "id": "3c1be02a-425d-4123-ac29-f7ae63d07152",
   "metadata": {},
   "outputs": [
    {
     "data": {
      "text/plain": [
       "25"
      ]
     },
     "execution_count": 226,
     "metadata": {},
     "output_type": "execute_result"
    }
   ],
   "source": [
    "25"
   ]
  },
  {
   "cell_type": "code",
   "execution_count": 228,
   "id": "acadbdcd-8a37-45a3-ac66-a4640318db62",
   "metadata": {},
   "outputs": [
    {
     "data": {
      "text/plain": [
       "'0b11001'"
      ]
     },
     "execution_count": 228,
     "metadata": {},
     "output_type": "execute_result"
    }
   ],
   "source": [
    "bin(25)"
   ]
  },
  {
   "cell_type": "code",
   "execution_count": 230,
   "id": "2e1f8b23-8fe5-49ba-9709-77bc7f72406d",
   "metadata": {},
   "outputs": [
    {
     "data": {
      "text/plain": [
       "25"
      ]
     },
     "execution_count": 230,
     "metadata": {},
     "output_type": "execute_result"
    }
   ],
   "source": [
    "int(0b11001)"
   ]
  },
  {
   "cell_type": "code",
   "execution_count": 232,
   "id": "613909af-e3b7-4a34-9b61-6e44f7dfc786",
   "metadata": {},
   "outputs": [
    {
     "data": {
      "text/plain": [
       "'0o31'"
      ]
     },
     "execution_count": 232,
     "metadata": {},
     "output_type": "execute_result"
    }
   ],
   "source": [
    "oct(25)"
   ]
  },
  {
   "cell_type": "code",
   "execution_count": 234,
   "id": "e65ad375-0eea-4f9f-b6ed-941d1689b8f5",
   "metadata": {},
   "outputs": [
    {
     "data": {
      "text/plain": [
       "'0x19'"
      ]
     },
     "execution_count": 234,
     "metadata": {},
     "output_type": "execute_result"
    }
   ],
   "source": [
    "hex(25)"
   ]
  },
  {
   "cell_type": "markdown",
   "id": "2cb30599-6720-4d97-9499-f1eb290dc613",
   "metadata": {},
   "source": [
    "Swap two variables without using a third variable"
   ]
  },
  {
   "cell_type": "code",
   "execution_count": 239,
   "id": "0e724cd2-ab32-415b-bcf5-859104318d63",
   "metadata": {},
   "outputs": [
    {
     "data": {
      "text/plain": [
       "(6, 5)"
      ]
     },
     "execution_count": 239,
     "metadata": {},
     "output_type": "execute_result"
    }
   ],
   "source": [
    "#1. Using a third variable is the usual method\n",
    "a,b = 5,6\n",
    "temp = a\n",
    "a = b\n",
    "b = temp\n",
    "a,b"
   ]
  },
  {
   "cell_type": "code",
   "execution_count": 243,
   "id": "07beb160-045a-42aa-92f9-c0a73a4b8ba2",
   "metadata": {},
   "outputs": [
    {
     "data": {
      "text/plain": [
       "(6, 5)"
      ]
     },
     "execution_count": 243,
     "metadata": {},
     "output_type": "execute_result"
    }
   ],
   "source": [
    "#2. Using addition and substraction\n",
    "a1,b1 = 5,6\n",
    "a1 = a1+b1\n",
    "b1 = a1-b1\n",
    "a1 = a1-b1\n",
    "a1,b1"
   ]
  },
  {
   "cell_type": "code",
   "execution_count": 245,
   "id": "015376eb-fab7-4513-9b98-3c8a9185ca71",
   "metadata": {},
   "outputs": [
    {
     "data": {
      "text/plain": [
       "(10, 50)"
      ]
     },
     "execution_count": 245,
     "metadata": {},
     "output_type": "execute_result"
    }
   ],
   "source": [
    "#3. Using binary number system, XOR\n",
    "a2,b2 = 50, 10\n",
    "a2 = a2 ^ b2\n",
    "b2 = a2 ^ b2\n",
    "a2 = a2 ^ b2\n",
    "a2,b2"
   ]
  },
  {
   "cell_type": "code",
   "execution_count": 247,
   "id": "dcaadf39-786b-4c07-bd2a-80042bd8cf61",
   "metadata": {},
   "outputs": [
    {
     "data": {
      "text/plain": [
       "(6, 5)"
      ]
     },
     "execution_count": 247,
     "metadata": {},
     "output_type": "execute_result"
    }
   ],
   "source": [
    "#4. Most efficient - Swap method\n",
    "a3,b3 = 5,6\n",
    "b3,a3 = a3,b3\n",
    "a3,b3"
   ]
  },
  {
   "cell_type": "code",
   "execution_count": 249,
   "id": "012e1ac5-f4c7-4c57-ad3b-a26a77078032",
   "metadata": {},
   "outputs": [],
   "source": [
    "#Application of Swap - Decorator in Python"
   ]
  },
  {
   "cell_type": "markdown",
   "id": "0e47e472-38b5-427b-b667-71cf2820b24e",
   "metadata": {},
   "source": [
    "Summary\n",
    "* type()\n",
    "* id()\n",
    "* print()\n",
    "* range()\n",
    "* 4 ways to swap two variables"
   ]
  }
 ],
 "metadata": {
  "kernelspec": {
   "display_name": "Python 3 (ipykernel)",
   "language": "python",
   "name": "python3"
  },
  "language_info": {
   "codemirror_mode": {
    "name": "ipython",
    "version": 3
   },
   "file_extension": ".py",
   "mimetype": "text/x-python",
   "name": "python",
   "nbconvert_exporter": "python",
   "pygments_lexer": "ipython3",
   "version": "3.12.7"
  }
 },
 "nbformat": 4,
 "nbformat_minor": 5
}
